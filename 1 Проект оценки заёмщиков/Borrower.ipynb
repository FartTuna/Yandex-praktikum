{
 "cells": [
  {
   "cell_type": "markdown",
   "metadata": {},
   "source": [
    "## Шаг 1. Открытие файла с данными и изучение общей информации"
   ]
  },
  {
   "cell_type": "code",
   "execution_count": 1,
   "metadata": {
    "scrolled": false
   },
   "outputs": [
    {
     "name": "stdout",
     "output_type": "stream",
     "text": [
      "<class 'pandas.core.frame.DataFrame'>\n",
      "RangeIndex: 21525 entries, 0 to 21524\n",
      "Data columns (total 12 columns):\n",
      "children            21525 non-null int64\n",
      "days_employed       19351 non-null float64\n",
      "dob_years           21525 non-null int64\n",
      "education           21525 non-null object\n",
      "education_id        21525 non-null int64\n",
      "family_status       21525 non-null object\n",
      "family_status_id    21525 non-null int64\n",
      "gender              21525 non-null object\n",
      "income_type         21525 non-null object\n",
      "debt                21525 non-null int64\n",
      "total_income        19351 non-null float64\n",
      "purpose             21525 non-null object\n",
      "dtypes: float64(2), int64(5), object(5)\n",
      "memory usage: 2.0+ MB\n"
     ]
    },
    {
     "data": {
      "text/html": [
       "<div>\n",
       "<style scoped>\n",
       "    .dataframe tbody tr th:only-of-type {\n",
       "        vertical-align: middle;\n",
       "    }\n",
       "\n",
       "    .dataframe tbody tr th {\n",
       "        vertical-align: top;\n",
       "    }\n",
       "\n",
       "    .dataframe thead th {\n",
       "        text-align: right;\n",
       "    }\n",
       "</style>\n",
       "<table border=\"1\" class=\"dataframe\">\n",
       "  <thead>\n",
       "    <tr style=\"text-align: right;\">\n",
       "      <th></th>\n",
       "      <th>children</th>\n",
       "      <th>days_employed</th>\n",
       "      <th>dob_years</th>\n",
       "      <th>education</th>\n",
       "      <th>education_id</th>\n",
       "      <th>family_status</th>\n",
       "      <th>family_status_id</th>\n",
       "      <th>gender</th>\n",
       "      <th>income_type</th>\n",
       "      <th>debt</th>\n",
       "      <th>total_income</th>\n",
       "      <th>purpose</th>\n",
       "    </tr>\n",
       "  </thead>\n",
       "  <tbody>\n",
       "    <tr>\n",
       "      <td>0</td>\n",
       "      <td>1</td>\n",
       "      <td>-8437.673028</td>\n",
       "      <td>42</td>\n",
       "      <td>высшее</td>\n",
       "      <td>0</td>\n",
       "      <td>женат / замужем</td>\n",
       "      <td>0</td>\n",
       "      <td>F</td>\n",
       "      <td>сотрудник</td>\n",
       "      <td>0</td>\n",
       "      <td>253875.639453</td>\n",
       "      <td>покупка жилья</td>\n",
       "    </tr>\n",
       "    <tr>\n",
       "      <td>1</td>\n",
       "      <td>1</td>\n",
       "      <td>-4024.803754</td>\n",
       "      <td>36</td>\n",
       "      <td>среднее</td>\n",
       "      <td>1</td>\n",
       "      <td>женат / замужем</td>\n",
       "      <td>0</td>\n",
       "      <td>F</td>\n",
       "      <td>сотрудник</td>\n",
       "      <td>0</td>\n",
       "      <td>112080.014102</td>\n",
       "      <td>приобретение автомобиля</td>\n",
       "    </tr>\n",
       "    <tr>\n",
       "      <td>2</td>\n",
       "      <td>0</td>\n",
       "      <td>-5623.422610</td>\n",
       "      <td>33</td>\n",
       "      <td>Среднее</td>\n",
       "      <td>1</td>\n",
       "      <td>женат / замужем</td>\n",
       "      <td>0</td>\n",
       "      <td>M</td>\n",
       "      <td>сотрудник</td>\n",
       "      <td>0</td>\n",
       "      <td>145885.952297</td>\n",
       "      <td>покупка жилья</td>\n",
       "    </tr>\n",
       "    <tr>\n",
       "      <td>3</td>\n",
       "      <td>3</td>\n",
       "      <td>-4124.747207</td>\n",
       "      <td>32</td>\n",
       "      <td>среднее</td>\n",
       "      <td>1</td>\n",
       "      <td>женат / замужем</td>\n",
       "      <td>0</td>\n",
       "      <td>M</td>\n",
       "      <td>сотрудник</td>\n",
       "      <td>0</td>\n",
       "      <td>267628.550329</td>\n",
       "      <td>дополнительное образование</td>\n",
       "    </tr>\n",
       "    <tr>\n",
       "      <td>4</td>\n",
       "      <td>0</td>\n",
       "      <td>340266.072047</td>\n",
       "      <td>53</td>\n",
       "      <td>среднее</td>\n",
       "      <td>1</td>\n",
       "      <td>гражданский брак</td>\n",
       "      <td>1</td>\n",
       "      <td>F</td>\n",
       "      <td>пенсионер</td>\n",
       "      <td>0</td>\n",
       "      <td>158616.077870</td>\n",
       "      <td>сыграть свадьбу</td>\n",
       "    </tr>\n",
       "  </tbody>\n",
       "</table>\n",
       "</div>"
      ],
      "text/plain": [
       "   children  days_employed  dob_years education  education_id  \\\n",
       "0         1   -8437.673028         42    высшее             0   \n",
       "1         1   -4024.803754         36   среднее             1   \n",
       "2         0   -5623.422610         33   Среднее             1   \n",
       "3         3   -4124.747207         32   среднее             1   \n",
       "4         0  340266.072047         53   среднее             1   \n",
       "\n",
       "      family_status  family_status_id gender income_type  debt   total_income  \\\n",
       "0   женат / замужем                 0      F   сотрудник     0  253875.639453   \n",
       "1   женат / замужем                 0      F   сотрудник     0  112080.014102   \n",
       "2   женат / замужем                 0      M   сотрудник     0  145885.952297   \n",
       "3   женат / замужем                 0      M   сотрудник     0  267628.550329   \n",
       "4  гражданский брак                 1      F   пенсионер     0  158616.077870   \n",
       "\n",
       "                      purpose  \n",
       "0               покупка жилья  \n",
       "1     приобретение автомобиля  \n",
       "2               покупка жилья  \n",
       "3  дополнительное образование  \n",
       "4             сыграть свадьбу  "
      ]
     },
     "execution_count": 1,
     "metadata": {},
     "output_type": "execute_result"
    }
   ],
   "source": [
    "import pandas as pd\n",
    "data = pd.read_csv('/datasets/data.csv')\n",
    "data.info()\n",
    "data.head()"
   ]
  },
  {
   "cell_type": "markdown",
   "metadata": {},
   "source": [
    "Наша задача - найти взаимосвязь между количеством детей, семейным положением и добросовестным исполнением обязанностей заемщика.\n",
    "\n",
    "Из информации о загруженной базе данных от банка мы видим, что у нас есть гораздо больше столбцов с данными, чем нам нужно, к тому же, в них есть пропуски. мы могли бы бороть все их, но это пустая трата времени, т.к. в нашем исследовании мы попрасту не будем обращаться к ним, поэтому, на мой взлягд, после стадии определения дубликатов нам просто стоит удалить из БД столбцы, которые нам не понадобятся.\n",
    "\n",
    "P.S. Если мы удалим их ДО, то могут возникнуть \"лжедубликаты\" которые будут индентичны в оставшихся столбцах, но в удаленных они могли бы отличаться."
   ]
  },
  {
   "cell_type": "markdown",
   "metadata": {},
   "source": [
    "## Шаг 2. Предобработка данных"
   ]
  },
  {
   "cell_type": "markdown",
   "metadata": {},
   "source": [
    "### Обработка пропусков"
   ]
  },
  {
   "cell_type": "markdown",
   "metadata": {},
   "source": [
    "#### Обработка пропусков в столбце \"количество детей в семье\""
   ]
  },
  {
   "cell_type": "code",
   "execution_count": 2,
   "metadata": {},
   "outputs": [
    {
     "data": {
      "text/plain": [
       " 0     14149\n",
       " 1      4818\n",
       " 2      2055\n",
       " 3       330\n",
       " 20       76\n",
       "-1        47\n",
       " 4        41\n",
       " 5         9\n",
       "Name: children, dtype: int64"
      ]
     },
     "execution_count": 2,
     "metadata": {},
     "output_type": "execute_result"
    }
   ],
   "source": [
    "data['children'].value_counts()"
   ]
  },
  {
   "cell_type": "markdown",
   "metadata": {},
   "source": [
    "В столбце с информацией о кол-ве детей есть явная проблема с двумя из восьми уникальных значений. Если количество детей от 0 до 5 нас вполне устраивает, то на значениях \"-1\" и \"20\" стоит заострить внимание. С подобными значениями мы работать явно не можем, да и корректную информацию о количестве детей данных зайемщиков нам взять неоткуда.\n",
    "\n",
    "Общее число подобных случаев составляет 76 + 47 = 123, т.е. 123 / 21525 = 0.57% от общих данных. Думаю, таким количеством данных мы можем пожертвовать и просто удалить её из нашей БД:"
   ]
  },
  {
   "cell_type": "code",
   "execution_count": 3,
   "metadata": {},
   "outputs": [],
   "source": [
    "data.drop(data[data.children == -1].index, inplace = True)\n",
    "data.drop(data[data.children == 20].index, inplace = True)\n",
    "data = data.reset_index(drop = True)"
   ]
  },
  {
   "cell_type": "markdown",
   "metadata": {},
   "source": [
    "Мы удалили строки с заведомо ошибочными значениями в столбце информации о детях, проверим, какие уникальные значения в этом столбце у нас остались:"
   ]
  },
  {
   "cell_type": "code",
   "execution_count": 4,
   "metadata": {},
   "outputs": [
    {
     "data": {
      "text/plain": [
       "array([1, 0, 3, 2, 4, 5])"
      ]
     },
     "execution_count": 4,
     "metadata": {},
     "output_type": "execute_result"
    }
   ],
   "source": [
    "data['children'].unique()"
   ]
  },
  {
   "cell_type": "markdown",
   "metadata": {},
   "source": [
    "#### Обработка пропусков в столбцах \"семейное положение\" и \"идентификатор семейного положения\""
   ]
  },
  {
   "cell_type": "markdown",
   "metadata": {},
   "source": [
    "Теперь проверим на пропуски вторую группу важных для нас столбцов - \"Семейное положение\" и \"идентификатор семейного положения\":"
   ]
  },
  {
   "cell_type": "code",
   "execution_count": 5,
   "metadata": {},
   "outputs": [
    {
     "data": {
      "text/plain": [
       "женат / замужем          12302\n",
       "гражданский брак          4160\n",
       "Не женат / не замужем     2799\n",
       "в разводе                 1189\n",
       "вдовец / вдова             952\n",
       "Name: family_status, dtype: int64"
      ]
     },
     "execution_count": 5,
     "metadata": {},
     "output_type": "execute_result"
    }
   ],
   "source": [
    "data['family_status'].value_counts()"
   ]
  },
  {
   "cell_type": "code",
   "execution_count": 6,
   "metadata": {},
   "outputs": [
    {
     "data": {
      "text/plain": [
       "0    12302\n",
       "1     4160\n",
       "4     2799\n",
       "3     1189\n",
       "2      952\n",
       "Name: family_status_id, dtype: int64"
      ]
     },
     "execution_count": 6,
     "metadata": {},
     "output_type": "execute_result"
    }
   ],
   "source": [
    "data['family_status_id'].value_counts()"
   ]
  },
  {
   "cell_type": "markdown",
   "metadata": {},
   "source": [
    "В столбе с информацией о семейном положении найдено 5 вариантов ответа и все выглядят подходящими и логичными. Сделаем вывод, что в данном столбе необходимость в работе с пропусками отсутствует.\n",
    "Кол-во текстовых вариантов совпадает с кол-вом ID семейных положений."
   ]
  },
  {
   "cell_type": "markdown",
   "metadata": {},
   "source": [
    "#### Обработка пропусков в столбце \"ежемесячный доход\""
   ]
  },
  {
   "cell_type": "markdown",
   "metadata": {},
   "source": [
    "Большое количество пропусков в информации о доходах заемщиков оставить без внимания нельзя, ведь нам необходимо оценить платежеспособность клиентов и  их возможность погашать кредит в срок, а как это сделать, если не по их доходам. Так как получить достоверную информацию у нас не получится, попробуем присвоить пропускам средние/медиальные значения для схожих типов занятости.\n",
    "\n",
    "Для начала посмотрим средние и медиальные значения ежемесячного дохода для каждого типа занятости:"
   ]
  },
  {
   "cell_type": "code",
   "execution_count": 7,
   "metadata": {},
   "outputs": [
    {
     "data": {
      "text/plain": [
       "income_type\n",
       "безработный        131339.751676\n",
       "в декрете           53829.130729\n",
       "госслужащий        170743.143230\n",
       "компаньон          202585.823720\n",
       "пенсионер          137198.468121\n",
       "предприниматель    499163.144947\n",
       "сотрудник          161365.012384\n",
       "студент             98201.625314\n",
       "Name: total_income, dtype: float64"
      ]
     },
     "execution_count": 7,
     "metadata": {},
     "output_type": "execute_result"
    }
   ],
   "source": [
    "avg_salary = data.groupby('income_type')['total_income'].mean()\n",
    "avg_salary"
   ]
  },
  {
   "cell_type": "code",
   "execution_count": 8,
   "metadata": {},
   "outputs": [
    {
     "data": {
      "text/plain": [
       "income_type\n",
       "безработный        131339.751676\n",
       "в декрете           53829.130729\n",
       "госслужащий        150420.150276\n",
       "компаньон          172517.418907\n",
       "пенсионер          118480.837408\n",
       "предприниматель    499163.144947\n",
       "сотрудник          142587.588976\n",
       "студент             98201.625314\n",
       "Name: total_income, dtype: float64"
      ]
     },
     "execution_count": 8,
     "metadata": {},
     "output_type": "execute_result"
    }
   ],
   "source": [
    "median_salary = data.groupby('income_type')['total_income'].median()\n",
    "median_salary"
   ]
  },
  {
   "cell_type": "markdown",
   "metadata": {},
   "source": [
    "Для всех типов занятости (с большим количеством представителей) медиальные значения всегда ниже чем средние. Можно сделать вывод, что в предложенной статистике присутствуют \"богачи\" искажающие значения среднего дохода, поэтому я буду заполнять пропуски медиальными значениями:"
   ]
  },
  {
   "cell_type": "code",
   "execution_count": 9,
   "metadata": {},
   "outputs": [],
   "source": [
    "data['total_income'] = data['total_income'].fillna(value = 0.0) \n",
    "#data.loc[(data['total_income'] == 0.0) & (data['income_type'] == 'госслужащий'), 'total_income'] = median_salary[2]\n",
    "#data.loc[(data['total_income'] == 0.0) & (data['income_type'] == 'компаньон'), 'total_income'] = median_salary[3]\n",
    "#data.loc[(data['total_income'] == 0.0) & (data['income_type'] == 'пенсионер'), 'total_income'] = median_salary[4]\n",
    "#data.loc[(data['total_income'] == 0.0) & (data['income_type'] == 'предприниматель'), 'total_income'] = median_salary[5]\n",
    "#data.loc[(data['total_income'] == 0.0) & (data['income_type'] == 'сотрудник'), 'total_income'] = median_salary[6]\n",
    "#data.info()"
   ]
  },
  {
   "cell_type": "code",
   "execution_count": 10,
   "metadata": {},
   "outputs": [],
   "source": [
    "n = -1\n",
    "for row in data['total_income']:\n",
    "    n += 1\n",
    "    if row == 0.0:\n",
    "        for i in median_salary.index:\n",
    "            if data.loc[n, 'income_type'] == i:\n",
    "                data.loc[n, 'total_income'] = median_salary[i]"
   ]
  },
  {
   "cell_type": "markdown",
   "metadata": {},
   "source": [
    "Теперь все заемщики имеют доход, хоть и не все - реальный."
   ]
  },
  {
   "cell_type": "markdown",
   "metadata": {},
   "source": [
    "**Вывод**"
   ]
  },
  {
   "cell_type": "markdown",
   "metadata": {},
   "source": [
    "Не всегда стоит уделять время пропускам, если они никак не повлияют на результат нашей работы. Однако, если есть пропуски в важной для нашей работы информации, стоит задать себе несколько вопросов: \n",
    "1. Можем ли мы где-то взять утерянную/испорченную иформацию?\n",
    "2. Если пропуски присутствуют в количественных переменных, можем ли мы взять среднее или медиальное значение?\n",
    "3. Можем ли мы пожертвовать \"испорценными\" данными?\n",
    "\n",
    "Чем позже мы ответим \"да\", тем менее точной получится наша работа, но, в любом случае, это будет лучше, чем оперировать заведомо ошибочной информацией."
   ]
  },
  {
   "cell_type": "markdown",
   "metadata": {},
   "source": [
    "### Замена типа данных"
   ]
  },
  {
   "cell_type": "code",
   "execution_count": 11,
   "metadata": {},
   "outputs": [
    {
     "name": "stdout",
     "output_type": "stream",
     "text": [
      "<class 'pandas.core.frame.DataFrame'>\n",
      "RangeIndex: 21402 entries, 0 to 21401\n",
      "Data columns (total 12 columns):\n",
      "children            21402 non-null int64\n",
      "days_employed       19240 non-null float64\n",
      "dob_years           21402 non-null int64\n",
      "education           21402 non-null object\n",
      "education_id        21402 non-null int64\n",
      "family_status       21402 non-null object\n",
      "family_status_id    21402 non-null int64\n",
      "gender              21402 non-null object\n",
      "income_type         21402 non-null object\n",
      "debt                21402 non-null int64\n",
      "total_income        21402 non-null float64\n",
      "purpose             21402 non-null object\n",
      "dtypes: float64(2), int64(5), object(5)\n",
      "memory usage: 2.0+ MB\n"
     ]
    },
    {
     "data": {
      "text/html": [
       "<div>\n",
       "<style scoped>\n",
       "    .dataframe tbody tr th:only-of-type {\n",
       "        vertical-align: middle;\n",
       "    }\n",
       "\n",
       "    .dataframe tbody tr th {\n",
       "        vertical-align: top;\n",
       "    }\n",
       "\n",
       "    .dataframe thead th {\n",
       "        text-align: right;\n",
       "    }\n",
       "</style>\n",
       "<table border=\"1\" class=\"dataframe\">\n",
       "  <thead>\n",
       "    <tr style=\"text-align: right;\">\n",
       "      <th></th>\n",
       "      <th>children</th>\n",
       "      <th>days_employed</th>\n",
       "      <th>dob_years</th>\n",
       "      <th>education</th>\n",
       "      <th>education_id</th>\n",
       "      <th>family_status</th>\n",
       "      <th>family_status_id</th>\n",
       "      <th>gender</th>\n",
       "      <th>income_type</th>\n",
       "      <th>debt</th>\n",
       "      <th>total_income</th>\n",
       "      <th>purpose</th>\n",
       "    </tr>\n",
       "  </thead>\n",
       "  <tbody>\n",
       "    <tr>\n",
       "      <td>0</td>\n",
       "      <td>1</td>\n",
       "      <td>-8437.673028</td>\n",
       "      <td>42</td>\n",
       "      <td>высшее</td>\n",
       "      <td>0</td>\n",
       "      <td>женат / замужем</td>\n",
       "      <td>0</td>\n",
       "      <td>F</td>\n",
       "      <td>сотрудник</td>\n",
       "      <td>0</td>\n",
       "      <td>253875.639453</td>\n",
       "      <td>покупка жилья</td>\n",
       "    </tr>\n",
       "    <tr>\n",
       "      <td>1</td>\n",
       "      <td>1</td>\n",
       "      <td>-4024.803754</td>\n",
       "      <td>36</td>\n",
       "      <td>среднее</td>\n",
       "      <td>1</td>\n",
       "      <td>женат / замужем</td>\n",
       "      <td>0</td>\n",
       "      <td>F</td>\n",
       "      <td>сотрудник</td>\n",
       "      <td>0</td>\n",
       "      <td>112080.014102</td>\n",
       "      <td>приобретение автомобиля</td>\n",
       "    </tr>\n",
       "    <tr>\n",
       "      <td>2</td>\n",
       "      <td>0</td>\n",
       "      <td>-5623.422610</td>\n",
       "      <td>33</td>\n",
       "      <td>Среднее</td>\n",
       "      <td>1</td>\n",
       "      <td>женат / замужем</td>\n",
       "      <td>0</td>\n",
       "      <td>M</td>\n",
       "      <td>сотрудник</td>\n",
       "      <td>0</td>\n",
       "      <td>145885.952297</td>\n",
       "      <td>покупка жилья</td>\n",
       "    </tr>\n",
       "    <tr>\n",
       "      <td>3</td>\n",
       "      <td>3</td>\n",
       "      <td>-4124.747207</td>\n",
       "      <td>32</td>\n",
       "      <td>среднее</td>\n",
       "      <td>1</td>\n",
       "      <td>женат / замужем</td>\n",
       "      <td>0</td>\n",
       "      <td>M</td>\n",
       "      <td>сотрудник</td>\n",
       "      <td>0</td>\n",
       "      <td>267628.550329</td>\n",
       "      <td>дополнительное образование</td>\n",
       "    </tr>\n",
       "    <tr>\n",
       "      <td>4</td>\n",
       "      <td>0</td>\n",
       "      <td>340266.072047</td>\n",
       "      <td>53</td>\n",
       "      <td>среднее</td>\n",
       "      <td>1</td>\n",
       "      <td>гражданский брак</td>\n",
       "      <td>1</td>\n",
       "      <td>F</td>\n",
       "      <td>пенсионер</td>\n",
       "      <td>0</td>\n",
       "      <td>158616.077870</td>\n",
       "      <td>сыграть свадьбу</td>\n",
       "    </tr>\n",
       "  </tbody>\n",
       "</table>\n",
       "</div>"
      ],
      "text/plain": [
       "   children  days_employed  dob_years education  education_id  \\\n",
       "0         1   -8437.673028         42    высшее             0   \n",
       "1         1   -4024.803754         36   среднее             1   \n",
       "2         0   -5623.422610         33   Среднее             1   \n",
       "3         3   -4124.747207         32   среднее             1   \n",
       "4         0  340266.072047         53   среднее             1   \n",
       "\n",
       "      family_status  family_status_id gender income_type  debt   total_income  \\\n",
       "0   женат / замужем                 0      F   сотрудник     0  253875.639453   \n",
       "1   женат / замужем                 0      F   сотрудник     0  112080.014102   \n",
       "2   женат / замужем                 0      M   сотрудник     0  145885.952297   \n",
       "3   женат / замужем                 0      M   сотрудник     0  267628.550329   \n",
       "4  гражданский брак                 1      F   пенсионер     0  158616.077870   \n",
       "\n",
       "                      purpose  \n",
       "0               покупка жилья  \n",
       "1     приобретение автомобиля  \n",
       "2               покупка жилья  \n",
       "3  дополнительное образование  \n",
       "4             сыграть свадьбу  "
      ]
     },
     "execution_count": 11,
     "metadata": {},
     "output_type": "execute_result"
    }
   ],
   "source": [
    "data.info()\n",
    "data.head()"
   ]
  },
  {
   "cell_type": "markdown",
   "metadata": {},
   "source": [
    "Один из наших столбоцов - \"ежемесячный доход\" необоснованно имеет формат вещественного числа, считая заработную плату вплоть до десятитысячных копейки. Пользы от этого мало, но лишняя информация загромождает таблицы и память нашего компьютера, давайте избавимся от ненужной мелочи:"
   ]
  },
  {
   "cell_type": "code",
   "execution_count": 12,
   "metadata": {},
   "outputs": [
    {
     "name": "stdout",
     "output_type": "stream",
     "text": [
      "<class 'pandas.core.frame.DataFrame'>\n",
      "RangeIndex: 21402 entries, 0 to 21401\n",
      "Data columns (total 12 columns):\n",
      "children            21402 non-null int64\n",
      "days_employed       19240 non-null float64\n",
      "dob_years           21402 non-null int64\n",
      "education           21402 non-null object\n",
      "education_id        21402 non-null int64\n",
      "family_status       21402 non-null object\n",
      "family_status_id    21402 non-null int64\n",
      "gender              21402 non-null object\n",
      "income_type         21402 non-null object\n",
      "debt                21402 non-null int64\n",
      "total_income        21402 non-null int64\n",
      "purpose             21402 non-null object\n",
      "dtypes: float64(1), int64(6), object(5)\n",
      "memory usage: 2.0+ MB\n"
     ]
    },
    {
     "data": {
      "text/html": [
       "<div>\n",
       "<style scoped>\n",
       "    .dataframe tbody tr th:only-of-type {\n",
       "        vertical-align: middle;\n",
       "    }\n",
       "\n",
       "    .dataframe tbody tr th {\n",
       "        vertical-align: top;\n",
       "    }\n",
       "\n",
       "    .dataframe thead th {\n",
       "        text-align: right;\n",
       "    }\n",
       "</style>\n",
       "<table border=\"1\" class=\"dataframe\">\n",
       "  <thead>\n",
       "    <tr style=\"text-align: right;\">\n",
       "      <th></th>\n",
       "      <th>children</th>\n",
       "      <th>days_employed</th>\n",
       "      <th>dob_years</th>\n",
       "      <th>education</th>\n",
       "      <th>education_id</th>\n",
       "      <th>family_status</th>\n",
       "      <th>family_status_id</th>\n",
       "      <th>gender</th>\n",
       "      <th>income_type</th>\n",
       "      <th>debt</th>\n",
       "      <th>total_income</th>\n",
       "      <th>purpose</th>\n",
       "    </tr>\n",
       "  </thead>\n",
       "  <tbody>\n",
       "    <tr>\n",
       "      <td>0</td>\n",
       "      <td>1</td>\n",
       "      <td>-8437.673028</td>\n",
       "      <td>42</td>\n",
       "      <td>высшее</td>\n",
       "      <td>0</td>\n",
       "      <td>женат / замужем</td>\n",
       "      <td>0</td>\n",
       "      <td>F</td>\n",
       "      <td>сотрудник</td>\n",
       "      <td>0</td>\n",
       "      <td>253875</td>\n",
       "      <td>покупка жилья</td>\n",
       "    </tr>\n",
       "    <tr>\n",
       "      <td>1</td>\n",
       "      <td>1</td>\n",
       "      <td>-4024.803754</td>\n",
       "      <td>36</td>\n",
       "      <td>среднее</td>\n",
       "      <td>1</td>\n",
       "      <td>женат / замужем</td>\n",
       "      <td>0</td>\n",
       "      <td>F</td>\n",
       "      <td>сотрудник</td>\n",
       "      <td>0</td>\n",
       "      <td>112080</td>\n",
       "      <td>приобретение автомобиля</td>\n",
       "    </tr>\n",
       "    <tr>\n",
       "      <td>2</td>\n",
       "      <td>0</td>\n",
       "      <td>-5623.422610</td>\n",
       "      <td>33</td>\n",
       "      <td>Среднее</td>\n",
       "      <td>1</td>\n",
       "      <td>женат / замужем</td>\n",
       "      <td>0</td>\n",
       "      <td>M</td>\n",
       "      <td>сотрудник</td>\n",
       "      <td>0</td>\n",
       "      <td>145885</td>\n",
       "      <td>покупка жилья</td>\n",
       "    </tr>\n",
       "    <tr>\n",
       "      <td>3</td>\n",
       "      <td>3</td>\n",
       "      <td>-4124.747207</td>\n",
       "      <td>32</td>\n",
       "      <td>среднее</td>\n",
       "      <td>1</td>\n",
       "      <td>женат / замужем</td>\n",
       "      <td>0</td>\n",
       "      <td>M</td>\n",
       "      <td>сотрудник</td>\n",
       "      <td>0</td>\n",
       "      <td>267628</td>\n",
       "      <td>дополнительное образование</td>\n",
       "    </tr>\n",
       "    <tr>\n",
       "      <td>4</td>\n",
       "      <td>0</td>\n",
       "      <td>340266.072047</td>\n",
       "      <td>53</td>\n",
       "      <td>среднее</td>\n",
       "      <td>1</td>\n",
       "      <td>гражданский брак</td>\n",
       "      <td>1</td>\n",
       "      <td>F</td>\n",
       "      <td>пенсионер</td>\n",
       "      <td>0</td>\n",
       "      <td>158616</td>\n",
       "      <td>сыграть свадьбу</td>\n",
       "    </tr>\n",
       "  </tbody>\n",
       "</table>\n",
       "</div>"
      ],
      "text/plain": [
       "   children  days_employed  dob_years education  education_id  \\\n",
       "0         1   -8437.673028         42    высшее             0   \n",
       "1         1   -4024.803754         36   среднее             1   \n",
       "2         0   -5623.422610         33   Среднее             1   \n",
       "3         3   -4124.747207         32   среднее             1   \n",
       "4         0  340266.072047         53   среднее             1   \n",
       "\n",
       "      family_status  family_status_id gender income_type  debt  total_income  \\\n",
       "0   женат / замужем                 0      F   сотрудник     0        253875   \n",
       "1   женат / замужем                 0      F   сотрудник     0        112080   \n",
       "2   женат / замужем                 0      M   сотрудник     0        145885   \n",
       "3   женат / замужем                 0      M   сотрудник     0        267628   \n",
       "4  гражданский брак                 1      F   пенсионер     0        158616   \n",
       "\n",
       "                      purpose  \n",
       "0               покупка жилья  \n",
       "1     приобретение автомобиля  \n",
       "2               покупка жилья  \n",
       "3  дополнительное образование  \n",
       "4             сыграть свадьбу  "
      ]
     },
     "execution_count": 12,
     "metadata": {},
     "output_type": "execute_result"
    }
   ],
   "source": [
    "data['total_income'] = data['total_income'].astype('int')\n",
    "data.info()\n",
    "data.head()"
   ]
  },
  {
   "cell_type": "markdown",
   "metadata": {},
   "source": [
    "**Вывод**"
   ]
  },
  {
   "cell_type": "markdown",
   "metadata": {},
   "source": [
    "Может кто-то и любит большие числа в графе \"заработная плата\", но наша валюта не так крепка, чтобы дорожить долями копеек."
   ]
  },
  {
   "cell_type": "markdown",
   "metadata": {},
   "source": [
    "### Обработка дубликатов"
   ]
  },
  {
   "cell_type": "markdown",
   "metadata": {},
   "source": [
    "Любая система может дать сбой и записать одного и того же клиента несколько раз, поэтому стоит проверить нашу базу данных на подобные ошибки.\n",
    "\n",
    "Если посмотреть на первые пять строк нашей таблицы, мы уже можем обратить внимание, что в столбце \"уровень образования клиента\" регистр букв отличается. Стоит привести его к единому:"
   ]
  },
  {
   "cell_type": "code",
   "execution_count": 13,
   "metadata": {},
   "outputs": [
    {
     "data": {
      "text/plain": [
       "array(['высшее', 'среднее', 'Среднее', 'СРЕДНЕЕ', 'ВЫСШЕЕ',\n",
       "       'неоконченное высшее', 'начальное', 'Высшее',\n",
       "       'НЕОКОНЧЕННОЕ ВЫСШЕЕ', 'Неоконченное высшее', 'НАЧАЛЬНОЕ',\n",
       "       'Начальное', 'Ученая степень', 'УЧЕНАЯ СТЕПЕНЬ', 'ученая степень'],\n",
       "      dtype=object)"
      ]
     },
     "execution_count": 13,
     "metadata": {},
     "output_type": "execute_result"
    }
   ],
   "source": [
    "data['education'].unique()"
   ]
  },
  {
   "cell_type": "code",
   "execution_count": 14,
   "metadata": {},
   "outputs": [
    {
     "data": {
      "text/plain": [
       "array(['высшее', 'среднее', 'неоконченное высшее', 'начальное',\n",
       "       'ученая степень'], dtype=object)"
      ]
     },
     "execution_count": 14,
     "metadata": {},
     "output_type": "execute_result"
    }
   ],
   "source": [
    "data['education'] = data['education'].str.lower()\n",
    "data['education'].unique()"
   ]
  },
  {
   "cell_type": "markdown",
   "metadata": {},
   "source": [
    "С этим разобрались, столбец \"цель получения кредита\" тоже не вызывает доверия и есть причины полагать, что после лемматизации у нас обнаружатся новые дубликаты, но это чуть позже, пока попробуем сбросить полностью дублирующиеся строки:"
   ]
  },
  {
   "cell_type": "code",
   "execution_count": 15,
   "metadata": {},
   "outputs": [
    {
     "name": "stdout",
     "output_type": "stream",
     "text": [
      "<class 'pandas.core.frame.DataFrame'>\n",
      "RangeIndex: 21402 entries, 0 to 21401\n",
      "Data columns (total 12 columns):\n",
      "children            21402 non-null int64\n",
      "days_employed       19240 non-null float64\n",
      "dob_years           21402 non-null int64\n",
      "education           21402 non-null object\n",
      "education_id        21402 non-null int64\n",
      "family_status       21402 non-null object\n",
      "family_status_id    21402 non-null int64\n",
      "gender              21402 non-null object\n",
      "income_type         21402 non-null object\n",
      "debt                21402 non-null int64\n",
      "total_income        21402 non-null int64\n",
      "purpose             21402 non-null object\n",
      "dtypes: float64(1), int64(6), object(5)\n",
      "memory usage: 2.0+ MB\n"
     ]
    }
   ],
   "source": [
    "data.info()"
   ]
  },
  {
   "cell_type": "code",
   "execution_count": 16,
   "metadata": {},
   "outputs": [
    {
     "name": "stdout",
     "output_type": "stream",
     "text": [
      "<class 'pandas.core.frame.DataFrame'>\n",
      "RangeIndex: 21331 entries, 0 to 21330\n",
      "Data columns (total 12 columns):\n",
      "children            21331 non-null int64\n",
      "days_employed       19240 non-null float64\n",
      "dob_years           21331 non-null int64\n",
      "education           21331 non-null object\n",
      "education_id        21331 non-null int64\n",
      "family_status       21331 non-null object\n",
      "family_status_id    21331 non-null int64\n",
      "gender              21331 non-null object\n",
      "income_type         21331 non-null object\n",
      "debt                21331 non-null int64\n",
      "total_income        21331 non-null int64\n",
      "purpose             21331 non-null object\n",
      "dtypes: float64(1), int64(6), object(5)\n",
      "memory usage: 2.0+ MB\n"
     ]
    }
   ],
   "source": [
    "data = data.drop_duplicates()\n",
    "data = data.reset_index(drop = True)\n",
    "data.info()"
   ]
  },
  {
   "cell_type": "markdown",
   "metadata": {},
   "source": [
    "Как мы видим, в наших данных нашлись 71 полный дубликат строки!\n",
    "Теперь, предположим, что заемщик, при заполнении анкеты, случайно ошибся в одном из пунктов, но заметил ошибку только после отправки данных и решил заполнить форму еще раз. Поищим дубликаты без учета каждого из столбцов по одному (за исключением таких как \"общий трудовой стаж в днях\" и \"ежемесячный доход\" т.к. эти показатели крайне индививдуальны и имеют огромный диапазон возможных значений, и, если их убрать, могут найтись дествительно одинаковые клиенты).\n",
    "\n",
    "Начнем с пола:"
   ]
  },
  {
   "cell_type": "code",
   "execution_count": 17,
   "metadata": {},
   "outputs": [
    {
     "name": "stdout",
     "output_type": "stream",
     "text": [
      "<class 'pandas.core.frame.DataFrame'>\n",
      "RangeIndex: 21299 entries, 0 to 21298\n",
      "Data columns (total 12 columns):\n",
      "children            21299 non-null int64\n",
      "days_employed       19240 non-null float64\n",
      "dob_years           21299 non-null int64\n",
      "education           21299 non-null object\n",
      "education_id        21299 non-null int64\n",
      "family_status       21299 non-null object\n",
      "family_status_id    21299 non-null int64\n",
      "gender              21299 non-null object\n",
      "income_type         21299 non-null object\n",
      "debt                21299 non-null int64\n",
      "total_income        21299 non-null int64\n",
      "purpose             21299 non-null object\n",
      "dtypes: float64(1), int64(6), object(5)\n",
      "memory usage: 2.0+ MB\n"
     ]
    }
   ],
   "source": [
    "data = data.drop_duplicates(subset = ['children', 'days_employed', 'dob_years', 'education', 'education_id', 'family_status', 'family_status_id', 'income_type', 'debt', 'total_income', 'purpose'])\n",
    "data = data.reset_index(drop = True)\n",
    "data.info()"
   ]
  },
  {
   "cell_type": "markdown",
   "metadata": {},
   "source": [
    "Еще 32 строки отсеилось. На мой взгляд, крайне маловероятно, что в банке могли встретиться на столько похожие люди с единственным отличием!"
   ]
  },
  {
   "cell_type": "markdown",
   "metadata": {},
   "source": [
    "Теперь проверим, есть ли люди, не сразу вспомнили сколько у них детей:"
   ]
  },
  {
   "cell_type": "code",
   "execution_count": 18,
   "metadata": {},
   "outputs": [
    {
     "name": "stdout",
     "output_type": "stream",
     "text": [
      "<class 'pandas.core.frame.DataFrame'>\n",
      "RangeIndex: 21264 entries, 0 to 21263\n",
      "Data columns (total 12 columns):\n",
      "children            21264 non-null int64\n",
      "days_employed       19240 non-null float64\n",
      "dob_years           21264 non-null int64\n",
      "education           21264 non-null object\n",
      "education_id        21264 non-null int64\n",
      "family_status       21264 non-null object\n",
      "family_status_id    21264 non-null int64\n",
      "gender              21264 non-null object\n",
      "income_type         21264 non-null object\n",
      "debt                21264 non-null int64\n",
      "total_income        21264 non-null int64\n",
      "purpose             21264 non-null object\n",
      "dtypes: float64(1), int64(6), object(5)\n",
      "memory usage: 1.9+ MB\n"
     ]
    }
   ],
   "source": [
    "data = data.drop_duplicates(subset = ['days_employed', 'dob_years', 'education', 'education_id', 'family_status', 'family_status_id', 'gender', 'income_type', 'debt', 'total_income', 'purpose'])\n",
    "data = data.reset_index(drop = True)\n",
    "data.info()"
   ]
  },
  {
   "cell_type": "markdown",
   "metadata": {},
   "source": [
    "Еще 35 человек с одинаковым стажем до дня и заработной платой до рубля, не говоря уже о возрасте, семейном положении и и цели кредита, но отличающихся лишь по количеству детей.\n",
    "\n",
    "Проверим по возрасту:"
   ]
  },
  {
   "cell_type": "code",
   "execution_count": 19,
   "metadata": {},
   "outputs": [
    {
     "name": "stdout",
     "output_type": "stream",
     "text": [
      "<class 'pandas.core.frame.DataFrame'>\n",
      "RangeIndex: 20616 entries, 0 to 20615\n",
      "Data columns (total 12 columns):\n",
      "children            20616 non-null int64\n",
      "days_employed       19240 non-null float64\n",
      "dob_years           20616 non-null int64\n",
      "education           20616 non-null object\n",
      "education_id        20616 non-null int64\n",
      "family_status       20616 non-null object\n",
      "family_status_id    20616 non-null int64\n",
      "gender              20616 non-null object\n",
      "income_type         20616 non-null object\n",
      "debt                20616 non-null int64\n",
      "total_income        20616 non-null int64\n",
      "purpose             20616 non-null object\n",
      "dtypes: float64(1), int64(6), object(5)\n",
      "memory usage: 1.9+ MB\n"
     ]
    }
   ],
   "source": [
    "data = data.drop_duplicates(subset = ['children', 'days_employed', 'education', 'education_id', 'family_status', 'family_status_id', 'gender', 'income_type', 'debt', 'total_income', 'purpose'])\n",
    "data = data.reset_index(drop = True)\n",
    "data.info()"
   ]
  },
  {
   "cell_type": "markdown",
   "metadata": {},
   "source": [
    "Уоу, а это уже пугает. Неужели 562 человека могли \"накосячить\" с возрастом при заполнении анкеты?\n",
    "\n",
    "А что с ошибками в графе \"образование\"?"
   ]
  },
  {
   "cell_type": "code",
   "execution_count": 20,
   "metadata": {},
   "outputs": [
    {
     "name": "stdout",
     "output_type": "stream",
     "text": [
      "<class 'pandas.core.frame.DataFrame'>\n",
      "RangeIndex: 20608 entries, 0 to 20607\n",
      "Data columns (total 12 columns):\n",
      "children            20608 non-null int64\n",
      "days_employed       19240 non-null float64\n",
      "dob_years           20608 non-null int64\n",
      "education           20608 non-null object\n",
      "education_id        20608 non-null int64\n",
      "family_status       20608 non-null object\n",
      "family_status_id    20608 non-null int64\n",
      "gender              20608 non-null object\n",
      "income_type         20608 non-null object\n",
      "debt                20608 non-null int64\n",
      "total_income        20608 non-null int64\n",
      "purpose             20608 non-null object\n",
      "dtypes: float64(1), int64(6), object(5)\n",
      "memory usage: 1.9+ MB\n"
     ]
    }
   ],
   "source": [
    "data = data.drop_duplicates(subset = ['children', 'days_employed', 'dob_years', 'family_status', 'family_status_id', 'gender', 'income_type', 'debt', 'total_income', 'purpose'])\n",
    "data = data.reset_index(drop = True)\n",
    "data.info()"
   ]
  },
  {
   "cell_type": "markdown",
   "metadata": {},
   "source": [
    "Всего 8 человек, не так плохо.\n",
    "\n",
    "А сколько человек с первого раза не справилось с семейным положением?"
   ]
  },
  {
   "cell_type": "code",
   "execution_count": 21,
   "metadata": {},
   "outputs": [
    {
     "name": "stdout",
     "output_type": "stream",
     "text": [
      "<class 'pandas.core.frame.DataFrame'>\n",
      "RangeIndex: 20583 entries, 0 to 20582\n",
      "Data columns (total 12 columns):\n",
      "children            20583 non-null int64\n",
      "days_employed       19240 non-null float64\n",
      "dob_years           20583 non-null int64\n",
      "education           20583 non-null object\n",
      "education_id        20583 non-null int64\n",
      "family_status       20583 non-null object\n",
      "family_status_id    20583 non-null int64\n",
      "gender              20583 non-null object\n",
      "income_type         20583 non-null object\n",
      "debt                20583 non-null int64\n",
      "total_income        20583 non-null int64\n",
      "purpose             20583 non-null object\n",
      "dtypes: float64(1), int64(6), object(5)\n",
      "memory usage: 1.9+ MB\n"
     ]
    }
   ],
   "source": [
    "data = data.drop_duplicates(subset = ['children', 'days_employed', 'dob_years', 'education', 'education_id', 'gender', 'income_type', 'debt', 'total_income', 'purpose'])\n",
    "data = data.reset_index(drop = True)\n",
    "data.info()"
   ]
  },
  {
   "cell_type": "markdown",
   "metadata": {},
   "source": [
    "И еще 25.\n",
    "\n",
    "А с типом занятости?"
   ]
  },
  {
   "cell_type": "code",
   "execution_count": 22,
   "metadata": {},
   "outputs": [
    {
     "name": "stdout",
     "output_type": "stream",
     "text": [
      "<class 'pandas.core.frame.DataFrame'>\n",
      "RangeIndex: 20583 entries, 0 to 20582\n",
      "Data columns (total 12 columns):\n",
      "children            20583 non-null int64\n",
      "days_employed       19240 non-null float64\n",
      "dob_years           20583 non-null int64\n",
      "education           20583 non-null object\n",
      "education_id        20583 non-null int64\n",
      "family_status       20583 non-null object\n",
      "family_status_id    20583 non-null int64\n",
      "gender              20583 non-null object\n",
      "income_type         20583 non-null object\n",
      "debt                20583 non-null int64\n",
      "total_income        20583 non-null int64\n",
      "purpose             20583 non-null object\n",
      "dtypes: float64(1), int64(6), object(5)\n",
      "memory usage: 1.9+ MB\n"
     ]
    }
   ],
   "source": [
    "data = data.drop_duplicates(subset = ['children', 'days_employed', 'dob_years', 'education', 'education_id', 'family_status', 'family_status_id', 'gender', 'debt', 'total_income', 'purpose'])\n",
    "data = data.reset_index(drop = True)\n",
    "data.info()"
   ]
  },
  {
   "cell_type": "markdown",
   "metadata": {},
   "source": [
    "Никого, это радует.\n",
    "\n",
    "А вот теперь мы дошли до очень важного момента: я уверен, что мы можем найти дубликаты, если проанализируем базу данных без учета столбца \"имел ли задолженность по возврату кредитов\", но этот параметр нам крайне важен для анализа, а какой из дубликатов правдивый, а какой нет, мы никак не сможем узнать, поэтому если мы, например, удалим те, в которых значится НАЛИЧИЕ задолженостей, а оставим с их остутсвием, что, по факту, не будет являться действительностью, мы своими руками повлияем на точность нашего анализа.\n",
    "\n",
    "Остается последний вариант, проверка без учета столбца \"цель получения кредита\". Даже если один и тот же человек подкает 2 заявки с разными целями кредита, для нас он все равно дубликат, т.к. мы оцениваем именно людей, а не заявки."
   ]
  },
  {
   "cell_type": "code",
   "execution_count": 23,
   "metadata": {},
   "outputs": [
    {
     "name": "stdout",
     "output_type": "stream",
     "text": [
      "<class 'pandas.core.frame.DataFrame'>\n",
      "RangeIndex: 20354 entries, 0 to 20353\n",
      "Data columns (total 12 columns):\n",
      "children            20354 non-null int64\n",
      "days_employed       19240 non-null float64\n",
      "dob_years           20354 non-null int64\n",
      "education           20354 non-null object\n",
      "education_id        20354 non-null int64\n",
      "family_status       20354 non-null object\n",
      "family_status_id    20354 non-null int64\n",
      "gender              20354 non-null object\n",
      "income_type         20354 non-null object\n",
      "debt                20354 non-null int64\n",
      "total_income        20354 non-null int64\n",
      "purpose             20354 non-null object\n",
      "dtypes: float64(1), int64(6), object(5)\n",
      "memory usage: 1.9+ MB\n"
     ]
    }
   ],
   "source": [
    "data = data.drop_duplicates(subset = ['children', 'days_employed', 'dob_years', 'education', 'education_id', 'family_status', 'family_status_id', 'gender', 'income_type', 'debt', 'total_income'])\n",
    "data = data.reset_index(drop = True)\n",
    "data.info()"
   ]
  },
  {
   "cell_type": "markdown",
   "metadata": {},
   "source": [
    "Нашлось до 229 человек, которые подали заявку на кредит более одного раза!\n",
    "P.S. \"До\" - потому что может быть и более 2 заявков от одного лица."
   ]
  },
  {
   "cell_type": "markdown",
   "metadata": {},
   "source": [
    "**Вывод**"
   ]
  },
  {
   "cell_type": "markdown",
   "metadata": {},
   "source": [
    "К поиску дубликатов стоит подходить основательно, т.к. информация, которую мы анализируем, заполняется простыми людми, которые склонны ошибаться. Если отличие присутствует лишь в одном параментре, но все остальные, включая заработную плату или трудовой стаж схожи вплоть до копейки или трудового дня, стоит задуматься - возможно ли такое?\n",
    "\n",
    "P.S. прошу заметить, что отключение изменения формата столбца \"total_income\" из float64 в int64 путем \"закомментирования\" кода и перезапуска всей страницы не влияет на полученные результаты."
   ]
  },
  {
   "cell_type": "markdown",
   "metadata": {},
   "source": [
    "### Лемматизация"
   ]
  },
  {
   "cell_type": "code",
   "execution_count": 24,
   "metadata": {},
   "outputs": [
    {
     "data": {
      "text/plain": [
       "array(['покупка жилья', 'приобретение автомобиля',\n",
       "       'дополнительное образование', 'сыграть свадьбу',\n",
       "       'операции с жильем', 'образование', 'на проведение свадьбы',\n",
       "       'покупка жилья для семьи', 'покупка недвижимости',\n",
       "       'покупка коммерческой недвижимости', 'покупка жилой недвижимости',\n",
       "       'строительство собственной недвижимости', 'недвижимость',\n",
       "       'строительство недвижимости', 'на покупку подержанного автомобиля',\n",
       "       'на покупку своего автомобиля',\n",
       "       'операции с коммерческой недвижимостью',\n",
       "       'строительство жилой недвижимости', 'жилье',\n",
       "       'операции со своей недвижимостью', 'автомобили',\n",
       "       'заняться образованием', 'сделка с подержанным автомобилем',\n",
       "       'получение образования', 'автомобиль', 'свадьба',\n",
       "       'получение дополнительного образования', 'покупка своего жилья',\n",
       "       'операции с недвижимостью', 'получение высшего образования',\n",
       "       'свой автомобиль', 'сделка с автомобилем',\n",
       "       'профильное образование', 'высшее образование',\n",
       "       'покупка жилья для сдачи', 'на покупку автомобиля', 'ремонт жилью',\n",
       "       'заняться высшим образованием'], dtype=object)"
      ]
     },
     "execution_count": 24,
     "metadata": {},
     "output_type": "execute_result"
    }
   ],
   "source": [
    "data['purpose'].unique()"
   ]
  },
  {
   "cell_type": "markdown",
   "metadata": {},
   "source": [
    "Для анализа нам может потребоваться объединение заявок на кредит в группы и отличным критерием может выступить \"цель получения кредита\", но, как мы видим выше, цели описаны в свободной форме и, при разной формулировке, по сути уникальных не так уж много, поэтому нам стоит сгруппировать их путем лемматизации.\n",
    "\n",
    "После анализа уникальных значений столбца \"цель получения кредита\" можно выделить 6 основных целей:\n",
    "1. Жилье\n",
    "2. Автомобиль \n",
    "3. Образование\n",
    "4. Свадьба\n",
    "5. Недвижимость\n",
    "6. Ремонт\n",
    "\n",
    "P.S. на мой взгляд, категоризация по \"цели получения кредита\" для нашего исследования бесполезна, поэтому цель моего выполнения этого задания: практика и демонстрация усвоения навыка лемматизации."
   ]
  },
  {
   "cell_type": "code",
   "execution_count": 25,
   "metadata": {},
   "outputs": [],
   "source": [
    "from pymystem3 import Mystem\n",
    "m = Mystem()\n",
    "def lemms(text):\n",
    "    lemm_text = m.lemmatize(text)\n",
    "    if 'ремонт' in lemm_text:\n",
    "        return 'ремонт'\n",
    "    if 'жилье' in lemm_text:\n",
    "        return 'жилье'\n",
    "    if 'недвижимость' in lemm_text:\n",
    "        return 'недвижимость'\n",
    "    if 'автомобиль' in lemm_text:\n",
    "        return 'автомобиль'\n",
    "    if 'образование' in lemm_text:\n",
    "        return 'образование'\n",
    "    if 'свадьба' in lemm_text:\n",
    "        return 'свадьба'"
   ]
  },
  {
   "cell_type": "markdown",
   "metadata": {},
   "source": [
    "Когда речь идет о свадьбе - деньги необходимы на организацию, об образовании - на его оплату, об автомобиле - на его покупку, о недвижимости - на покупку или, как выражаются заявители, на операции с ней, но вот среди целей, связанных с жильем, нашлась одна, которая заключалась не в преобретении, а в ремонте, поэтому я решил выделить данную цель в отдельную категорию. Так как слово ремонт всегда сопровождается словом жилье, то я решил эту проблему разместив проверку на слово \"ремонт\" на первое место. Таким образом заявки, касающиеся ремонта жилья помечяются словом \"ремонт\", а остальные уходят в \"жилье\"."
   ]
  },
  {
   "cell_type": "code",
   "execution_count": 26,
   "metadata": {},
   "outputs": [
    {
     "name": "stdout",
     "output_type": "stream",
     "text": [
      "<class 'pandas.core.frame.DataFrame'>\n",
      "RangeIndex: 20354 entries, 0 to 20353\n",
      "Data columns (total 12 columns):\n",
      "children            20354 non-null int64\n",
      "days_employed       19240 non-null float64\n",
      "dob_years           20354 non-null int64\n",
      "education           20354 non-null object\n",
      "education_id        20354 non-null int64\n",
      "family_status       20354 non-null object\n",
      "family_status_id    20354 non-null int64\n",
      "gender              20354 non-null object\n",
      "income_type         20354 non-null object\n",
      "debt                20354 non-null int64\n",
      "total_income        20354 non-null int64\n",
      "purpose             20354 non-null object\n",
      "dtypes: float64(1), int64(6), object(5)\n",
      "memory usage: 1.9+ MB\n"
     ]
    },
    {
     "data": {
      "text/plain": [
       "недвижимость    6023\n",
       "автомобиль      4100\n",
       "образование     3812\n",
       "жилье           3663\n",
       "свадьба         2179\n",
       "ремонт           577\n",
       "Name: purpose, dtype: int64"
      ]
     },
     "execution_count": 26,
     "metadata": {},
     "output_type": "execute_result"
    }
   ],
   "source": [
    "data['purpose'] = data['purpose'].apply(lemms)\n",
    "data.info()\n",
    "data['purpose'].value_counts()"
   ]
  },
  {
   "cell_type": "markdown",
   "metadata": {},
   "source": [
    "**Вывод**"
   ]
  },
  {
   "cell_type": "markdown",
   "metadata": {},
   "source": [
    "Лемматизация помогает сгруппировать одинаковые значения, описанные разными словами, что, в свою очередь, упрощает процесс категоризации для дальнейшего анализа базы данных."
   ]
  },
  {
   "cell_type": "markdown",
   "metadata": {},
   "source": [
    "### Категоризация данных"
   ]
  },
  {
   "cell_type": "markdown",
   "metadata": {},
   "source": [
    "Категоризация данных поможет нам отсечь все лишнее и оставить лишь интересующую в каждом отдельном вопросе информацию.\n",
    "\n",
    "Для оценки влияния количества детей на наличие/отсутствие задолженностей по кредитам отделим эти столбцы и сгруппируем по количеству детей:"
   ]
  },
  {
   "cell_type": "code",
   "execution_count": 27,
   "metadata": {},
   "outputs": [
    {
     "data": {
      "text/html": [
       "<div>\n",
       "<style scoped>\n",
       "    .dataframe tbody tr th:only-of-type {\n",
       "        vertical-align: middle;\n",
       "    }\n",
       "\n",
       "    .dataframe tbody tr th {\n",
       "        vertical-align: top;\n",
       "    }\n",
       "\n",
       "    .dataframe thead th {\n",
       "        text-align: right;\n",
       "    }\n",
       "</style>\n",
       "<table border=\"1\" class=\"dataframe\">\n",
       "  <thead>\n",
       "    <tr style=\"text-align: right;\">\n",
       "      <th></th>\n",
       "      <th>debt</th>\n",
       "    </tr>\n",
       "    <tr>\n",
       "      <th>children</th>\n",
       "      <th></th>\n",
       "    </tr>\n",
       "  </thead>\n",
       "  <tbody>\n",
       "    <tr>\n",
       "      <td>4</td>\n",
       "      <td>10.0%</td>\n",
       "    </tr>\n",
       "    <tr>\n",
       "      <td>2</td>\n",
       "      <td>9.722921914357682%</td>\n",
       "    </tr>\n",
       "    <tr>\n",
       "      <td>1</td>\n",
       "      <td>9.540254694582345%</td>\n",
       "    </tr>\n",
       "    <tr>\n",
       "      <td>3</td>\n",
       "      <td>8.256880733944955%</td>\n",
       "    </tr>\n",
       "    <tr>\n",
       "      <td>0</td>\n",
       "      <td>7.8293413173652695%</td>\n",
       "    </tr>\n",
       "    <tr>\n",
       "      <td>5</td>\n",
       "      <td>0.0%</td>\n",
       "    </tr>\n",
       "  </tbody>\n",
       "</table>\n",
       "</div>"
      ],
      "text/plain": [
       "                         debt\n",
       "children                     \n",
       "4                       10.0%\n",
       "2          9.722921914357682%\n",
       "1          9.540254694582345%\n",
       "3          8.256880733944955%\n",
       "0         7.8293413173652695%\n",
       "5                        0.0%"
      ]
     },
     "execution_count": 27,
     "metadata": {},
     "output_type": "execute_result"
    }
   ],
   "source": [
    "children_debt = data[['children', 'debt',]]\n",
    "children_debt = children_debt.groupby('children').mean().sort_values('debt',ascending = False)\n",
    "children_debt['debt'] = children_debt['debt'] * 100\n",
    "children_debt['debt'] = children_debt['debt'].astype('str') + '%'\n",
    "children_debt"
   ]
  },
  {
   "cell_type": "markdown",
   "metadata": {},
   "source": [
    "В результате мы получили таблицу, где в первом столбце информация о кол-ве детей у заемщика, а справа процент людей с соответствующим кол-вом детей и задолженностью по кредиту.\n",
    "\n",
    "Теперь сгруппируем по семейному статусу"
   ]
  },
  {
   "cell_type": "code",
   "execution_count": 28,
   "metadata": {},
   "outputs": [
    {
     "data": {
      "text/html": [
       "<div>\n",
       "<style scoped>\n",
       "    .dataframe tbody tr th:only-of-type {\n",
       "        vertical-align: middle;\n",
       "    }\n",
       "\n",
       "    .dataframe tbody tr th {\n",
       "        vertical-align: top;\n",
       "    }\n",
       "\n",
       "    .dataframe thead th {\n",
       "        text-align: right;\n",
       "    }\n",
       "</style>\n",
       "<table border=\"1\" class=\"dataframe\">\n",
       "  <thead>\n",
       "    <tr style=\"text-align: right;\">\n",
       "      <th></th>\n",
       "      <th>debt</th>\n",
       "    </tr>\n",
       "    <tr>\n",
       "      <th>family_status</th>\n",
       "      <th></th>\n",
       "    </tr>\n",
       "  </thead>\n",
       "  <tbody>\n",
       "    <tr>\n",
       "      <td>Не женат / не замужем</td>\n",
       "      <td>10.08869179600887%</td>\n",
       "    </tr>\n",
       "    <tr>\n",
       "      <td>гражданский брак</td>\n",
       "      <td>9.534648457258472%</td>\n",
       "    </tr>\n",
       "    <tr>\n",
       "      <td>женат / замужем</td>\n",
       "      <td>7.877744296168747%</td>\n",
       "    </tr>\n",
       "    <tr>\n",
       "      <td>в разводе</td>\n",
       "      <td>7.210300429184549%</td>\n",
       "    </tr>\n",
       "    <tr>\n",
       "      <td>вдовец / вдова</td>\n",
       "      <td>6.892778993435448%</td>\n",
       "    </tr>\n",
       "  </tbody>\n",
       "</table>\n",
       "</div>"
      ],
      "text/plain": [
       "                                     debt\n",
       "family_status                            \n",
       "Не женат / не замужем  10.08869179600887%\n",
       "гражданский брак       9.534648457258472%\n",
       "женат / замужем        7.877744296168747%\n",
       "в разводе              7.210300429184549%\n",
       "вдовец / вдова         6.892778993435448%"
      ]
     },
     "execution_count": 28,
     "metadata": {},
     "output_type": "execute_result"
    }
   ],
   "source": [
    "family_status_debt = data[['family_status', 'debt',]]\n",
    "family_status_debt = family_status_debt.groupby('family_status').mean().sort_values('debt',ascending = False)\n",
    "family_status_debt['debt'] = family_status_debt['debt'] * 100\n",
    "family_status_debt['debt'] = family_status_debt['debt'].astype('str') + '%'\n",
    "family_status_debt"
   ]
  },
  {
   "cell_type": "markdown",
   "metadata": {},
   "source": [
    "Слева - семейное положение, справа - процент людей с данным семейным положением и с задолженностью по кредиту.\n",
    "\n",
    "Теперь изменим параметр, по которому мы группируем. Давайте узнаем, есть ли разница в месячном окладе людей, у которых когда-то была задолженнность по кредиту и тех, кто всегда платил в срок:"
   ]
  },
  {
   "cell_type": "code",
   "execution_count": 29,
   "metadata": {},
   "outputs": [
    {
     "data": {
      "text/html": [
       "<div>\n",
       "<style scoped>\n",
       "    .dataframe tbody tr th:only-of-type {\n",
       "        vertical-align: middle;\n",
       "    }\n",
       "\n",
       "    .dataframe tbody tr th {\n",
       "        vertical-align: top;\n",
       "    }\n",
       "\n",
       "    .dataframe thead th {\n",
       "        text-align: right;\n",
       "    }\n",
       "</style>\n",
       "<table border=\"1\" class=\"dataframe\">\n",
       "  <thead>\n",
       "    <tr style=\"text-align: right;\">\n",
       "      <th></th>\n",
       "      <th>total_income</th>\n",
       "    </tr>\n",
       "    <tr>\n",
       "      <th>debt</th>\n",
       "      <th></th>\n",
       "    </tr>\n",
       "  </thead>\n",
       "  <tbody>\n",
       "    <tr>\n",
       "      <td>0</td>\n",
       "      <td>166869.629385</td>\n",
       "    </tr>\n",
       "    <tr>\n",
       "      <td>1</td>\n",
       "      <td>161423.683995</td>\n",
       "    </tr>\n",
       "  </tbody>\n",
       "</table>\n",
       "</div>"
      ],
      "text/plain": [
       "       total_income\n",
       "debt               \n",
       "0     166869.629385\n",
       "1     161423.683995"
      ]
     },
     "execution_count": 29,
     "metadata": {},
     "output_type": "execute_result"
    }
   ],
   "source": [
    "total_income_debt = data[['total_income', 'debt',]]\n",
    "total_income_debt.groupby('debt').mean().sort_values('total_income',ascending = False)"
   ]
  },
  {
   "cell_type": "markdown",
   "metadata": {},
   "source": [
    "И, наконец, сделаем таблицу, показывающую какой процент людей имел задолженность по кредиту в зависимости от целей этого кредита:"
   ]
  },
  {
   "cell_type": "code",
   "execution_count": 30,
   "metadata": {},
   "outputs": [
    {
     "data": {
      "text/html": [
       "<div>\n",
       "<style scoped>\n",
       "    .dataframe tbody tr th:only-of-type {\n",
       "        vertical-align: middle;\n",
       "    }\n",
       "\n",
       "    .dataframe tbody tr th {\n",
       "        vertical-align: top;\n",
       "    }\n",
       "\n",
       "    .dataframe thead th {\n",
       "        text-align: right;\n",
       "    }\n",
       "</style>\n",
       "<table border=\"1\" class=\"dataframe\">\n",
       "  <thead>\n",
       "    <tr style=\"text-align: right;\">\n",
       "      <th></th>\n",
       "      <th>debt</th>\n",
       "    </tr>\n",
       "    <tr>\n",
       "      <th>purpose</th>\n",
       "      <th></th>\n",
       "    </tr>\n",
       "  </thead>\n",
       "  <tbody>\n",
       "    <tr>\n",
       "      <td>автомобиль</td>\n",
       "      <td>9.634146341463415%</td>\n",
       "    </tr>\n",
       "    <tr>\n",
       "      <td>образование</td>\n",
       "      <td>9.548793284365162%</td>\n",
       "    </tr>\n",
       "    <tr>\n",
       "      <td>свадьба</td>\n",
       "      <td>8.077099586966497%</td>\n",
       "    </tr>\n",
       "    <tr>\n",
       "      <td>недвижимость</td>\n",
       "      <td>7.803420222480491%</td>\n",
       "    </tr>\n",
       "    <tr>\n",
       "      <td>жилье</td>\n",
       "      <td>7.425607425607425%</td>\n",
       "    </tr>\n",
       "    <tr>\n",
       "      <td>ремонт</td>\n",
       "      <td>6.065857885615252%</td>\n",
       "    </tr>\n",
       "  </tbody>\n",
       "</table>\n",
       "</div>"
      ],
      "text/plain": [
       "                            debt\n",
       "purpose                         \n",
       "автомобиль    9.634146341463415%\n",
       "образование   9.548793284365162%\n",
       "свадьба       8.077099586966497%\n",
       "недвижимость  7.803420222480491%\n",
       "жилье         7.425607425607425%\n",
       "ремонт        6.065857885615252%"
      ]
     },
     "execution_count": 30,
     "metadata": {},
     "output_type": "execute_result"
    }
   ],
   "source": [
    "purpose_debt = data[['purpose', 'debt',]]\n",
    "purpose_debt = purpose_debt.groupby('purpose').mean().sort_values('debt',ascending = False)\n",
    "purpose_debt['debt'] = purpose_debt['debt'] * 100\n",
    "purpose_debt['debt'] = purpose_debt['debt'].astype('str') + '%'\n",
    "purpose_debt"
   ]
  },
  {
   "cell_type": "markdown",
   "metadata": {},
   "source": [
    "#### <font color='purple'> Категоризация по количеству детей"
   ]
  },
  {
   "cell_type": "code",
   "execution_count": 31,
   "metadata": {},
   "outputs": [],
   "source": [
    "def howmanychildren (children):\n",
    "    if children == 0:\n",
    "        return 'бездетный'\n",
    "    if children > 2:\n",
    "        return 'многодетный'\n",
    "    return 'есть дети'    "
   ]
  },
  {
   "cell_type": "code",
   "execution_count": 32,
   "metadata": {},
   "outputs": [
    {
     "data": {
      "text/html": [
       "<div>\n",
       "<style scoped>\n",
       "    .dataframe tbody tr th:only-of-type {\n",
       "        vertical-align: middle;\n",
       "    }\n",
       "\n",
       "    .dataframe tbody tr th {\n",
       "        vertical-align: top;\n",
       "    }\n",
       "\n",
       "    .dataframe thead th {\n",
       "        text-align: right;\n",
       "    }\n",
       "</style>\n",
       "<table border=\"1\" class=\"dataframe\">\n",
       "  <thead>\n",
       "    <tr style=\"text-align: right;\">\n",
       "      <th></th>\n",
       "      <th>debt</th>\n",
       "    </tr>\n",
       "    <tr>\n",
       "      <th>how_many_children</th>\n",
       "      <th></th>\n",
       "    </tr>\n",
       "  </thead>\n",
       "  <tbody>\n",
       "    <tr>\n",
       "      <td>есть дети</td>\n",
       "      <td>9.595043819885161%</td>\n",
       "    </tr>\n",
       "    <tr>\n",
       "      <td>многодетный</td>\n",
       "      <td>8.24468085106383%</td>\n",
       "    </tr>\n",
       "    <tr>\n",
       "      <td>бездетный</td>\n",
       "      <td>7.8293413173652695%</td>\n",
       "    </tr>\n",
       "  </tbody>\n",
       "</table>\n",
       "</div>"
      ],
      "text/plain": [
       "                                  debt\n",
       "how_many_children                     \n",
       "есть дети           9.595043819885161%\n",
       "многодетный          8.24468085106383%\n",
       "бездетный          7.8293413173652695%"
      ]
     },
     "execution_count": 32,
     "metadata": {},
     "output_type": "execute_result"
    }
   ],
   "source": [
    "data['how_many_children'] = data['children'].apply(howmanychildren)\n",
    "children_debt_2 = data[['how_many_children', 'debt',]]\n",
    "children_debt_2 = children_debt_2.groupby('how_many_children').mean().sort_values('debt',ascending = False)\n",
    "children_debt_2['debt'] = children_debt_2['debt'] * 100\n",
    "children_debt_2['debt'] = children_debt_2['debt'].astype('str') + '%'\n",
    "children_debt_2"
   ]
  },
  {
   "cell_type": "code",
   "execution_count": 33,
   "metadata": {},
   "outputs": [
    {
     "data": {
      "text/plain": [
       "20667"
      ]
     },
     "execution_count": 33,
     "metadata": {},
     "output_type": "execute_result"
    }
   ],
   "source": [
    "data['total_income'].min()"
   ]
  },
  {
   "cell_type": "code",
   "execution_count": 34,
   "metadata": {},
   "outputs": [
    {
     "data": {
      "text/plain": [
       "2265604"
      ]
     },
     "execution_count": 34,
     "metadata": {},
     "output_type": "execute_result"
    }
   ],
   "source": [
    "data['total_income'].max()"
   ]
  },
  {
   "cell_type": "code",
   "execution_count": 35,
   "metadata": {},
   "outputs": [
    {
     "data": {
      "text/plain": [
       "166411.56421342242"
      ]
     },
     "execution_count": 35,
     "metadata": {},
     "output_type": "execute_result"
    }
   ],
   "source": [
    "data['total_income'].mean()"
   ]
  },
  {
   "cell_type": "code",
   "execution_count": 36,
   "metadata": {},
   "outputs": [
    {
     "data": {
      "text/plain": [
       "143966.0"
      ]
     },
     "execution_count": 36,
     "metadata": {},
     "output_type": "execute_result"
    }
   ],
   "source": [
    "data['total_income'].median()"
   ]
  },
  {
   "cell_type": "code",
   "execution_count": 37,
   "metadata": {},
   "outputs": [
    {
     "data": {
      "text/html": [
       "<div>\n",
       "<style scoped>\n",
       "    .dataframe tbody tr th:only-of-type {\n",
       "        vertical-align: middle;\n",
       "    }\n",
       "\n",
       "    .dataframe tbody tr th {\n",
       "        vertical-align: top;\n",
       "    }\n",
       "\n",
       "    .dataframe thead th {\n",
       "        text-align: right;\n",
       "    }\n",
       "</style>\n",
       "<table border=\"1\" class=\"dataframe\">\n",
       "  <thead>\n",
       "    <tr style=\"text-align: right;\">\n",
       "      <th></th>\n",
       "      <th>children</th>\n",
       "      <th>days_employed</th>\n",
       "      <th>dob_years</th>\n",
       "      <th>education</th>\n",
       "      <th>education_id</th>\n",
       "      <th>family_status</th>\n",
       "      <th>family_status_id</th>\n",
       "      <th>gender</th>\n",
       "      <th>income_type</th>\n",
       "      <th>debt</th>\n",
       "      <th>total_income</th>\n",
       "      <th>purpose</th>\n",
       "      <th>how_many_children</th>\n",
       "    </tr>\n",
       "  </thead>\n",
       "  <tbody>\n",
       "    <tr>\n",
       "      <td>11885</td>\n",
       "      <td>0</td>\n",
       "      <td>-1477.438114</td>\n",
       "      <td>44</td>\n",
       "      <td>высшее</td>\n",
       "      <td>0</td>\n",
       "      <td>женат / замужем</td>\n",
       "      <td>0</td>\n",
       "      <td>M</td>\n",
       "      <td>компаньон</td>\n",
       "      <td>0</td>\n",
       "      <td>2265604</td>\n",
       "      <td>ремонт</td>\n",
       "      <td>бездетный</td>\n",
       "    </tr>\n",
       "    <tr>\n",
       "      <td>18578</td>\n",
       "      <td>1</td>\n",
       "      <td>-2577.664662</td>\n",
       "      <td>39</td>\n",
       "      <td>высшее</td>\n",
       "      <td>0</td>\n",
       "      <td>женат / замужем</td>\n",
       "      <td>0</td>\n",
       "      <td>M</td>\n",
       "      <td>компаньон</td>\n",
       "      <td>1</td>\n",
       "      <td>2200852</td>\n",
       "      <td>недвижимость</td>\n",
       "      <td>есть дети</td>\n",
       "    </tr>\n",
       "    <tr>\n",
       "      <td>8830</td>\n",
       "      <td>1</td>\n",
       "      <td>-5248.554336</td>\n",
       "      <td>35</td>\n",
       "      <td>среднее</td>\n",
       "      <td>1</td>\n",
       "      <td>гражданский брак</td>\n",
       "      <td>1</td>\n",
       "      <td>M</td>\n",
       "      <td>сотрудник</td>\n",
       "      <td>0</td>\n",
       "      <td>1726276</td>\n",
       "      <td>образование</td>\n",
       "      <td>есть дети</td>\n",
       "    </tr>\n",
       "    <tr>\n",
       "      <td>19686</td>\n",
       "      <td>0</td>\n",
       "      <td>-4719.273476</td>\n",
       "      <td>61</td>\n",
       "      <td>среднее</td>\n",
       "      <td>1</td>\n",
       "      <td>Не женат / не замужем</td>\n",
       "      <td>4</td>\n",
       "      <td>F</td>\n",
       "      <td>сотрудник</td>\n",
       "      <td>0</td>\n",
       "      <td>1715018</td>\n",
       "      <td>жилье</td>\n",
       "      <td>бездетный</td>\n",
       "    </tr>\n",
       "    <tr>\n",
       "      <td>16331</td>\n",
       "      <td>0</td>\n",
       "      <td>-5734.127087</td>\n",
       "      <td>42</td>\n",
       "      <td>высшее</td>\n",
       "      <td>0</td>\n",
       "      <td>гражданский брак</td>\n",
       "      <td>1</td>\n",
       "      <td>M</td>\n",
       "      <td>компаньон</td>\n",
       "      <td>0</td>\n",
       "      <td>1711309</td>\n",
       "      <td>свадьба</td>\n",
       "      <td>бездетный</td>\n",
       "    </tr>\n",
       "    <tr>\n",
       "      <td>16630</td>\n",
       "      <td>0</td>\n",
       "      <td>-2285.476482</td>\n",
       "      <td>43</td>\n",
       "      <td>среднее</td>\n",
       "      <td>1</td>\n",
       "      <td>женат / замужем</td>\n",
       "      <td>0</td>\n",
       "      <td>M</td>\n",
       "      <td>компаньон</td>\n",
       "      <td>0</td>\n",
       "      <td>1597613</td>\n",
       "      <td>недвижимость</td>\n",
       "      <td>бездетный</td>\n",
       "    </tr>\n",
       "    <tr>\n",
       "      <td>17443</td>\n",
       "      <td>1</td>\n",
       "      <td>-333.935516</td>\n",
       "      <td>41</td>\n",
       "      <td>высшее</td>\n",
       "      <td>0</td>\n",
       "      <td>гражданский брак</td>\n",
       "      <td>1</td>\n",
       "      <td>M</td>\n",
       "      <td>компаньон</td>\n",
       "      <td>0</td>\n",
       "      <td>1551152</td>\n",
       "      <td>свадьба</td>\n",
       "      <td>есть дети</td>\n",
       "    </tr>\n",
       "    <tr>\n",
       "      <td>17430</td>\n",
       "      <td>1</td>\n",
       "      <td>-3173.282035</td>\n",
       "      <td>41</td>\n",
       "      <td>высшее</td>\n",
       "      <td>0</td>\n",
       "      <td>Не женат / не замужем</td>\n",
       "      <td>4</td>\n",
       "      <td>F</td>\n",
       "      <td>компаньон</td>\n",
       "      <td>0</td>\n",
       "      <td>1427934</td>\n",
       "      <td>автомобиль</td>\n",
       "      <td>есть дети</td>\n",
       "    </tr>\n",
       "    <tr>\n",
       "      <td>14563</td>\n",
       "      <td>1</td>\n",
       "      <td>-10207.448165</td>\n",
       "      <td>64</td>\n",
       "      <td>высшее</td>\n",
       "      <td>0</td>\n",
       "      <td>в разводе</td>\n",
       "      <td>3</td>\n",
       "      <td>M</td>\n",
       "      <td>компаньон</td>\n",
       "      <td>0</td>\n",
       "      <td>1350245</td>\n",
       "      <td>жилье</td>\n",
       "      <td>есть дети</td>\n",
       "    </tr>\n",
       "    <tr>\n",
       "      <td>10624</td>\n",
       "      <td>1</td>\n",
       "      <td>-1851.200013</td>\n",
       "      <td>36</td>\n",
       "      <td>высшее</td>\n",
       "      <td>0</td>\n",
       "      <td>гражданский брак</td>\n",
       "      <td>1</td>\n",
       "      <td>F</td>\n",
       "      <td>сотрудник</td>\n",
       "      <td>0</td>\n",
       "      <td>1286280</td>\n",
       "      <td>недвижимость</td>\n",
       "      <td>есть дети</td>\n",
       "    </tr>\n",
       "    <tr>\n",
       "      <td>2183</td>\n",
       "      <td>1</td>\n",
       "      <td>-4614.851849</td>\n",
       "      <td>42</td>\n",
       "      <td>высшее</td>\n",
       "      <td>0</td>\n",
       "      <td>женат / замужем</td>\n",
       "      <td>0</td>\n",
       "      <td>M</td>\n",
       "      <td>сотрудник</td>\n",
       "      <td>0</td>\n",
       "      <td>1278622</td>\n",
       "      <td>жилье</td>\n",
       "      <td>есть дети</td>\n",
       "    </tr>\n",
       "    <tr>\n",
       "      <td>7212</td>\n",
       "      <td>0</td>\n",
       "      <td>-8626.777234</td>\n",
       "      <td>39</td>\n",
       "      <td>среднее</td>\n",
       "      <td>1</td>\n",
       "      <td>в разводе</td>\n",
       "      <td>3</td>\n",
       "      <td>F</td>\n",
       "      <td>сотрудник</td>\n",
       "      <td>0</td>\n",
       "      <td>1240165</td>\n",
       "      <td>недвижимость</td>\n",
       "      <td>бездетный</td>\n",
       "    </tr>\n",
       "    <tr>\n",
       "      <td>18765</td>\n",
       "      <td>0</td>\n",
       "      <td>-2672.323106</td>\n",
       "      <td>50</td>\n",
       "      <td>высшее</td>\n",
       "      <td>0</td>\n",
       "      <td>женат / замужем</td>\n",
       "      <td>0</td>\n",
       "      <td>F</td>\n",
       "      <td>компаньон</td>\n",
       "      <td>0</td>\n",
       "      <td>1223042</td>\n",
       "      <td>недвижимость</td>\n",
       "      <td>бездетный</td>\n",
       "    </tr>\n",
       "    <tr>\n",
       "      <td>14511</td>\n",
       "      <td>0</td>\n",
       "      <td>-2009.086175</td>\n",
       "      <td>34</td>\n",
       "      <td>среднее</td>\n",
       "      <td>1</td>\n",
       "      <td>женат / замужем</td>\n",
       "      <td>0</td>\n",
       "      <td>F</td>\n",
       "      <td>сотрудник</td>\n",
       "      <td>0</td>\n",
       "      <td>1172459</td>\n",
       "      <td>образование</td>\n",
       "      <td>бездетный</td>\n",
       "    </tr>\n",
       "    <tr>\n",
       "      <td>12524</td>\n",
       "      <td>1</td>\n",
       "      <td>-3531.320534</td>\n",
       "      <td>54</td>\n",
       "      <td>высшее</td>\n",
       "      <td>0</td>\n",
       "      <td>в разводе</td>\n",
       "      <td>3</td>\n",
       "      <td>F</td>\n",
       "      <td>компаньон</td>\n",
       "      <td>0</td>\n",
       "      <td>1128836</td>\n",
       "      <td>недвижимость</td>\n",
       "      <td>есть дети</td>\n",
       "    </tr>\n",
       "    <tr>\n",
       "      <td>9492</td>\n",
       "      <td>2</td>\n",
       "      <td>-3092.259823</td>\n",
       "      <td>56</td>\n",
       "      <td>высшее</td>\n",
       "      <td>0</td>\n",
       "      <td>женат / замужем</td>\n",
       "      <td>0</td>\n",
       "      <td>M</td>\n",
       "      <td>сотрудник</td>\n",
       "      <td>0</td>\n",
       "      <td>1103455</td>\n",
       "      <td>жилье</td>\n",
       "      <td>есть дети</td>\n",
       "    </tr>\n",
       "    <tr>\n",
       "      <td>9617</td>\n",
       "      <td>0</td>\n",
       "      <td>-1979.388318</td>\n",
       "      <td>58</td>\n",
       "      <td>среднее</td>\n",
       "      <td>1</td>\n",
       "      <td>женат / замужем</td>\n",
       "      <td>0</td>\n",
       "      <td>M</td>\n",
       "      <td>сотрудник</td>\n",
       "      <td>0</td>\n",
       "      <td>1097954</td>\n",
       "      <td>жилье</td>\n",
       "      <td>бездетный</td>\n",
       "    </tr>\n",
       "    <tr>\n",
       "      <td>17804</td>\n",
       "      <td>2</td>\n",
       "      <td>-1019.604773</td>\n",
       "      <td>43</td>\n",
       "      <td>высшее</td>\n",
       "      <td>0</td>\n",
       "      <td>женат / замужем</td>\n",
       "      <td>0</td>\n",
       "      <td>M</td>\n",
       "      <td>компаньон</td>\n",
       "      <td>0</td>\n",
       "      <td>1092608</td>\n",
       "      <td>недвижимость</td>\n",
       "      <td>есть дети</td>\n",
       "    </tr>\n",
       "    <tr>\n",
       "      <td>18339</td>\n",
       "      <td>3</td>\n",
       "      <td>-1733.364682</td>\n",
       "      <td>34</td>\n",
       "      <td>высшее</td>\n",
       "      <td>0</td>\n",
       "      <td>женат / замужем</td>\n",
       "      <td>0</td>\n",
       "      <td>M</td>\n",
       "      <td>сотрудник</td>\n",
       "      <td>0</td>\n",
       "      <td>1091627</td>\n",
       "      <td>жилье</td>\n",
       "      <td>многодетный</td>\n",
       "    </tr>\n",
       "    <tr>\n",
       "      <td>1561</td>\n",
       "      <td>1</td>\n",
       "      <td>-1283.436610</td>\n",
       "      <td>53</td>\n",
       "      <td>высшее</td>\n",
       "      <td>0</td>\n",
       "      <td>женат / замужем</td>\n",
       "      <td>0</td>\n",
       "      <td>F</td>\n",
       "      <td>компаньон</td>\n",
       "      <td>0</td>\n",
       "      <td>1089120</td>\n",
       "      <td>автомобиль</td>\n",
       "      <td>есть дети</td>\n",
       "    </tr>\n",
       "  </tbody>\n",
       "</table>\n",
       "</div>"
      ],
      "text/plain": [
       "       children  days_employed  dob_years education  education_id  \\\n",
       "11885         0   -1477.438114         44    высшее             0   \n",
       "18578         1   -2577.664662         39    высшее             0   \n",
       "8830          1   -5248.554336         35   среднее             1   \n",
       "19686         0   -4719.273476         61   среднее             1   \n",
       "16331         0   -5734.127087         42    высшее             0   \n",
       "16630         0   -2285.476482         43   среднее             1   \n",
       "17443         1    -333.935516         41    высшее             0   \n",
       "17430         1   -3173.282035         41    высшее             0   \n",
       "14563         1  -10207.448165         64    высшее             0   \n",
       "10624         1   -1851.200013         36    высшее             0   \n",
       "2183          1   -4614.851849         42    высшее             0   \n",
       "7212          0   -8626.777234         39   среднее             1   \n",
       "18765         0   -2672.323106         50    высшее             0   \n",
       "14511         0   -2009.086175         34   среднее             1   \n",
       "12524         1   -3531.320534         54    высшее             0   \n",
       "9492          2   -3092.259823         56    высшее             0   \n",
       "9617          0   -1979.388318         58   среднее             1   \n",
       "17804         2   -1019.604773         43    высшее             0   \n",
       "18339         3   -1733.364682         34    высшее             0   \n",
       "1561          1   -1283.436610         53    высшее             0   \n",
       "\n",
       "               family_status  family_status_id gender income_type  debt  \\\n",
       "11885        женат / замужем                 0      M   компаньон     0   \n",
       "18578        женат / замужем                 0      M   компаньон     1   \n",
       "8830        гражданский брак                 1      M   сотрудник     0   \n",
       "19686  Не женат / не замужем                 4      F   сотрудник     0   \n",
       "16331       гражданский брак                 1      M   компаньон     0   \n",
       "16630        женат / замужем                 0      M   компаньон     0   \n",
       "17443       гражданский брак                 1      M   компаньон     0   \n",
       "17430  Не женат / не замужем                 4      F   компаньон     0   \n",
       "14563              в разводе                 3      M   компаньон     0   \n",
       "10624       гражданский брак                 1      F   сотрудник     0   \n",
       "2183         женат / замужем                 0      M   сотрудник     0   \n",
       "7212               в разводе                 3      F   сотрудник     0   \n",
       "18765        женат / замужем                 0      F   компаньон     0   \n",
       "14511        женат / замужем                 0      F   сотрудник     0   \n",
       "12524              в разводе                 3      F   компаньон     0   \n",
       "9492         женат / замужем                 0      M   сотрудник     0   \n",
       "9617         женат / замужем                 0      M   сотрудник     0   \n",
       "17804        женат / замужем                 0      M   компаньон     0   \n",
       "18339        женат / замужем                 0      M   сотрудник     0   \n",
       "1561         женат / замужем                 0      F   компаньон     0   \n",
       "\n",
       "       total_income       purpose how_many_children  \n",
       "11885       2265604        ремонт         бездетный  \n",
       "18578       2200852  недвижимость         есть дети  \n",
       "8830        1726276   образование         есть дети  \n",
       "19686       1715018         жилье         бездетный  \n",
       "16331       1711309       свадьба         бездетный  \n",
       "16630       1597613  недвижимость         бездетный  \n",
       "17443       1551152       свадьба         есть дети  \n",
       "17430       1427934    автомобиль         есть дети  \n",
       "14563       1350245         жилье         есть дети  \n",
       "10624       1286280  недвижимость         есть дети  \n",
       "2183        1278622         жилье         есть дети  \n",
       "7212        1240165  недвижимость         бездетный  \n",
       "18765       1223042  недвижимость         бездетный  \n",
       "14511       1172459   образование         бездетный  \n",
       "12524       1128836  недвижимость         есть дети  \n",
       "9492        1103455         жилье         есть дети  \n",
       "9617        1097954         жилье         бездетный  \n",
       "17804       1092608  недвижимость         есть дети  \n",
       "18339       1091627         жилье       многодетный  \n",
       "1561        1089120    автомобиль         есть дети  "
      ]
     },
     "execution_count": 37,
     "metadata": {},
     "output_type": "execute_result"
    }
   ],
   "source": [
    "data.sort_values(by = 'total_income', ascending = False).head(20)"
   ]
  },
  {
   "cell_type": "code",
   "execution_count": 38,
   "metadata": {},
   "outputs": [
    {
     "data": {
      "text/html": [
       "<div>\n",
       "<style scoped>\n",
       "    .dataframe tbody tr th:only-of-type {\n",
       "        vertical-align: middle;\n",
       "    }\n",
       "\n",
       "    .dataframe tbody tr th {\n",
       "        vertical-align: top;\n",
       "    }\n",
       "\n",
       "    .dataframe thead th {\n",
       "        text-align: right;\n",
       "    }\n",
       "</style>\n",
       "<table border=\"1\" class=\"dataframe\">\n",
       "  <thead>\n",
       "    <tr style=\"text-align: right;\">\n",
       "      <th></th>\n",
       "      <th>children</th>\n",
       "      <th>days_employed</th>\n",
       "      <th>dob_years</th>\n",
       "      <th>education</th>\n",
       "      <th>education_id</th>\n",
       "      <th>family_status</th>\n",
       "      <th>family_status_id</th>\n",
       "      <th>gender</th>\n",
       "      <th>income_type</th>\n",
       "      <th>debt</th>\n",
       "      <th>total_income</th>\n",
       "      <th>purpose</th>\n",
       "      <th>how_many_children</th>\n",
       "    </tr>\n",
       "  </thead>\n",
       "  <tbody>\n",
       "    <tr>\n",
       "      <td>17716</td>\n",
       "      <td>1</td>\n",
       "      <td>-1953.777603</td>\n",
       "      <td>50</td>\n",
       "      <td>среднее</td>\n",
       "      <td>1</td>\n",
       "      <td>женат / замужем</td>\n",
       "      <td>0</td>\n",
       "      <td>F</td>\n",
       "      <td>госслужащий</td>\n",
       "      <td>0</td>\n",
       "      <td>29200</td>\n",
       "      <td>автомобиль</td>\n",
       "      <td>есть дети</td>\n",
       "    </tr>\n",
       "    <tr>\n",
       "      <td>3957</td>\n",
       "      <td>0</td>\n",
       "      <td>386389.497407</td>\n",
       "      <td>64</td>\n",
       "      <td>среднее</td>\n",
       "      <td>1</td>\n",
       "      <td>женат / замужем</td>\n",
       "      <td>0</td>\n",
       "      <td>F</td>\n",
       "      <td>пенсионер</td>\n",
       "      <td>1</td>\n",
       "      <td>29154</td>\n",
       "      <td>недвижимость</td>\n",
       "      <td>бездетный</td>\n",
       "    </tr>\n",
       "    <tr>\n",
       "      <td>19132</td>\n",
       "      <td>0</td>\n",
       "      <td>381266.917841</td>\n",
       "      <td>59</td>\n",
       "      <td>среднее</td>\n",
       "      <td>1</td>\n",
       "      <td>женат / замужем</td>\n",
       "      <td>0</td>\n",
       "      <td>F</td>\n",
       "      <td>пенсионер</td>\n",
       "      <td>0</td>\n",
       "      <td>29067</td>\n",
       "      <td>недвижимость</td>\n",
       "      <td>бездетный</td>\n",
       "    </tr>\n",
       "    <tr>\n",
       "      <td>15796</td>\n",
       "      <td>0</td>\n",
       "      <td>-241.247456</td>\n",
       "      <td>49</td>\n",
       "      <td>среднее</td>\n",
       "      <td>1</td>\n",
       "      <td>гражданский брак</td>\n",
       "      <td>1</td>\n",
       "      <td>F</td>\n",
       "      <td>компаньон</td>\n",
       "      <td>0</td>\n",
       "      <td>28702</td>\n",
       "      <td>свадьба</td>\n",
       "      <td>бездетный</td>\n",
       "    </tr>\n",
       "    <tr>\n",
       "      <td>14244</td>\n",
       "      <td>2</td>\n",
       "      <td>-1440.353367</td>\n",
       "      <td>28</td>\n",
       "      <td>среднее</td>\n",
       "      <td>1</td>\n",
       "      <td>гражданский брак</td>\n",
       "      <td>1</td>\n",
       "      <td>F</td>\n",
       "      <td>сотрудник</td>\n",
       "      <td>0</td>\n",
       "      <td>28092</td>\n",
       "      <td>свадьба</td>\n",
       "      <td>есть дети</td>\n",
       "    </tr>\n",
       "    <tr>\n",
       "      <td>20043</td>\n",
       "      <td>0</td>\n",
       "      <td>360310.974923</td>\n",
       "      <td>55</td>\n",
       "      <td>среднее</td>\n",
       "      <td>1</td>\n",
       "      <td>Не женат / не замужем</td>\n",
       "      <td>4</td>\n",
       "      <td>M</td>\n",
       "      <td>пенсионер</td>\n",
       "      <td>0</td>\n",
       "      <td>27907</td>\n",
       "      <td>жилье</td>\n",
       "      <td>бездетный</td>\n",
       "    </tr>\n",
       "    <tr>\n",
       "      <td>10207</td>\n",
       "      <td>0</td>\n",
       "      <td>385664.024835</td>\n",
       "      <td>67</td>\n",
       "      <td>среднее</td>\n",
       "      <td>1</td>\n",
       "      <td>женат / замужем</td>\n",
       "      <td>0</td>\n",
       "      <td>F</td>\n",
       "      <td>пенсионер</td>\n",
       "      <td>0</td>\n",
       "      <td>27776</td>\n",
       "      <td>образование</td>\n",
       "      <td>бездетный</td>\n",
       "    </tr>\n",
       "    <tr>\n",
       "      <td>16986</td>\n",
       "      <td>0</td>\n",
       "      <td>338590.212074</td>\n",
       "      <td>59</td>\n",
       "      <td>среднее</td>\n",
       "      <td>1</td>\n",
       "      <td>женат / замужем</td>\n",
       "      <td>0</td>\n",
       "      <td>F</td>\n",
       "      <td>пенсионер</td>\n",
       "      <td>0</td>\n",
       "      <td>27414</td>\n",
       "      <td>образование</td>\n",
       "      <td>бездетный</td>\n",
       "    </tr>\n",
       "    <tr>\n",
       "      <td>7989</td>\n",
       "      <td>0</td>\n",
       "      <td>-615.774147</td>\n",
       "      <td>46</td>\n",
       "      <td>среднее</td>\n",
       "      <td>1</td>\n",
       "      <td>женат / замужем</td>\n",
       "      <td>0</td>\n",
       "      <td>F</td>\n",
       "      <td>сотрудник</td>\n",
       "      <td>0</td>\n",
       "      <td>26533</td>\n",
       "      <td>недвижимость</td>\n",
       "      <td>бездетный</td>\n",
       "    </tr>\n",
       "    <tr>\n",
       "      <td>14676</td>\n",
       "      <td>1</td>\n",
       "      <td>-2945.051315</td>\n",
       "      <td>45</td>\n",
       "      <td>среднее</td>\n",
       "      <td>1</td>\n",
       "      <td>женат / замужем</td>\n",
       "      <td>0</td>\n",
       "      <td>F</td>\n",
       "      <td>сотрудник</td>\n",
       "      <td>0</td>\n",
       "      <td>26329</td>\n",
       "      <td>недвижимость</td>\n",
       "      <td>есть дети</td>\n",
       "    </tr>\n",
       "    <tr>\n",
       "      <td>11552</td>\n",
       "      <td>1</td>\n",
       "      <td>354563.609108</td>\n",
       "      <td>55</td>\n",
       "      <td>начальное</td>\n",
       "      <td>3</td>\n",
       "      <td>гражданский брак</td>\n",
       "      <td>1</td>\n",
       "      <td>F</td>\n",
       "      <td>пенсионер</td>\n",
       "      <td>0</td>\n",
       "      <td>25308</td>\n",
       "      <td>образование</td>\n",
       "      <td>есть дети</td>\n",
       "    </tr>\n",
       "    <tr>\n",
       "      <td>9679</td>\n",
       "      <td>0</td>\n",
       "      <td>-4959.893007</td>\n",
       "      <td>43</td>\n",
       "      <td>среднее</td>\n",
       "      <td>1</td>\n",
       "      <td>женат / замужем</td>\n",
       "      <td>0</td>\n",
       "      <td>F</td>\n",
       "      <td>сотрудник</td>\n",
       "      <td>0</td>\n",
       "      <td>25227</td>\n",
       "      <td>образование</td>\n",
       "      <td>бездетный</td>\n",
       "    </tr>\n",
       "    <tr>\n",
       "      <td>8735</td>\n",
       "      <td>0</td>\n",
       "      <td>340952.765703</td>\n",
       "      <td>60</td>\n",
       "      <td>среднее</td>\n",
       "      <td>1</td>\n",
       "      <td>Не женат / не замужем</td>\n",
       "      <td>4</td>\n",
       "      <td>F</td>\n",
       "      <td>пенсионер</td>\n",
       "      <td>0</td>\n",
       "      <td>24457</td>\n",
       "      <td>недвижимость</td>\n",
       "      <td>бездетный</td>\n",
       "    </tr>\n",
       "    <tr>\n",
       "      <td>17571</td>\n",
       "      <td>0</td>\n",
       "      <td>370478.327059</td>\n",
       "      <td>60</td>\n",
       "      <td>среднее</td>\n",
       "      <td>1</td>\n",
       "      <td>женат / замужем</td>\n",
       "      <td>0</td>\n",
       "      <td>F</td>\n",
       "      <td>пенсионер</td>\n",
       "      <td>0</td>\n",
       "      <td>23844</td>\n",
       "      <td>жилье</td>\n",
       "      <td>бездетный</td>\n",
       "    </tr>\n",
       "    <tr>\n",
       "      <td>10447</td>\n",
       "      <td>0</td>\n",
       "      <td>347356.519176</td>\n",
       "      <td>71</td>\n",
       "      <td>среднее</td>\n",
       "      <td>1</td>\n",
       "      <td>женат / замужем</td>\n",
       "      <td>0</td>\n",
       "      <td>M</td>\n",
       "      <td>пенсионер</td>\n",
       "      <td>0</td>\n",
       "      <td>22472</td>\n",
       "      <td>недвижимость</td>\n",
       "      <td>бездетный</td>\n",
       "    </tr>\n",
       "    <tr>\n",
       "      <td>13645</td>\n",
       "      <td>0</td>\n",
       "      <td>346602.453782</td>\n",
       "      <td>61</td>\n",
       "      <td>среднее</td>\n",
       "      <td>1</td>\n",
       "      <td>женат / замужем</td>\n",
       "      <td>0</td>\n",
       "      <td>F</td>\n",
       "      <td>пенсионер</td>\n",
       "      <td>0</td>\n",
       "      <td>21895</td>\n",
       "      <td>недвижимость</td>\n",
       "      <td>бездетный</td>\n",
       "    </tr>\n",
       "    <tr>\n",
       "      <td>1569</td>\n",
       "      <td>0</td>\n",
       "      <td>359726.104207</td>\n",
       "      <td>68</td>\n",
       "      <td>среднее</td>\n",
       "      <td>1</td>\n",
       "      <td>гражданский брак</td>\n",
       "      <td>1</td>\n",
       "      <td>M</td>\n",
       "      <td>пенсионер</td>\n",
       "      <td>0</td>\n",
       "      <td>21695</td>\n",
       "      <td>свадьба</td>\n",
       "      <td>бездетный</td>\n",
       "    </tr>\n",
       "    <tr>\n",
       "      <td>15405</td>\n",
       "      <td>1</td>\n",
       "      <td>-3642.820023</td>\n",
       "      <td>52</td>\n",
       "      <td>среднее</td>\n",
       "      <td>1</td>\n",
       "      <td>женат / замужем</td>\n",
       "      <td>0</td>\n",
       "      <td>M</td>\n",
       "      <td>сотрудник</td>\n",
       "      <td>0</td>\n",
       "      <td>21367</td>\n",
       "      <td>автомобиль</td>\n",
       "      <td>есть дети</td>\n",
       "    </tr>\n",
       "    <tr>\n",
       "      <td>12446</td>\n",
       "      <td>0</td>\n",
       "      <td>369708.589113</td>\n",
       "      <td>37</td>\n",
       "      <td>среднее</td>\n",
       "      <td>1</td>\n",
       "      <td>гражданский брак</td>\n",
       "      <td>1</td>\n",
       "      <td>M</td>\n",
       "      <td>пенсионер</td>\n",
       "      <td>0</td>\n",
       "      <td>21205</td>\n",
       "      <td>образование</td>\n",
       "      <td>бездетный</td>\n",
       "    </tr>\n",
       "    <tr>\n",
       "      <td>13937</td>\n",
       "      <td>0</td>\n",
       "      <td>359219.059341</td>\n",
       "      <td>57</td>\n",
       "      <td>среднее</td>\n",
       "      <td>1</td>\n",
       "      <td>женат / замужем</td>\n",
       "      <td>0</td>\n",
       "      <td>F</td>\n",
       "      <td>пенсионер</td>\n",
       "      <td>1</td>\n",
       "      <td>20667</td>\n",
       "      <td>недвижимость</td>\n",
       "      <td>бездетный</td>\n",
       "    </tr>\n",
       "  </tbody>\n",
       "</table>\n",
       "</div>"
      ],
      "text/plain": [
       "       children  days_employed  dob_years  education  education_id  \\\n",
       "17716         1   -1953.777603         50    среднее             1   \n",
       "3957          0  386389.497407         64    среднее             1   \n",
       "19132         0  381266.917841         59    среднее             1   \n",
       "15796         0    -241.247456         49    среднее             1   \n",
       "14244         2   -1440.353367         28    среднее             1   \n",
       "20043         0  360310.974923         55    среднее             1   \n",
       "10207         0  385664.024835         67    среднее             1   \n",
       "16986         0  338590.212074         59    среднее             1   \n",
       "7989          0    -615.774147         46    среднее             1   \n",
       "14676         1   -2945.051315         45    среднее             1   \n",
       "11552         1  354563.609108         55  начальное             3   \n",
       "9679          0   -4959.893007         43    среднее             1   \n",
       "8735          0  340952.765703         60    среднее             1   \n",
       "17571         0  370478.327059         60    среднее             1   \n",
       "10447         0  347356.519176         71    среднее             1   \n",
       "13645         0  346602.453782         61    среднее             1   \n",
       "1569          0  359726.104207         68    среднее             1   \n",
       "15405         1   -3642.820023         52    среднее             1   \n",
       "12446         0  369708.589113         37    среднее             1   \n",
       "13937         0  359219.059341         57    среднее             1   \n",
       "\n",
       "               family_status  family_status_id gender  income_type  debt  \\\n",
       "17716        женат / замужем                 0      F  госслужащий     0   \n",
       "3957         женат / замужем                 0      F    пенсионер     1   \n",
       "19132        женат / замужем                 0      F    пенсионер     0   \n",
       "15796       гражданский брак                 1      F    компаньон     0   \n",
       "14244       гражданский брак                 1      F    сотрудник     0   \n",
       "20043  Не женат / не замужем                 4      M    пенсионер     0   \n",
       "10207        женат / замужем                 0      F    пенсионер     0   \n",
       "16986        женат / замужем                 0      F    пенсионер     0   \n",
       "7989         женат / замужем                 0      F    сотрудник     0   \n",
       "14676        женат / замужем                 0      F    сотрудник     0   \n",
       "11552       гражданский брак                 1      F    пенсионер     0   \n",
       "9679         женат / замужем                 0      F    сотрудник     0   \n",
       "8735   Не женат / не замужем                 4      F    пенсионер     0   \n",
       "17571        женат / замужем                 0      F    пенсионер     0   \n",
       "10447        женат / замужем                 0      M    пенсионер     0   \n",
       "13645        женат / замужем                 0      F    пенсионер     0   \n",
       "1569        гражданский брак                 1      M    пенсионер     0   \n",
       "15405        женат / замужем                 0      M    сотрудник     0   \n",
       "12446       гражданский брак                 1      M    пенсионер     0   \n",
       "13937        женат / замужем                 0      F    пенсионер     1   \n",
       "\n",
       "       total_income       purpose how_many_children  \n",
       "17716         29200    автомобиль         есть дети  \n",
       "3957          29154  недвижимость         бездетный  \n",
       "19132         29067  недвижимость         бездетный  \n",
       "15796         28702       свадьба         бездетный  \n",
       "14244         28092       свадьба         есть дети  \n",
       "20043         27907         жилье         бездетный  \n",
       "10207         27776   образование         бездетный  \n",
       "16986         27414   образование         бездетный  \n",
       "7989          26533  недвижимость         бездетный  \n",
       "14676         26329  недвижимость         есть дети  \n",
       "11552         25308   образование         есть дети  \n",
       "9679          25227   образование         бездетный  \n",
       "8735          24457  недвижимость         бездетный  \n",
       "17571         23844         жилье         бездетный  \n",
       "10447         22472  недвижимость         бездетный  \n",
       "13645         21895  недвижимость         бездетный  \n",
       "1569          21695       свадьба         бездетный  \n",
       "15405         21367    автомобиль         есть дети  \n",
       "12446         21205   образование         бездетный  \n",
       "13937         20667  недвижимость         бездетный  "
      ]
     },
     "execution_count": 38,
     "metadata": {},
     "output_type": "execute_result"
    }
   ],
   "source": [
    "data.sort_values(by = 'total_income', ascending = False).tail(20)"
   ]
  },
  {
   "cell_type": "code",
   "execution_count": 39,
   "metadata": {},
   "outputs": [],
   "source": [
    "def worth (salary):\n",
    "    if salary < 100000:\n",
    "        return 'бедные'\n",
    "    if 100000 <= salary < 145000:\n",
    "        return 'класс ниже среднего'\n",
    "    if 145000 <= salary < 250000:\n",
    "        return 'класс выше среднего'\n",
    "    return 'богатые'"
   ]
  },
  {
   "cell_type": "code",
   "execution_count": 40,
   "metadata": {},
   "outputs": [
    {
     "data": {
      "text/html": [
       "<div>\n",
       "<style scoped>\n",
       "    .dataframe tbody tr th:only-of-type {\n",
       "        vertical-align: middle;\n",
       "    }\n",
       "\n",
       "    .dataframe tbody tr th {\n",
       "        vertical-align: top;\n",
       "    }\n",
       "\n",
       "    .dataframe thead th {\n",
       "        text-align: right;\n",
       "    }\n",
       "</style>\n",
       "<table border=\"1\" class=\"dataframe\">\n",
       "  <thead>\n",
       "    <tr style=\"text-align: right;\">\n",
       "      <th></th>\n",
       "      <th>debt</th>\n",
       "    </tr>\n",
       "    <tr>\n",
       "      <th>worth</th>\n",
       "      <th></th>\n",
       "    </tr>\n",
       "  </thead>\n",
       "  <tbody>\n",
       "    <tr>\n",
       "      <td>класс ниже среднего</td>\n",
       "      <td>9.554683501109027%</td>\n",
       "    </tr>\n",
       "    <tr>\n",
       "      <td>класс выше среднего</td>\n",
       "      <td>8.328736900165472%</td>\n",
       "    </tr>\n",
       "    <tr>\n",
       "      <td>бедные</td>\n",
       "      <td>7.965796579657966%</td>\n",
       "    </tr>\n",
       "    <tr>\n",
       "      <td>богатые</td>\n",
       "      <td>6.936002860207364%</td>\n",
       "    </tr>\n",
       "  </tbody>\n",
       "</table>\n",
       "</div>"
      ],
      "text/plain": [
       "                                   debt\n",
       "worth                                  \n",
       "класс ниже среднего  9.554683501109027%\n",
       "класс выше среднего  8.328736900165472%\n",
       "бедные               7.965796579657966%\n",
       "богатые              6.936002860207364%"
      ]
     },
     "execution_count": 40,
     "metadata": {},
     "output_type": "execute_result"
    }
   ],
   "source": [
    "data['worth'] = data['total_income'].apply(worth)\n",
    "#data.groupby('worth').count()\n",
    "total_income_debt_2 = data[['debt', 'worth']]\n",
    "total_income_debt_2 = total_income_debt_2.groupby('worth').mean().sort_values('debt',ascending = False)\n",
    "total_income_debt_2['debt'] = total_income_debt_2['debt'] * 100\n",
    "total_income_debt_2['debt'] = total_income_debt_2['debt'].astype('str') + '%'\n",
    "total_income_debt_2"
   ]
  },
  {
   "cell_type": "markdown",
   "metadata": {},
   "source": [
    "**Вывод**"
   ]
  },
  {
   "cell_type": "markdown",
   "metadata": {},
   "source": [
    "Обилие различных данных не всегда помогает проанализировать ситуацию. Гораздо удобнее выделить из таблицы только те данные, которые нам необходимы для ответа на поставленный вопрос."
   ]
  },
  {
   "cell_type": "markdown",
   "metadata": {},
   "source": [
    "## Шаг 3. Ответы на вопросы"
   ]
  },
  {
   "cell_type": "markdown",
   "metadata": {},
   "source": [
    "***- Есть ли зависимость между наличием детей и возвратом кредита в срок?***"
   ]
  },
  {
   "cell_type": "code",
   "execution_count": 41,
   "metadata": {},
   "outputs": [
    {
     "data": {
      "text/html": [
       "<div>\n",
       "<style scoped>\n",
       "    .dataframe tbody tr th:only-of-type {\n",
       "        vertical-align: middle;\n",
       "    }\n",
       "\n",
       "    .dataframe tbody tr th {\n",
       "        vertical-align: top;\n",
       "    }\n",
       "\n",
       "    .dataframe thead th {\n",
       "        text-align: right;\n",
       "    }\n",
       "</style>\n",
       "<table border=\"1\" class=\"dataframe\">\n",
       "  <thead>\n",
       "    <tr style=\"text-align: right;\">\n",
       "      <th></th>\n",
       "      <th>debt</th>\n",
       "    </tr>\n",
       "    <tr>\n",
       "      <th>children</th>\n",
       "      <th></th>\n",
       "    </tr>\n",
       "  </thead>\n",
       "  <tbody>\n",
       "    <tr>\n",
       "      <td>4</td>\n",
       "      <td>10.0%</td>\n",
       "    </tr>\n",
       "    <tr>\n",
       "      <td>2</td>\n",
       "      <td>9.722921914357682%</td>\n",
       "    </tr>\n",
       "    <tr>\n",
       "      <td>1</td>\n",
       "      <td>9.540254694582345%</td>\n",
       "    </tr>\n",
       "    <tr>\n",
       "      <td>3</td>\n",
       "      <td>8.256880733944955%</td>\n",
       "    </tr>\n",
       "    <tr>\n",
       "      <td>0</td>\n",
       "      <td>7.8293413173652695%</td>\n",
       "    </tr>\n",
       "    <tr>\n",
       "      <td>5</td>\n",
       "      <td>0.0%</td>\n",
       "    </tr>\n",
       "  </tbody>\n",
       "</table>\n",
       "</div>"
      ],
      "text/plain": [
       "                         debt\n",
       "children                     \n",
       "4                       10.0%\n",
       "2          9.722921914357682%\n",
       "1          9.540254694582345%\n",
       "3          8.256880733944955%\n",
       "0         7.8293413173652695%\n",
       "5                        0.0%"
      ]
     },
     "execution_count": 41,
     "metadata": {},
     "output_type": "execute_result"
    }
   ],
   "source": [
    "children_debt"
   ]
  },
  {
   "cell_type": "markdown",
   "metadata": {},
   "source": [
    "Как мы видим, 7.8% клиентов имеют задолженности по кредитам, но у клиентов с 1-4 ребенком этот увеличивается до 8.3-10% и лишь заемщики с 5 детьми вообще не имеют задолженности по кредитам, в наше время такое большое количество детей - большая редкость, поэтому предположу, что подборка крайне мала и данный показатель не стоит считать точным. Давайте убедимся, что таких людей единицы:"
   ]
  },
  {
   "cell_type": "code",
   "execution_count": 42,
   "metadata": {},
   "outputs": [
    {
     "data": {
      "text/plain": [
       "0    13360\n",
       "1     4633\n",
       "2     1985\n",
       "3      327\n",
       "4       40\n",
       "5        9\n",
       "Name: children, dtype: int64"
      ]
     },
     "execution_count": 42,
     "metadata": {},
     "output_type": "execute_result"
    }
   ],
   "source": [
    "data['children'].value_counts()"
   ]
  },
  {
   "cell_type": "markdown",
   "metadata": {},
   "source": [
    "Всего 9 человек с 5 детьми, не стоит доверять статистике, основанной на 9 случаях."
   ]
  },
  {
   "cell_type": "markdown",
   "metadata": {},
   "source": [
    "Наличие детей негативно сказывается на возможности погашать кредит вовремя."
   ]
  },
  {
   "cell_type": "markdown",
   "metadata": {},
   "source": [
    "***- Есть ли зависимость между семейным положением и возвратом кредита в срок?***"
   ]
  },
  {
   "cell_type": "code",
   "execution_count": 43,
   "metadata": {},
   "outputs": [
    {
     "data": {
      "text/html": [
       "<div>\n",
       "<style scoped>\n",
       "    .dataframe tbody tr th:only-of-type {\n",
       "        vertical-align: middle;\n",
       "    }\n",
       "\n",
       "    .dataframe tbody tr th {\n",
       "        vertical-align: top;\n",
       "    }\n",
       "\n",
       "    .dataframe thead th {\n",
       "        text-align: right;\n",
       "    }\n",
       "</style>\n",
       "<table border=\"1\" class=\"dataframe\">\n",
       "  <thead>\n",
       "    <tr style=\"text-align: right;\">\n",
       "      <th></th>\n",
       "      <th>debt</th>\n",
       "    </tr>\n",
       "    <tr>\n",
       "      <th>family_status</th>\n",
       "      <th></th>\n",
       "    </tr>\n",
       "  </thead>\n",
       "  <tbody>\n",
       "    <tr>\n",
       "      <td>Не женат / не замужем</td>\n",
       "      <td>10.08869179600887%</td>\n",
       "    </tr>\n",
       "    <tr>\n",
       "      <td>гражданский брак</td>\n",
       "      <td>9.534648457258472%</td>\n",
       "    </tr>\n",
       "    <tr>\n",
       "      <td>женат / замужем</td>\n",
       "      <td>7.877744296168747%</td>\n",
       "    </tr>\n",
       "    <tr>\n",
       "      <td>в разводе</td>\n",
       "      <td>7.210300429184549%</td>\n",
       "    </tr>\n",
       "    <tr>\n",
       "      <td>вдовец / вдова</td>\n",
       "      <td>6.892778993435448%</td>\n",
       "    </tr>\n",
       "  </tbody>\n",
       "</table>\n",
       "</div>"
      ],
      "text/plain": [
       "                                     debt\n",
       "family_status                            \n",
       "Не женат / не замужем  10.08869179600887%\n",
       "гражданский брак       9.534648457258472%\n",
       "женат / замужем        7.877744296168747%\n",
       "в разводе              7.210300429184549%\n",
       "вдовец / вдова         6.892778993435448%"
      ]
     },
     "execution_count": 43,
     "metadata": {},
     "output_type": "execute_result"
    }
   ],
   "source": [
    "family_status_debt"
   ]
  },
  {
   "cell_type": "markdown",
   "metadata": {},
   "source": [
    "Из таблицы выше явно видно, что холостые клиенты - самые ненадежные, аж 10.1% имели дело с просрочкой по кредиту, в то время как люди, живущие в отношениях более склонны возвращать долг вовремя, причем чем официальнее отношения, тем ниже процент проскрочки: гражданские браки 9.5%, а официальный уже 7.9%. И самыми лучшими клиентами оказались люди, имевшие серьезные отношения, но по каким либо причинам их потерявшие: Клиенты в разводе 7.2%, а вдовцы/вдовы всего 6.9%."
   ]
  },
  {
   "cell_type": "markdown",
   "metadata": {},
   "source": [
    "**Вывод**"
   ]
  },
  {
   "cell_type": "markdown",
   "metadata": {},
   "source": [
    "Чем более зрелый человек в вопросах образования семьи, тем, как оказалось, он к кредитам подходит ответственней. "
   ]
  },
  {
   "cell_type": "markdown",
   "metadata": {},
   "source": [
    "Для более подробного анализа мы можем использовать сводную таблицу ниже и определить вероятность просрочки по кредиту для людей, например, в гражданском браке и с 3 детьми - целых 14.6%!!!"
   ]
  },
  {
   "cell_type": "code",
   "execution_count": 44,
   "metadata": {},
   "outputs": [
    {
     "data": {
      "text/html": [
       "<div>\n",
       "<style scoped>\n",
       "    .dataframe tbody tr th:only-of-type {\n",
       "        vertical-align: middle;\n",
       "    }\n",
       "\n",
       "    .dataframe tbody tr th {\n",
       "        vertical-align: top;\n",
       "    }\n",
       "\n",
       "    .dataframe thead th {\n",
       "        text-align: right;\n",
       "    }\n",
       "</style>\n",
       "<table border=\"1\" class=\"dataframe\">\n",
       "  <thead>\n",
       "    <tr style=\"text-align: right;\">\n",
       "      <th>children</th>\n",
       "      <th>0</th>\n",
       "      <th>1</th>\n",
       "      <th>2</th>\n",
       "      <th>3</th>\n",
       "      <th>4</th>\n",
       "      <th>5</th>\n",
       "    </tr>\n",
       "    <tr>\n",
       "      <th>family_status</th>\n",
       "      <th></th>\n",
       "      <th></th>\n",
       "      <th></th>\n",
       "      <th></th>\n",
       "      <th></th>\n",
       "      <th></th>\n",
       "    </tr>\n",
       "  </thead>\n",
       "  <tbody>\n",
       "    <tr>\n",
       "      <td>Не женат / не замужем</td>\n",
       "      <td>0.096552</td>\n",
       "      <td>0.116331</td>\n",
       "      <td>0.121622</td>\n",
       "      <td>0.125000</td>\n",
       "      <td>0.500000</td>\n",
       "      <td>NaN</td>\n",
       "    </tr>\n",
       "    <tr>\n",
       "      <td>в разводе</td>\n",
       "      <td>0.071802</td>\n",
       "      <td>0.068627</td>\n",
       "      <td>0.086420</td>\n",
       "      <td>0.090909</td>\n",
       "      <td>0.000000</td>\n",
       "      <td>NaN</td>\n",
       "    </tr>\n",
       "    <tr>\n",
       "      <td>вдовец / вдова</td>\n",
       "      <td>0.065432</td>\n",
       "      <td>0.090909</td>\n",
       "      <td>0.150000</td>\n",
       "      <td>0.000000</td>\n",
       "      <td>0.000000</td>\n",
       "      <td>NaN</td>\n",
       "    </tr>\n",
       "    <tr>\n",
       "      <td>гражданский брак</td>\n",
       "      <td>0.085901</td>\n",
       "      <td>0.121622</td>\n",
       "      <td>0.087613</td>\n",
       "      <td>0.145455</td>\n",
       "      <td>0.000000</td>\n",
       "      <td>0.0</td>\n",
       "    </tr>\n",
       "    <tr>\n",
       "      <td>женат / замужем</td>\n",
       "      <td>0.072009</td>\n",
       "      <td>0.086237</td>\n",
       "      <td>0.098039</td>\n",
       "      <td>0.068826</td>\n",
       "      <td>0.107143</td>\n",
       "      <td>0.0</td>\n",
       "    </tr>\n",
       "  </tbody>\n",
       "</table>\n",
       "</div>"
      ],
      "text/plain": [
       "children                      0         1         2         3         4    5\n",
       "family_status                                                               \n",
       "Не женат / не замужем  0.096552  0.116331  0.121622  0.125000  0.500000  NaN\n",
       "в разводе              0.071802  0.068627  0.086420  0.090909  0.000000  NaN\n",
       "вдовец / вдова         0.065432  0.090909  0.150000  0.000000  0.000000  NaN\n",
       "гражданский брак       0.085901  0.121622  0.087613  0.145455  0.000000  0.0\n",
       "женат / замужем        0.072009  0.086237  0.098039  0.068826  0.107143  0.0"
      ]
     },
     "execution_count": 44,
     "metadata": {},
     "output_type": "execute_result"
    }
   ],
   "source": [
    "data.pivot_table(index=['family_status'], columns='children', values='debt', aggfunc='mean')"
   ]
  },
  {
   "cell_type": "markdown",
   "metadata": {},
   "source": [
    "***- Есть ли зависимость между уровнем дохода и возвратом кредита в срок?***"
   ]
  },
  {
   "cell_type": "code",
   "execution_count": 45,
   "metadata": {},
   "outputs": [
    {
     "data": {
      "text/html": [
       "<div>\n",
       "<style scoped>\n",
       "    .dataframe tbody tr th:only-of-type {\n",
       "        vertical-align: middle;\n",
       "    }\n",
       "\n",
       "    .dataframe tbody tr th {\n",
       "        vertical-align: top;\n",
       "    }\n",
       "\n",
       "    .dataframe thead th {\n",
       "        text-align: right;\n",
       "    }\n",
       "</style>\n",
       "<table border=\"1\" class=\"dataframe\">\n",
       "  <thead>\n",
       "    <tr style=\"text-align: right;\">\n",
       "      <th></th>\n",
       "      <th>total_income</th>\n",
       "    </tr>\n",
       "    <tr>\n",
       "      <th>debt</th>\n",
       "      <th></th>\n",
       "    </tr>\n",
       "  </thead>\n",
       "  <tbody>\n",
       "    <tr>\n",
       "      <td>0</td>\n",
       "      <td>166869.629385</td>\n",
       "    </tr>\n",
       "    <tr>\n",
       "      <td>1</td>\n",
       "      <td>161423.683995</td>\n",
       "    </tr>\n",
       "  </tbody>\n",
       "</table>\n",
       "</div>"
      ],
      "text/plain": [
       "       total_income\n",
       "debt               \n",
       "0     166869.629385\n",
       "1     161423.683995"
      ]
     },
     "execution_count": 45,
     "metadata": {},
     "output_type": "execute_result"
    }
   ],
   "source": [
    "total_income_debt.groupby('debt').mean().sort_values('total_income',ascending = False)"
   ]
  },
  {
   "cell_type": "markdown",
   "metadata": {},
   "source": [
    "Если рассматривать статистику о средней зарплате клиентов с задолженностями и без, то у вторых хоть она и выше, но всего на 3.4%. Это и не удивительно, но давайте посмотрим статистику, разделив клиентов еще по типу занятости:"
   ]
  },
  {
   "cell_type": "code",
   "execution_count": 46,
   "metadata": {},
   "outputs": [
    {
     "data": {
      "text/html": [
       "<div>\n",
       "<style scoped>\n",
       "    .dataframe tbody tr th:only-of-type {\n",
       "        vertical-align: middle;\n",
       "    }\n",
       "\n",
       "    .dataframe tbody tr th {\n",
       "        vertical-align: top;\n",
       "    }\n",
       "\n",
       "    .dataframe thead th {\n",
       "        text-align: right;\n",
       "    }\n",
       "</style>\n",
       "<table border=\"1\" class=\"dataframe\">\n",
       "  <thead>\n",
       "    <tr style=\"text-align: right;\">\n",
       "      <th>debt</th>\n",
       "      <th>0</th>\n",
       "      <th>1</th>\n",
       "    </tr>\n",
       "    <tr>\n",
       "      <th>income_type</th>\n",
       "      <th></th>\n",
       "      <th></th>\n",
       "    </tr>\n",
       "  </thead>\n",
       "  <tbody>\n",
       "    <tr>\n",
       "      <td>безработный</td>\n",
       "      <td>202722.000000</td>\n",
       "      <td>59956.000000</td>\n",
       "    </tr>\n",
       "    <tr>\n",
       "      <td>в декрете</td>\n",
       "      <td>NaN</td>\n",
       "      <td>53829.000000</td>\n",
       "    </tr>\n",
       "    <tr>\n",
       "      <td>госслужащий</td>\n",
       "      <td>170154.552651</td>\n",
       "      <td>152014.348837</td>\n",
       "    </tr>\n",
       "    <tr>\n",
       "      <td>компаньон</td>\n",
       "      <td>201240.074916</td>\n",
       "      <td>193932.319035</td>\n",
       "    </tr>\n",
       "    <tr>\n",
       "      <td>пенсионер</td>\n",
       "      <td>136325.451183</td>\n",
       "      <td>136803.725118</td>\n",
       "    </tr>\n",
       "    <tr>\n",
       "      <td>предприниматель</td>\n",
       "      <td>499163.000000</td>\n",
       "      <td>NaN</td>\n",
       "    </tr>\n",
       "    <tr>\n",
       "      <td>сотрудник</td>\n",
       "      <td>160939.757791</td>\n",
       "      <td>155738.449038</td>\n",
       "    </tr>\n",
       "    <tr>\n",
       "      <td>студент</td>\n",
       "      <td>98201.000000</td>\n",
       "      <td>NaN</td>\n",
       "    </tr>\n",
       "  </tbody>\n",
       "</table>\n",
       "</div>"
      ],
      "text/plain": [
       "debt                         0              1\n",
       "income_type                                  \n",
       "безработный      202722.000000   59956.000000\n",
       "в декрете                  NaN   53829.000000\n",
       "госслужащий      170154.552651  152014.348837\n",
       "компаньон        201240.074916  193932.319035\n",
       "пенсионер        136325.451183  136803.725118\n",
       "предприниматель  499163.000000            NaN\n",
       "сотрудник        160939.757791  155738.449038\n",
       "студент           98201.000000            NaN"
      ]
     },
     "execution_count": 46,
     "metadata": {},
     "output_type": "execute_result"
    }
   ],
   "source": [
    "data.pivot_table(index=['income_type'], columns='debt', values='total_income', aggfunc='mean')"
   ]
  },
  {
   "cell_type": "markdown",
   "metadata": {},
   "source": [
    "<font color='purple'> **Новый ответ начинается здесь.**"
   ]
  },
  {
   "cell_type": "code",
   "execution_count": 47,
   "metadata": {},
   "outputs": [
    {
     "data": {
      "text/html": [
       "<div>\n",
       "<style scoped>\n",
       "    .dataframe tbody tr th:only-of-type {\n",
       "        vertical-align: middle;\n",
       "    }\n",
       "\n",
       "    .dataframe tbody tr th {\n",
       "        vertical-align: top;\n",
       "    }\n",
       "\n",
       "    .dataframe thead th {\n",
       "        text-align: right;\n",
       "    }\n",
       "</style>\n",
       "<table border=\"1\" class=\"dataframe\">\n",
       "  <thead>\n",
       "    <tr style=\"text-align: right;\">\n",
       "      <th></th>\n",
       "      <th>debt</th>\n",
       "    </tr>\n",
       "    <tr>\n",
       "      <th>worth</th>\n",
       "      <th></th>\n",
       "    </tr>\n",
       "  </thead>\n",
       "  <tbody>\n",
       "    <tr>\n",
       "      <td>класс ниже среднего</td>\n",
       "      <td>9.554683501109027%</td>\n",
       "    </tr>\n",
       "    <tr>\n",
       "      <td>класс выше среднего</td>\n",
       "      <td>8.328736900165472%</td>\n",
       "    </tr>\n",
       "    <tr>\n",
       "      <td>бедные</td>\n",
       "      <td>7.965796579657966%</td>\n",
       "    </tr>\n",
       "    <tr>\n",
       "      <td>богатые</td>\n",
       "      <td>6.936002860207364%</td>\n",
       "    </tr>\n",
       "  </tbody>\n",
       "</table>\n",
       "</div>"
      ],
      "text/plain": [
       "                                   debt\n",
       "worth                                  \n",
       "класс ниже среднего  9.554683501109027%\n",
       "класс выше среднего  8.328736900165472%\n",
       "бедные               7.965796579657966%\n",
       "богатые              6.936002860207364%"
      ]
     },
     "execution_count": 47,
     "metadata": {},
     "output_type": "execute_result"
    }
   ],
   "source": [
    "total_income_debt_2"
   ]
  },
  {
   "cell_type": "markdown",
   "metadata": {},
   "source": [
    "<font color='purple'> В результате исследования мы узнали, что самыми надежными заемщиками, как ни странно, являются богатые люди (с достатоком выше 250 тыс. рублей в месяц), а вот наименее надежные - средний класс, причем присутствует значительная разница между средним классом с з.п. ниже общей медиальной (60 тыс. руб. - 145 тыс. руб.) и выше медиальной. Более бедный средний класс на 1.22% чаще имеет задолженоость по кредиту. Что же касается бедных, то они, на удивление, оказались более ответственными, чем средний класс, с вероятностью 7.97% просрочить оплату по кредиту."
   ]
  },
  {
   "cell_type": "markdown",
   "metadata": {},
   "source": [
    "**Вывод**"
   ]
  },
  {
   "cell_type": "markdown",
   "metadata": {},
   "source": [
    "Даже при более подробном анализе мы видим, что заработная плата всех, у кого были/есть долгт по кредитам ниже относительно коллег без долгов. Однако, благодаря этой таблицы мы можем сделать вывод, что возможность вернуть кредит в срок у пенсионеров не зависит от месячного дохода.\n",
    "\n",
    "<font color='purple'> Вывод выше прошу считать недействительным)\n",
    "    \n",
    "**Новый вывод**\n",
    "    \n",
    "Существует чёткая зависимость между доходом клиента и шансом, что он нарушит свои обязательства, однако, изменение этого шанса не имеет прямого отношения к изменению месячного дохода, как могло казаться изначально."
   ]
  },
  {
   "cell_type": "markdown",
   "metadata": {},
   "source": [
    "***- Как разные цели кредита влияют на его возврат в срок?***"
   ]
  },
  {
   "cell_type": "code",
   "execution_count": 48,
   "metadata": {},
   "outputs": [
    {
     "data": {
      "text/html": [
       "<div>\n",
       "<style scoped>\n",
       "    .dataframe tbody tr th:only-of-type {\n",
       "        vertical-align: middle;\n",
       "    }\n",
       "\n",
       "    .dataframe tbody tr th {\n",
       "        vertical-align: top;\n",
       "    }\n",
       "\n",
       "    .dataframe thead th {\n",
       "        text-align: right;\n",
       "    }\n",
       "</style>\n",
       "<table border=\"1\" class=\"dataframe\">\n",
       "  <thead>\n",
       "    <tr style=\"text-align: right;\">\n",
       "      <th></th>\n",
       "      <th>debt</th>\n",
       "    </tr>\n",
       "    <tr>\n",
       "      <th>purpose</th>\n",
       "      <th></th>\n",
       "    </tr>\n",
       "  </thead>\n",
       "  <tbody>\n",
       "    <tr>\n",
       "      <td>автомобиль</td>\n",
       "      <td>9.634146341463415%</td>\n",
       "    </tr>\n",
       "    <tr>\n",
       "      <td>образование</td>\n",
       "      <td>9.548793284365162%</td>\n",
       "    </tr>\n",
       "    <tr>\n",
       "      <td>свадьба</td>\n",
       "      <td>8.077099586966497%</td>\n",
       "    </tr>\n",
       "    <tr>\n",
       "      <td>недвижимость</td>\n",
       "      <td>7.803420222480491%</td>\n",
       "    </tr>\n",
       "    <tr>\n",
       "      <td>жилье</td>\n",
       "      <td>7.425607425607425%</td>\n",
       "    </tr>\n",
       "    <tr>\n",
       "      <td>ремонт</td>\n",
       "      <td>6.065857885615252%</td>\n",
       "    </tr>\n",
       "  </tbody>\n",
       "</table>\n",
       "</div>"
      ],
      "text/plain": [
       "                            debt\n",
       "purpose                         \n",
       "автомобиль    9.634146341463415%\n",
       "образование   9.548793284365162%\n",
       "свадьба       8.077099586966497%\n",
       "недвижимость  7.803420222480491%\n",
       "жилье         7.425607425607425%\n",
       "ремонт        6.065857885615252%"
      ]
     },
     "execution_count": 48,
     "metadata": {},
     "output_type": "execute_result"
    }
   ],
   "source": [
    "purpose_debt"
   ]
  },
  {
   "cell_type": "markdown",
   "metadata": {},
   "source": [
    "Самый большой риск - предоставлять кредиты для покупки автомобиля (9.6% клиентов с просрочкой) или оплаты образования (9.5% клиентов с просрочкой).\n",
    "\n",
    "Клиенты, берущие кредит на организацию свадьбы в 8.1% случаев не оплачивают платежи в срок.\n",
    "\n",
    "Те, кто берут крупные суммы на покупку жилья и недвижимости немного более надежные клиенты, чем перечисленные выше, их шанс по неисполнению обязанностей 7.4% и 7.8% соответственно.\n",
    "\n",
    "И самыми надежными клиентами оказались ремонтирующие своё жилье (6.1% просрочки)"
   ]
  },
  {
   "cell_type": "markdown",
   "metadata": {},
   "source": [
    "**Вывод**"
   ]
  },
  {
   "cell_type": "markdown",
   "metadata": {},
   "source": [
    "Какой либо закономерности здесь нет, можем лишь воспользоваться знаниями горького опыта прошлых клиентов."
   ]
  },
  {
   "cell_type": "markdown",
   "metadata": {},
   "source": [
    "## Шаг 4. Общий вывод"
   ]
  },
  {
   "cell_type": "markdown",
   "metadata": {},
   "source": [
    "Мы выявили четкую закономерность между наличием детей или их отсутствием и частотой нарушений обязанностей по кредиту, а вот от количества детей этот показатель логичной закономерности не показал. С семейным положением все более прозрачно: чем более серьезно человек относится к своему партнеру и отношениям, тем добросовестнее он относится и к финансам. Доходы же имеют не такое сильное влияние на ответственность заемщиков, но, в любом случае, чем выше заработная плата, тем выше шанс, что клиент будет добросовестно исполнять обязанности."
   ]
  },
  {
   "cell_type": "markdown",
   "metadata": {},
   "source": [
    "## Чек-лист готовности проекта\n",
    "\n",
    "Поставьте 'x' в выполненных пунктах. Далее нажмите Shift+Enter."
   ]
  },
  {
   "cell_type": "markdown",
   "metadata": {},
   "source": [
    "- [x]  открыт файл;\n",
    "- [x]  файл изучен;\n",
    "- [x]  определены пропущенные значения;\n",
    "- [x]  заполнены пропущенные значения;\n",
    "- [x]  есть пояснение, какие пропущенные значения обнаружены;\n",
    "- [x]  описаны возможные причины появления пропусков в данных;\n",
    "- [x]  объяснено, по какому принципу заполнены пропуски;\n",
    "- [x]  заменен вещественный тип данных на целочисленный;\n",
    "- [x]  есть пояснение, какой метод используется для изменения типа данных и почему;\n",
    "- [x]  удалены дубликаты;\n",
    "- [x]  есть пояснение, какой метод используется для поиска и удаления дубликатов;\n",
    "- [x]  описаны возможные причины появления дубликатов в данных;\n",
    "- [x]  выделены леммы в значениях столбца с целями получения кредита;\n",
    "- [x]  описан процесс лемматизации;\n",
    "- [x]  данные категоризированы;\n",
    "- [x]  есть объяснение принципа категоризации данных;\n",
    "- [x]  есть ответ на вопрос: \"Есть ли зависимость между наличием детей и возвратом кредита в срок?\";\n",
    "- [x]  есть ответ на вопрос: \"Есть ли зависимость между семейным положением и возвратом кредита в срок?\";\n",
    "- [x]  есть ответ на вопрос: \"Есть ли зависимость между уровнем дохода и возвратом кредита в срок?\";\n",
    "- [x]  есть ответ на вопрос: \"Как разные цели кредита влияют на его возврат в срок?\";\n",
    "- [x]  в каждом этапе есть выводы;\n",
    "- [x]  есть общий вывод."
   ]
  }
 ],
 "metadata": {
  "kernelspec": {
   "display_name": "Python 3",
   "language": "python",
   "name": "python3"
  },
  "language_info": {
   "codemirror_mode": {
    "name": "ipython",
    "version": 3
   },
   "file_extension": ".py",
   "mimetype": "text/x-python",
   "name": "python",
   "nbconvert_exporter": "python",
   "pygments_lexer": "ipython3",
   "version": "3.8.8"
  },
  "toc": {
   "base_numbering": 1,
   "nav_menu": {},
   "number_sections": true,
   "sideBar": true,
   "skip_h1_title": true,
   "title_cell": "Table of Contents",
   "title_sidebar": "Contents",
   "toc_cell": false,
   "toc_position": {},
   "toc_section_display": true,
   "toc_window_display": false
  }
 },
 "nbformat": 4,
 "nbformat_minor": 2
}
