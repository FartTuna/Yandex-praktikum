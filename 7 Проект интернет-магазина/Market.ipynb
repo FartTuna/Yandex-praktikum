{
 "cells": [
  {
   "cell_type": "markdown",
   "metadata": {},
   "source": [
    "# Описание проекта\n",
    "\n",
    "Вы — аналитик крупного интернет-магазина. Вместе с отделом маркетинга вы подготовили список гипотез для увеличения выручки.\n",
    "\n",
    "Цели проекта:\n",
    "- Приоритизируйте гипотезы\n",
    "- запустите A/B-тест\n",
    "- проанализируйте результаты\n",
    "\n",
    "## Приоритизация гипотез\n",
    "\n",
    "В файле \"/datasets/hypothesis.csv\" 9 гипотез по увеличению выручки интернет-магазина с указанными параметрами Reach, Impact, Confidence, Effort.\n",
    "\n",
    "Задача\n",
    "\n",
    "- Примените фреймворк ICE для приоритизации гипотез. Отсортируйте их по убыванию приоритета.\n",
    "- Примените фреймворк RICE для приоритизации гипотез. Отсортируйте их по убыванию приоритета.\n",
    "- Укажите, как изменилась приоритизация гипотез при применении RICE вместо ICE. Объясните, почему так произошло.\n",
    "\n",
    "### Выгрузка даных и первое знакомство"
   ]
  },
  {
   "cell_type": "code",
   "execution_count": 1,
   "metadata": {},
   "outputs": [],
   "source": [
    "import pandas as pd\n",
    "import datetime as dt\n",
    "import numpy as np\n",
    "import matplotlib.pyplot as plt\n",
    "from scipy import stats as st"
   ]
  },
  {
   "cell_type": "code",
   "execution_count": 2,
   "metadata": {},
   "outputs": [
    {
     "name": "stdout",
     "output_type": "stream",
     "text": [
      "<class 'pandas.core.frame.DataFrame'>\n",
      "RangeIndex: 9 entries, 0 to 8\n",
      "Data columns (total 5 columns):\n",
      "Hypothesis    9 non-null object\n",
      "Reach         9 non-null int64\n",
      "Impact        9 non-null int64\n",
      "Confidence    9 non-null int64\n",
      "Efforts       9 non-null int64\n",
      "dtypes: int64(4), object(1)\n",
      "memory usage: 488.0+ bytes\n"
     ]
    },
    {
     "data": {
      "text/html": [
       "<div>\n",
       "<style scoped>\n",
       "    .dataframe tbody tr th:only-of-type {\n",
       "        vertical-align: middle;\n",
       "    }\n",
       "\n",
       "    .dataframe tbody tr th {\n",
       "        vertical-align: top;\n",
       "    }\n",
       "\n",
       "    .dataframe thead th {\n",
       "        text-align: right;\n",
       "    }\n",
       "</style>\n",
       "<table border=\"1\" class=\"dataframe\">\n",
       "  <thead>\n",
       "    <tr style=\"text-align: right;\">\n",
       "      <th></th>\n",
       "      <th>Hypothesis</th>\n",
       "      <th>Reach</th>\n",
       "      <th>Impact</th>\n",
       "      <th>Confidence</th>\n",
       "      <th>Efforts</th>\n",
       "    </tr>\n",
       "  </thead>\n",
       "  <tbody>\n",
       "    <tr>\n",
       "      <td>0</td>\n",
       "      <td>Добавить два новых канала привлечения трафика,...</td>\n",
       "      <td>3</td>\n",
       "      <td>10</td>\n",
       "      <td>8</td>\n",
       "      <td>6</td>\n",
       "    </tr>\n",
       "    <tr>\n",
       "      <td>1</td>\n",
       "      <td>Запустить собственную службу доставки, что сок...</td>\n",
       "      <td>2</td>\n",
       "      <td>5</td>\n",
       "      <td>4</td>\n",
       "      <td>10</td>\n",
       "    </tr>\n",
       "    <tr>\n",
       "      <td>2</td>\n",
       "      <td>Добавить блоки рекомендаций товаров на сайт ин...</td>\n",
       "      <td>8</td>\n",
       "      <td>3</td>\n",
       "      <td>7</td>\n",
       "      <td>3</td>\n",
       "    </tr>\n",
       "    <tr>\n",
       "      <td>3</td>\n",
       "      <td>Изменить структура категорий, что увеличит кон...</td>\n",
       "      <td>8</td>\n",
       "      <td>3</td>\n",
       "      <td>3</td>\n",
       "      <td>8</td>\n",
       "    </tr>\n",
       "    <tr>\n",
       "      <td>4</td>\n",
       "      <td>Изменить цвет фона главной страницы, чтобы уве...</td>\n",
       "      <td>3</td>\n",
       "      <td>1</td>\n",
       "      <td>1</td>\n",
       "      <td>1</td>\n",
       "    </tr>\n",
       "    <tr>\n",
       "      <td>5</td>\n",
       "      <td>Добавить страницу отзывов клиентов о магазине,...</td>\n",
       "      <td>3</td>\n",
       "      <td>2</td>\n",
       "      <td>2</td>\n",
       "      <td>3</td>\n",
       "    </tr>\n",
       "    <tr>\n",
       "      <td>6</td>\n",
       "      <td>Показать на главной странице баннеры с актуаль...</td>\n",
       "      <td>5</td>\n",
       "      <td>3</td>\n",
       "      <td>8</td>\n",
       "      <td>3</td>\n",
       "    </tr>\n",
       "    <tr>\n",
       "      <td>7</td>\n",
       "      <td>Добавить форму подписки на все основные страни...</td>\n",
       "      <td>10</td>\n",
       "      <td>7</td>\n",
       "      <td>8</td>\n",
       "      <td>5</td>\n",
       "    </tr>\n",
       "    <tr>\n",
       "      <td>8</td>\n",
       "      <td>Запустить акцию, дающую скидку на товар в день...</td>\n",
       "      <td>1</td>\n",
       "      <td>9</td>\n",
       "      <td>9</td>\n",
       "      <td>5</td>\n",
       "    </tr>\n",
       "  </tbody>\n",
       "</table>\n",
       "</div>"
      ],
      "text/plain": [
       "                                          Hypothesis  Reach  Impact  \\\n",
       "0  Добавить два новых канала привлечения трафика,...      3      10   \n",
       "1  Запустить собственную службу доставки, что сок...      2       5   \n",
       "2  Добавить блоки рекомендаций товаров на сайт ин...      8       3   \n",
       "3  Изменить структура категорий, что увеличит кон...      8       3   \n",
       "4  Изменить цвет фона главной страницы, чтобы уве...      3       1   \n",
       "5  Добавить страницу отзывов клиентов о магазине,...      3       2   \n",
       "6  Показать на главной странице баннеры с актуаль...      5       3   \n",
       "7  Добавить форму подписки на все основные страни...     10       7   \n",
       "8  Запустить акцию, дающую скидку на товар в день...      1       9   \n",
       "\n",
       "   Confidence  Efforts  \n",
       "0           8        6  \n",
       "1           4       10  \n",
       "2           7        3  \n",
       "3           3        8  \n",
       "4           1        1  \n",
       "5           2        3  \n",
       "6           8        3  \n",
       "7           8        5  \n",
       "8           9        5  "
      ]
     },
     "execution_count": 2,
     "metadata": {},
     "output_type": "execute_result"
    }
   ],
   "source": [
    "hypothesis = pd.read_csv('/datasets/hypothesis.csv')\n",
    "hypothesis.info()\n",
    "hypothesis"
   ]
  },
  {
   "cell_type": "code",
   "execution_count": 3,
   "metadata": {},
   "outputs": [],
   "source": [
    "hypothesis.columns = hypothesis.columns.str.lower()"
   ]
  },
  {
   "cell_type": "markdown",
   "metadata": {},
   "source": [
    "**Вывод:** Файл с 9 гипотезами, требующими приоритизации добавлены в файл **hypothesis**. Файл небольшой, всего 9 строк на 5 столбцов. Типы данных у каждого из столбов соответствующие. Пропусков не обноружено, значения каждого из параметров в пределах нормы. Единственное, что пришлось сделать - привести названия столбцов к нижнему регистру. Можем переходить к следующему этапу."
   ]
  },
  {
   "cell_type": "markdown",
   "metadata": {},
   "source": [
    "### Приоритизация по фреймворку ICE\n",
    "\n",
    "Создадим новый столбец **'ice'**, в котором будет храниться оцена по данной формуле:\n",
    "\n",
    "![](https://i.ibb.co/0qqNTXT/ICE.jpg)\n",
    "\n",
    "Где:\n",
    "- impact означает насколько сильно изменение повлияет на пользователей, их опыт и удовлетворение от продукта\n",
    "- confidence означает насколько вы уверены, что это изменение повлияет на пользователей именно так\n",
    "- efforts означает сколько стоит протестировать эту гипотезу"
   ]
  },
  {
   "cell_type": "code",
   "execution_count": 4,
   "metadata": {},
   "outputs": [
    {
     "data": {
      "text/plain": [
       "array([['Запустить акцию, дающую скидку на товар в день рождения', 16.2],\n",
       "       ['Добавить два новых канала привлечения трафика, что позволит привлекать на 30% больше пользователей',\n",
       "        13.333333333333334],\n",
       "       ['Добавить форму подписки на все основные страницы, чтобы собрать базу клиентов для email-рассылок',\n",
       "        11.2],\n",
       "       ['Показать на главной странице баннеры с актуальными акциями и распродажами, чтобы увеличить конверсию',\n",
       "        8.0],\n",
       "       ['Добавить блоки рекомендаций товаров на сайт интернет магазина, чтобы повысить конверсию и средний чек заказа',\n",
       "        7.0],\n",
       "       ['Запустить собственную службу доставки, что сократит срок доставки заказов',\n",
       "        2.0],\n",
       "       ['Добавить страницу отзывов клиентов о магазине, что позволит увеличить количество заказов',\n",
       "        1.3333333333333333],\n",
       "       ['Изменить структура категорий, что увеличит конверсию, т.к. пользователи быстрее найдут нужный товар',\n",
       "        1.125],\n",
       "       ['Изменить цвет фона главной страницы, чтобы увеличить вовлеченность пользователей',\n",
       "        1.0]], dtype=object)"
      ]
     },
     "execution_count": 4,
     "metadata": {},
     "output_type": "execute_result"
    }
   ],
   "source": [
    "hypothesis['ice'] = hypothesis['impact'] * hypothesis['confidence'] / hypothesis['efforts']\n",
    "hypothesis[['hypothesis', 'ice']].sort_values(by = 'ice', ascending = False).values"
   ]
  },
  {
   "cell_type": "markdown",
   "metadata": {},
   "source": [
    "**Вывод:** \n",
    "- Гипотеза **\"Запустить акцию, дающую скидку на товар в день рождения\"** имеет наивысший рейтинг, равный 16.2, по расчетам фреймворка ICE\n",
    "- На втором месте **\"Добавить два новых канала привлечения трафика, что позволит привлекать на 30% больше пользователей\"** с показателем 13.3\n",
    "- На третьем месте **\"Добавить форму подписки на все основные страницы, чтобы собрать базу клиентов для email-рассылок\"** с показателем 11.2"
   ]
  },
  {
   "cell_type": "markdown",
   "metadata": {},
   "source": [
    "### Приоритизация по фреймворку RICE\n",
    "\n",
    "Создадим новый столбец **'rice'**, в котором будет храниться оцена по данной формуле:\n",
    "\n",
    "![](https://i.ibb.co/kBtKCTt/rice.jpg)\n",
    "\n",
    "Где:\n",
    "- reach означает скольких пользователей затронет изменение, которое вы хотите внести\n",
    "- impact означает насколько сильно изменение повлияет на пользователей, их опыт и удовлетворение от продукта\n",
    "- confidence означает насколько вы уверены, что это изменение повлияет на пользователей именно так\n",
    "- efforts означает сколько стоит протестировать эту гипотезу\n",
    "\n"
   ]
  },
  {
   "cell_type": "code",
   "execution_count": 5,
   "metadata": {},
   "outputs": [
    {
     "data": {
      "text/plain": [
       "array([['Добавить форму подписки на все основные страницы, чтобы собрать базу клиентов для email-рассылок',\n",
       "        112.0],\n",
       "       ['Добавить блоки рекомендаций товаров на сайт интернет магазина, чтобы повысить конверсию и средний чек заказа',\n",
       "        56.0],\n",
       "       ['Добавить два новых канала привлечения трафика, что позволит привлекать на 30% больше пользователей',\n",
       "        40.0],\n",
       "       ['Показать на главной странице баннеры с актуальными акциями и распродажами, чтобы увеличить конверсию',\n",
       "        40.0],\n",
       "       ['Запустить акцию, дающую скидку на товар в день рождения', 16.2],\n",
       "       ['Изменить структура категорий, что увеличит конверсию, т.к. пользователи быстрее найдут нужный товар',\n",
       "        9.0],\n",
       "       ['Запустить собственную службу доставки, что сократит срок доставки заказов',\n",
       "        4.0],\n",
       "       ['Добавить страницу отзывов клиентов о магазине, что позволит увеличить количество заказов',\n",
       "        4.0],\n",
       "       ['Изменить цвет фона главной страницы, чтобы увеличить вовлеченность пользователей',\n",
       "        3.0]], dtype=object)"
      ]
     },
     "execution_count": 5,
     "metadata": {},
     "output_type": "execute_result"
    }
   ],
   "source": [
    "hypothesis['rice'] = hypothesis['reach'] * hypothesis['impact'] * hypothesis['confidence'] / hypothesis['efforts']\n",
    "hypothesis[['hypothesis', 'rice']].sort_values(by = 'rice', ascending = False).values"
   ]
  },
  {
   "cell_type": "markdown",
   "metadata": {},
   "source": [
    "**Вывод:** \n",
    "- Гипотеза **\"Запустить акцию, дающую скидку на товар в день рождения\"**, лидер по версии фреймворка ICE, сместилась на 5 позицию, т.к. её показатель Reach составляет всего 1. Это обусловленно тем, что данная гипотеза порверяет акцию, которая затрагивает только 1/365 клиентов в день, что явно не соответствует более высокой оценке охвата.\n",
    "- Гипотеза **\"Добавить форму подписки на все основные страницы, чтобы собрать базу клиентов для email-рассылок\"** с третьего места по версии фреймворка ICE переместилась на 1ое, т.к. данное нововведение охватит абсолютно всех пользователей.\n",
    "- Гипотезы **\"Показать на главной странице баннеры с актуальными акциями и распродажами, чтобы увеличить конверсию\"** и **\"Добавить два новых канала привлечения трафика, что позволит привлекать на 30% больше пользователей\"** теперь делят третье место.\n",
    "- Гипотеза **\"Добавить блоки рекомендаций товаров на сайт интернет магазина, чтобы повысить конверсию и средний чек заказа\"** благодаря широкому охвату, переместилась со 4го на 2ое место, однако уступает первому по оценке RICE в 2 раза."
   ]
  },
  {
   "cell_type": "markdown",
   "metadata": {},
   "source": [
    "## Анализ A/B-теста\n",
    "\n",
    "Вы провели A/B-тест и получили результаты, которые описаны в файлах /datasets/orders.csv и /datasets/visitors.csv.\n",
    "\n",
    "### Задача:\n",
    "\n",
    "Проанализируйте A/B-тест:\n",
    "1. Постройте график кумулятивной выручки по группам. Сделайте выводы и предположения.\n",
    "2. Постройте график кумулятивного среднего чека по группам. Сделайте выводы и предположения.\n",
    "3. Постройте график относительного изменения кумулятивного среднего чека группы B к группе A. Сделайте выводы и предположения.\n",
    "4. Постройте график кумулятивной конверсии по группам. Сделайте выводы и предположения.\n",
    "5. Постройте график относительного изменения кумулятивной конверсии группы B к группе A. Сделайте выводы и предположения.\n",
    "6. Постройте точечный график количества заказов по пользователям. Сделайте выводы и предположения.\n",
    "7. Посчитайте 95-й и 99-й перцентили количества заказов на пользователя. Выберите границу для определения аномальных пользователей.\n",
    "8. Постройте точечный график стоимостей заказов. Сделайте выводы и предположения.\n",
    "9. Посчитайте 95-й и 99-й перцентили стоимости заказов. Выберите границу для определения аномальных заказов.\n",
    "10. Посчитайте статистическую значимость различий в конверсии между группами по «сырым» данным. Сделайте выводы и предположения.\n",
    "11. Посчитайте статистическую значимость различий в среднем чеке заказа между группами по «сырым» данным. Сделайте выводы и предположения.\n",
    "12. Посчитайте статистическую значимость различий в конверсии между группами по «очищенным» данным. Сделайте выводы и предположения.\n",
    "13. Посчитайте статистическую значимость различий в среднем чеке заказа между группами по «очищенным» данным. Сделайте выводы и предположения.\n",
    "14. Примите решение по результатам теста и объясните его. Варианты решений: 1. Остановить тест, зафиксировать победу одной из групп. 2. Остановить тест, зафиксировать отсутствие различий между группами. 3. Продолжить тест.\n",
    "\n",
    "### Подготовка данных\n",
    "\n",
    "Выгрузим результаты А/В-теста в соответствующие файлы и посмотрим информацию:"
   ]
  },
  {
   "cell_type": "code",
   "execution_count": 6,
   "metadata": {},
   "outputs": [
    {
     "name": "stdout",
     "output_type": "stream",
     "text": [
      "<class 'pandas.core.frame.DataFrame'>\n",
      "RangeIndex: 1197 entries, 0 to 1196\n",
      "Data columns (total 5 columns):\n",
      "transactionId    1197 non-null int64\n",
      "visitorId        1197 non-null int64\n",
      "date             1197 non-null object\n",
      "revenue          1197 non-null int64\n",
      "group            1197 non-null object\n",
      "dtypes: int64(3), object(2)\n",
      "memory usage: 46.9+ KB\n"
     ]
    },
    {
     "data": {
      "text/html": [
       "<div>\n",
       "<style scoped>\n",
       "    .dataframe tbody tr th:only-of-type {\n",
       "        vertical-align: middle;\n",
       "    }\n",
       "\n",
       "    .dataframe tbody tr th {\n",
       "        vertical-align: top;\n",
       "    }\n",
       "\n",
       "    .dataframe thead th {\n",
       "        text-align: right;\n",
       "    }\n",
       "</style>\n",
       "<table border=\"1\" class=\"dataframe\">\n",
       "  <thead>\n",
       "    <tr style=\"text-align: right;\">\n",
       "      <th></th>\n",
       "      <th>transactionId</th>\n",
       "      <th>visitorId</th>\n",
       "      <th>date</th>\n",
       "      <th>revenue</th>\n",
       "      <th>group</th>\n",
       "    </tr>\n",
       "  </thead>\n",
       "  <tbody>\n",
       "    <tr>\n",
       "      <td>0</td>\n",
       "      <td>3667963787</td>\n",
       "      <td>3312258926</td>\n",
       "      <td>2019-08-15</td>\n",
       "      <td>1650</td>\n",
       "      <td>B</td>\n",
       "    </tr>\n",
       "    <tr>\n",
       "      <td>1</td>\n",
       "      <td>2804400009</td>\n",
       "      <td>3642806036</td>\n",
       "      <td>2019-08-15</td>\n",
       "      <td>730</td>\n",
       "      <td>B</td>\n",
       "    </tr>\n",
       "    <tr>\n",
       "      <td>2</td>\n",
       "      <td>2961555356</td>\n",
       "      <td>4069496402</td>\n",
       "      <td>2019-08-15</td>\n",
       "      <td>400</td>\n",
       "      <td>A</td>\n",
       "    </tr>\n",
       "    <tr>\n",
       "      <td>3</td>\n",
       "      <td>3797467345</td>\n",
       "      <td>1196621759</td>\n",
       "      <td>2019-08-15</td>\n",
       "      <td>9759</td>\n",
       "      <td>B</td>\n",
       "    </tr>\n",
       "    <tr>\n",
       "      <td>4</td>\n",
       "      <td>2282983706</td>\n",
       "      <td>2322279887</td>\n",
       "      <td>2019-08-15</td>\n",
       "      <td>2308</td>\n",
       "      <td>B</td>\n",
       "    </tr>\n",
       "  </tbody>\n",
       "</table>\n",
       "</div>"
      ],
      "text/plain": [
       "   transactionId   visitorId        date  revenue group\n",
       "0     3667963787  3312258926  2019-08-15     1650     B\n",
       "1     2804400009  3642806036  2019-08-15      730     B\n",
       "2     2961555356  4069496402  2019-08-15      400     A\n",
       "3     3797467345  1196621759  2019-08-15     9759     B\n",
       "4     2282983706  2322279887  2019-08-15     2308     B"
      ]
     },
     "execution_count": 6,
     "metadata": {},
     "output_type": "execute_result"
    }
   ],
   "source": [
    "orders = pd.read_csv('/datasets/orders.csv') \n",
    "orders.info()\n",
    "orders.head()"
   ]
  },
  {
   "cell_type": "markdown",
   "metadata": {},
   "source": [
    "Файл **orders** содержит информацию о 1197 покупках, совершенных за время проведения А/В-теста. В названиях столбцов есть большие буквы, поэтому приведем их к нижнему регистру. Каждая покупка имеет информацию о:\n",
    "- Уникальный идентификатор покупки\n",
    "- Уникальный идентификатор покупателя\n",
    "- Дата совершения покупки (В формате Object, стоит изменить на Дату)\n",
    "- Стоимости покупки\n",
    "- Контрольная группа (А или В)"
   ]
  },
  {
   "cell_type": "code",
   "execution_count": 7,
   "metadata": {},
   "outputs": [
    {
     "name": "stdout",
     "output_type": "stream",
     "text": [
      "<class 'pandas.core.frame.DataFrame'>\n",
      "RangeIndex: 62 entries, 0 to 61\n",
      "Data columns (total 3 columns):\n",
      "date        62 non-null object\n",
      "group       62 non-null object\n",
      "visitors    62 non-null int64\n",
      "dtypes: int64(1), object(2)\n",
      "memory usage: 1.6+ KB\n"
     ]
    },
    {
     "data": {
      "text/html": [
       "<div>\n",
       "<style scoped>\n",
       "    .dataframe tbody tr th:only-of-type {\n",
       "        vertical-align: middle;\n",
       "    }\n",
       "\n",
       "    .dataframe tbody tr th {\n",
       "        vertical-align: top;\n",
       "    }\n",
       "\n",
       "    .dataframe thead th {\n",
       "        text-align: right;\n",
       "    }\n",
       "</style>\n",
       "<table border=\"1\" class=\"dataframe\">\n",
       "  <thead>\n",
       "    <tr style=\"text-align: right;\">\n",
       "      <th></th>\n",
       "      <th>date</th>\n",
       "      <th>group</th>\n",
       "      <th>visitors</th>\n",
       "    </tr>\n",
       "  </thead>\n",
       "  <tbody>\n",
       "    <tr>\n",
       "      <td>0</td>\n",
       "      <td>2019-08-01</td>\n",
       "      <td>A</td>\n",
       "      <td>719</td>\n",
       "    </tr>\n",
       "    <tr>\n",
       "      <td>1</td>\n",
       "      <td>2019-08-02</td>\n",
       "      <td>A</td>\n",
       "      <td>619</td>\n",
       "    </tr>\n",
       "    <tr>\n",
       "      <td>2</td>\n",
       "      <td>2019-08-03</td>\n",
       "      <td>A</td>\n",
       "      <td>507</td>\n",
       "    </tr>\n",
       "    <tr>\n",
       "      <td>3</td>\n",
       "      <td>2019-08-04</td>\n",
       "      <td>A</td>\n",
       "      <td>717</td>\n",
       "    </tr>\n",
       "    <tr>\n",
       "      <td>4</td>\n",
       "      <td>2019-08-05</td>\n",
       "      <td>A</td>\n",
       "      <td>756</td>\n",
       "    </tr>\n",
       "  </tbody>\n",
       "</table>\n",
       "</div>"
      ],
      "text/plain": [
       "         date group  visitors\n",
       "0  2019-08-01     A       719\n",
       "1  2019-08-02     A       619\n",
       "2  2019-08-03     A       507\n",
       "3  2019-08-04     A       717\n",
       "4  2019-08-05     A       756"
      ]
     },
     "execution_count": 7,
     "metadata": {},
     "output_type": "execute_result"
    }
   ],
   "source": [
    "visitors = pd.read_csv('/datasets/visitors.csv') \n",
    "visitors.info()\n",
    "visitors.head()"
   ]
  },
  {
   "cell_type": "markdown",
   "metadata": {},
   "source": [
    "Файл **visitors** содержит информацию о количестве посетителей интернет-магазина за 31 день А/В-теста (62 строки разделить на 2 группы).\n",
    "\n",
    "Стоит так же изменить формат столбца **data**."
   ]
  },
  {
   "cell_type": "code",
   "execution_count": 8,
   "metadata": {},
   "outputs": [],
   "source": [
    "orders['date'] = orders['date'].map(lambda x: dt.datetime.strptime(x, '%Y-%m-%d'))\n",
    "visitors['date'] = pd.to_datetime(visitors['date'])\n",
    "orders.columns = orders.columns.str.lower()"
   ]
  },
  {
   "cell_type": "markdown",
   "metadata": {},
   "source": [
    "Проверим, совпадают ли диапазоны дат в обоих файлах:"
   ]
  },
  {
   "cell_type": "code",
   "execution_count": 9,
   "metadata": {
    "scrolled": true
   },
   "outputs": [
    {
     "name": "stdout",
     "output_type": "stream",
     "text": [
      "Первая дата в файле orders: 2019-08-01 Первая дата в файле visitors: 2019-08-01\n",
      "Последняя дата в файле orders: 2019-08-31 Последняя дата в файле visitors: 2019-08-31\n"
     ]
    }
   ],
   "source": [
    "print('Первая дата в файле orders:',\n",
    "      orders['date'].astype('str').min(),\n",
    "      'Первая дата в файле visitors:',\n",
    "      visitors['date'].astype('str').min()\n",
    "     )\n",
    "\n",
    "print('Последняя дата в файле orders:',\n",
    "      visitors['date'].astype('str').max(),\n",
    "      'Последняя дата в файле visitors:',\n",
    "      visitors['date'].astype('str').max()\n",
    "     )"
   ]
  },
  {
   "cell_type": "markdown",
   "metadata": {},
   "source": [
    "### Анализ результатов А/В-теста\n",
    "\n",
    "#### Кумулятивная выручка по группам\n",
    "\n",
    "Для рассчета кумулятивной выручки создаём массив из всех сочетаний дат и групп:"
   ]
  },
  {
   "cell_type": "code",
   "execution_count": 10,
   "metadata": {},
   "outputs": [],
   "source": [
    "datesGroups = orders[['date','group']].drop_duplicates()"
   ]
  },
  {
   "cell_type": "markdown",
   "metadata": {},
   "source": [
    "Расчитываем кумулятивную выручку на каждую дату:"
   ]
  },
  {
   "cell_type": "code",
   "execution_count": 11,
   "metadata": {},
   "outputs": [
    {
     "data": {
      "text/html": [
       "<div>\n",
       "<style scoped>\n",
       "    .dataframe tbody tr th:only-of-type {\n",
       "        vertical-align: middle;\n",
       "    }\n",
       "\n",
       "    .dataframe tbody tr th {\n",
       "        vertical-align: top;\n",
       "    }\n",
       "\n",
       "    .dataframe thead th {\n",
       "        text-align: right;\n",
       "    }\n",
       "</style>\n",
       "<table border=\"1\" class=\"dataframe\">\n",
       "  <thead>\n",
       "    <tr style=\"text-align: right;\">\n",
       "      <th></th>\n",
       "      <th>index</th>\n",
       "      <th>date</th>\n",
       "      <th>group</th>\n",
       "      <th>revenue</th>\n",
       "    </tr>\n",
       "  </thead>\n",
       "  <tbody>\n",
       "    <tr>\n",
       "      <td>0</td>\n",
       "      <td>55</td>\n",
       "      <td>2019-08-01</td>\n",
       "      <td>A</td>\n",
       "      <td>148579</td>\n",
       "    </tr>\n",
       "    <tr>\n",
       "      <td>1</td>\n",
       "      <td>66</td>\n",
       "      <td>2019-08-01</td>\n",
       "      <td>B</td>\n",
       "      <td>101217</td>\n",
       "    </tr>\n",
       "    <tr>\n",
       "      <td>2</td>\n",
       "      <td>175</td>\n",
       "      <td>2019-08-02</td>\n",
       "      <td>A</td>\n",
       "      <td>242401</td>\n",
       "    </tr>\n",
       "    <tr>\n",
       "      <td>3</td>\n",
       "      <td>173</td>\n",
       "      <td>2019-08-02</td>\n",
       "      <td>B</td>\n",
       "      <td>266748</td>\n",
       "    </tr>\n",
       "    <tr>\n",
       "      <td>4</td>\n",
       "      <td>291</td>\n",
       "      <td>2019-08-03</td>\n",
       "      <td>A</td>\n",
       "      <td>354874</td>\n",
       "    </tr>\n",
       "  </tbody>\n",
       "</table>\n",
       "</div>"
      ],
      "text/plain": [
       "   index       date group  revenue\n",
       "0     55 2019-08-01     A   148579\n",
       "1     66 2019-08-01     B   101217\n",
       "2    175 2019-08-02     A   242401\n",
       "3    173 2019-08-02     B   266748\n",
       "4    291 2019-08-03     A   354874"
      ]
     },
     "execution_count": 11,
     "metadata": {},
     "output_type": "execute_result"
    }
   ],
   "source": [
    "ordersAggregated = datesGroups.apply(lambda x: orders[(orders['date'] <= x['date']) & (orders['group'] == x['group'])].agg({'date' : 'max', 'group' : 'max', 'revenue' : 'sum'}), axis=1).sort_values(by=['date','group']).reset_index()\n",
    "ordersAggregated.head()"
   ]
  },
  {
   "cell_type": "markdown",
   "metadata": {},
   "source": [
    "Строим графики кумулятивной выручки:"
   ]
  },
  {
   "cell_type": "code",
   "execution_count": 12,
   "metadata": {},
   "outputs": [
    {
     "name": "stderr",
     "output_type": "stream",
     "text": [
      "/opt/conda/lib/python3.7/site-packages/pandas/plotting/_matplotlib/converter.py:103: FutureWarning: Using an implicitly registered datetime converter for a matplotlib plotting method. The converter was registered by pandas on import. Future versions of pandas will require you to explicitly register matplotlib converters.\n",
      "\n",
      "To register the converters:\n",
      "\t>>> from pandas.plotting import register_matplotlib_converters\n",
      "\t>>> register_matplotlib_converters()\n",
      "  warnings.warn(msg, FutureWarning)\n"
     ]
    },
    {
     "data": {
      "image/png": "[encoded data removed]",
      "text/plain": [
       "<Figure size 1008x432 with 1 Axes>"
      ]
     },
     "metadata": {
      "needs_background": "light"
     },
     "output_type": "display_data"
    }
   ],
   "source": [
    "fig, ax = plt.subplots(figsize=(14, 6))\n",
    "ax.plot(ordersAggregated[ordersAggregated['group'] == 'A'][['date']], ordersAggregated[ordersAggregated['group'] == 'A'][['revenue']], label = 'A', color = 'black', linewidth = 5)  \n",
    "ax.plot(ordersAggregated[ordersAggregated['group'] == 'B'][['date']], ordersAggregated[ordersAggregated['group'] == 'B'][['revenue']], label = 'B', color = 'green', linewidth = 5) \n",
    "ax.grid(alpha = 0.5)       \n",
    "ax.set(title='Кумулятивная выручка по группам',\n",
    "       ylabel= 'Выручка',\n",
    "       xlabel = 'Дата')\n",
    "plt.show()"
   ]
  },
  {
   "cell_type": "markdown",
   "metadata": {},
   "source": [
    "**Вывод:** \n",
    "- Кумулятивная выручка группы А опережает кумулятивную выручку группы В только в первый день, в дальнейшем группа В лидирует с разной степенью опережения.\n",
    "- 2019.08.18-2019.08.19 кумулятивная выручка группы В резко возрастает. Это может быть анамальнодорогая покупка, которая никак не связана с тестом. В дальнейшем разберемся с этим подробнее.\n",
    "- В целом, разницу в темпе роста кумулятивной выручки по группам визуально различить сложно, однако, постоянное опережение группы В даже до появления аномального роста вселяет надежду в успешность А/В-теста."
   ]
  },
  {
   "cell_type": "markdown",
   "metadata": {},
   "source": [
    "#### Кумулятивный средний чек\n",
    " \n",
    "Для вычисления кумулятивного среднего чека добавим в файл **ordersAggregated** новый столбец с данными о кумулятивном количестве покупок:"
   ]
  },
  {
   "cell_type": "code",
   "execution_count": 13,
   "metadata": {},
   "outputs": [
    {
     "data": {
      "text/html": [
       "<div>\n",
       "<style scoped>\n",
       "    .dataframe tbody tr th:only-of-type {\n",
       "        vertical-align: middle;\n",
       "    }\n",
       "\n",
       "    .dataframe tbody tr th {\n",
       "        vertical-align: top;\n",
       "    }\n",
       "\n",
       "    .dataframe thead th {\n",
       "        text-align: right;\n",
       "    }\n",
       "</style>\n",
       "<table border=\"1\" class=\"dataframe\">\n",
       "  <thead>\n",
       "    <tr style=\"text-align: right;\">\n",
       "      <th></th>\n",
       "      <th>date</th>\n",
       "      <th>group</th>\n",
       "      <th>revenue</th>\n",
       "      <th>orders</th>\n",
       "      <th>avg_bill</th>\n",
       "    </tr>\n",
       "  </thead>\n",
       "  <tbody>\n",
       "    <tr>\n",
       "      <td>0</td>\n",
       "      <td>2019-08-01</td>\n",
       "      <td>A</td>\n",
       "      <td>148579</td>\n",
       "      <td>24</td>\n",
       "      <td>6190.791667</td>\n",
       "    </tr>\n",
       "    <tr>\n",
       "      <td>1</td>\n",
       "      <td>2019-08-01</td>\n",
       "      <td>B</td>\n",
       "      <td>101217</td>\n",
       "      <td>21</td>\n",
       "      <td>4819.857143</td>\n",
       "    </tr>\n",
       "    <tr>\n",
       "      <td>2</td>\n",
       "      <td>2019-08-02</td>\n",
       "      <td>A</td>\n",
       "      <td>242401</td>\n",
       "      <td>44</td>\n",
       "      <td>5509.113636</td>\n",
       "    </tr>\n",
       "    <tr>\n",
       "      <td>3</td>\n",
       "      <td>2019-08-02</td>\n",
       "      <td>B</td>\n",
       "      <td>266748</td>\n",
       "      <td>45</td>\n",
       "      <td>5927.733333</td>\n",
       "    </tr>\n",
       "    <tr>\n",
       "      <td>4</td>\n",
       "      <td>2019-08-03</td>\n",
       "      <td>A</td>\n",
       "      <td>354874</td>\n",
       "      <td>68</td>\n",
       "      <td>5218.735294</td>\n",
       "    </tr>\n",
       "  </tbody>\n",
       "</table>\n",
       "</div>"
      ],
      "text/plain": [
       "        date group  revenue  orders     avg_bill\n",
       "0 2019-08-01     A   148579      24  6190.791667\n",
       "1 2019-08-01     B   101217      21  4819.857143\n",
       "2 2019-08-02     A   242401      44  5509.113636\n",
       "3 2019-08-02     B   266748      45  5927.733333\n",
       "4 2019-08-03     A   354874      68  5218.735294"
      ]
     },
     "execution_count": 13,
     "metadata": {},
     "output_type": "execute_result"
    }
   ],
   "source": [
    "ordersAggregated['orders'] = datesGroups.apply(lambda x: orders[(orders['date'] <= x['date']) & (orders['group'] == x['group'])].agg({'date' : 'max', 'group' : 'max', 'transactionid' : 'nunique', 'visitorid': 'nunique'}), axis=1).sort_values(by=['date','group']).reset_index()[['transactionid']]\n",
    "ordersAggregated['avg_bill'] = ordersAggregated['revenue'] / ordersAggregated['orders']\n",
    "ordersAggregated = ordersAggregated.drop('index', 1)\n",
    "\n",
    "ordersA = ordersAggregated[ordersAggregated['group'] == 'A'].reset_index()\n",
    "ordersA = ordersA.drop('index', 1)\n",
    "ordersB = ordersAggregated[ordersAggregated['group'] == 'B'].reset_index()\n",
    "ordersB = ordersB.drop('index', 1)\n",
    "\n",
    "ordersAggregated.head()"
   ]
  },
  {
   "cell_type": "code",
   "execution_count": 14,
   "metadata": {},
   "outputs": [
    {
     "data": {
      "image/png": "[encoded data removed]",
      "text/plain": [
       "<Figure size 1008x432 with 1 Axes>"
      ]
     },
     "metadata": {
      "needs_background": "light"
     },
     "output_type": "display_data"
    }
   ],
   "source": [
    "fig, ax = plt.subplots(figsize=(14, 6))\n",
    "ax.plot(ordersA['date'], ordersA[['avg_bill']], label = 'A', color = 'black', linewidth = 5)  \n",
    "ax.plot(ordersB['date'], ordersB[['avg_bill']], label = 'B', color = 'green', linewidth = 5) \n",
    "ax.grid(alpha = 0.5)       \n",
    "ax.set(title='Кумулятивный средний чек',\n",
    "       ylabel= 'средний чек',\n",
    "       xlabel = 'Дата')\n",
    "plt.show()"
   ]
  },
  {
   "cell_type": "markdown",
   "metadata": {},
   "source": [
    "**Вывод:**\n",
    "- В те же  даты, что и на предыдущем графике, сильный скачок у группы В. Все больше убеждаемся, что тут кроется сильный выброс в виде большой покупки.\n",
    "- Средний чек обеих групп за анализируемый период возрос\n",
    "- Падение показателя для группы В после резкого скачка не означает, что её дела хуже группы А, просто значение на дистанции возвращается к реальным показателям после влияния аномалии."
   ]
  },
  {
   "cell_type": "markdown",
   "metadata": {},
   "source": [
    "#### График относительного изменения кумулятивного среднего чека группы B к группе A"
   ]
  },
  {
   "cell_type": "code",
   "execution_count": 15,
   "metadata": {},
   "outputs": [
    {
     "data": {
      "image/png": "[encoded data removed]",
      "text/plain": [
       "<Figure size 720x432 with 1 Axes>"
      ]
     },
     "metadata": {
      "needs_background": "light"
     },
     "output_type": "display_data"
    }
   ],
   "source": [
    "plt.subplots(figsize=(10, 6))\n",
    "plt.plot(ordersA['date'], (ordersB['avg_bill'] / ordersA['avg_bill'] - 1), linewidth = 3)\n",
    "\n",
    "plt.axhline(y=0, color='black', linestyle='--') \n",
    "plt.title('Относительное изменение кумулятивного среднего чека группы B к группе A')\n",
    "plt.ylabel('Различие В относительно А')\n",
    "plt.xlabel('Дата')\n",
    "plt.xticks(rotation = 45)\n",
    "plt.show()"
   ]
  },
  {
   "cell_type": "markdown",
   "metadata": {},
   "source": [
    "**Вывод:**\n",
    "- Средний чек группы В на протяжении практически всего периода исследования выше среднего чека группы А\n",
    "- 2019-08-19 средний чек группы В выше ср. чека группы А в полтора раза! Это все влияние аномальной покупки."
   ]
  },
  {
   "cell_type": "markdown",
   "metadata": {},
   "source": [
    "#### График кумулятивной конверсии по группам\n",
    "\n",
    "Для расчета кумулятивной конверсии нам понадобится добавить к нашему файлу **ordersAggregated** столбец с информацией о посетителях:"
   ]
  },
  {
   "cell_type": "code",
   "execution_count": 16,
   "metadata": {},
   "outputs": [
    {
     "data": {
      "text/html": [
       "<div>\n",
       "<style scoped>\n",
       "    .dataframe tbody tr th:only-of-type {\n",
       "        vertical-align: middle;\n",
       "    }\n",
       "\n",
       "    .dataframe tbody tr th {\n",
       "        vertical-align: top;\n",
       "    }\n",
       "\n",
       "    .dataframe thead th {\n",
       "        text-align: right;\n",
       "    }\n",
       "</style>\n",
       "<table border=\"1\" class=\"dataframe\">\n",
       "  <thead>\n",
       "    <tr style=\"text-align: right;\">\n",
       "      <th></th>\n",
       "      <th>date</th>\n",
       "      <th>group</th>\n",
       "      <th>revenue</th>\n",
       "      <th>orders</th>\n",
       "      <th>avg_bill</th>\n",
       "      <th>visitors</th>\n",
       "    </tr>\n",
       "  </thead>\n",
       "  <tbody>\n",
       "    <tr>\n",
       "      <td>0</td>\n",
       "      <td>2019-08-01</td>\n",
       "      <td>A</td>\n",
       "      <td>148579</td>\n",
       "      <td>24</td>\n",
       "      <td>6190.791667</td>\n",
       "      <td>719</td>\n",
       "    </tr>\n",
       "    <tr>\n",
       "      <td>1</td>\n",
       "      <td>2019-08-01</td>\n",
       "      <td>B</td>\n",
       "      <td>101217</td>\n",
       "      <td>21</td>\n",
       "      <td>4819.857143</td>\n",
       "      <td>713</td>\n",
       "    </tr>\n",
       "    <tr>\n",
       "      <td>2</td>\n",
       "      <td>2019-08-02</td>\n",
       "      <td>A</td>\n",
       "      <td>242401</td>\n",
       "      <td>44</td>\n",
       "      <td>5509.113636</td>\n",
       "      <td>1338</td>\n",
       "    </tr>\n",
       "    <tr>\n",
       "      <td>3</td>\n",
       "      <td>2019-08-02</td>\n",
       "      <td>B</td>\n",
       "      <td>266748</td>\n",
       "      <td>45</td>\n",
       "      <td>5927.733333</td>\n",
       "      <td>1294</td>\n",
       "    </tr>\n",
       "    <tr>\n",
       "      <td>4</td>\n",
       "      <td>2019-08-03</td>\n",
       "      <td>A</td>\n",
       "      <td>354874</td>\n",
       "      <td>68</td>\n",
       "      <td>5218.735294</td>\n",
       "      <td>1845</td>\n",
       "    </tr>\n",
       "  </tbody>\n",
       "</table>\n",
       "</div>"
      ],
      "text/plain": [
       "        date group  revenue  orders     avg_bill  visitors\n",
       "0 2019-08-01     A   148579      24  6190.791667       719\n",
       "1 2019-08-01     B   101217      21  4819.857143       713\n",
       "2 2019-08-02     A   242401      44  5509.113636      1338\n",
       "3 2019-08-02     B   266748      45  5927.733333      1294\n",
       "4 2019-08-03     A   354874      68  5218.735294      1845"
      ]
     },
     "execution_count": 16,
     "metadata": {},
     "output_type": "execute_result"
    }
   ],
   "source": [
    "visitorsAggregated = datesGroups.apply(lambda x: visitors[np.logical_and(visitors['date'] <= x['date'], visitors['group'] == x['group'])].agg({'date' : 'max', 'group' : 'max', 'visitors' : 'sum'}), axis = 1).sort_values(by=['date','group'])\n",
    "DataAggregated = ordersAggregated.merge(visitorsAggregated, on = ['date', 'group'])\n",
    "DataAggregated.columns = ['date', 'group', 'revenue', 'orders', 'avg_bill', 'visitors']\n",
    "DataAggregated.head()"
   ]
  },
  {
   "cell_type": "markdown",
   "metadata": {},
   "source": [
    "Теперь \"прикрутим\" данные о количестве уникальных покупателей и посчитаем конверсию:\n",
    "\n",
    "P.S. Стоило, конечно, собрать все данные сразу, а не добавлять их, но я начал делать все по очереди и выводить только необходимые данные для конктерной задачи. Ну и демонстрация Вам, что вроде как понимаю, как работает код, а не просто копировал из тренажера, хотя в реальной работе, я бы выбрал более простой и путь =)"
   ]
  },
  {
   "cell_type": "code",
   "execution_count": 17,
   "metadata": {},
   "outputs": [
    {
     "data": {
      "text/html": [
       "<div>\n",
       "<style scoped>\n",
       "    .dataframe tbody tr th:only-of-type {\n",
       "        vertical-align: middle;\n",
       "    }\n",
       "\n",
       "    .dataframe tbody tr th {\n",
       "        vertical-align: top;\n",
       "    }\n",
       "\n",
       "    .dataframe thead th {\n",
       "        text-align: right;\n",
       "    }\n",
       "</style>\n",
       "<table border=\"1\" class=\"dataframe\">\n",
       "  <thead>\n",
       "    <tr style=\"text-align: right;\">\n",
       "      <th></th>\n",
       "      <th>date</th>\n",
       "      <th>group</th>\n",
       "      <th>revenue</th>\n",
       "      <th>orders</th>\n",
       "      <th>avg_bill</th>\n",
       "      <th>visitors</th>\n",
       "      <th>buyers</th>\n",
       "      <th>conv</th>\n",
       "    </tr>\n",
       "  </thead>\n",
       "  <tbody>\n",
       "    <tr>\n",
       "      <td>0</td>\n",
       "      <td>2019-08-01</td>\n",
       "      <td>A</td>\n",
       "      <td>148579</td>\n",
       "      <td>24</td>\n",
       "      <td>6190.791667</td>\n",
       "      <td>719</td>\n",
       "      <td>20</td>\n",
       "      <td>0.027816</td>\n",
       "    </tr>\n",
       "    <tr>\n",
       "      <td>1</td>\n",
       "      <td>2019-08-01</td>\n",
       "      <td>B</td>\n",
       "      <td>101217</td>\n",
       "      <td>21</td>\n",
       "      <td>4819.857143</td>\n",
       "      <td>713</td>\n",
       "      <td>20</td>\n",
       "      <td>0.028050</td>\n",
       "    </tr>\n",
       "    <tr>\n",
       "      <td>2</td>\n",
       "      <td>2019-08-02</td>\n",
       "      <td>A</td>\n",
       "      <td>242401</td>\n",
       "      <td>44</td>\n",
       "      <td>5509.113636</td>\n",
       "      <td>1338</td>\n",
       "      <td>38</td>\n",
       "      <td>0.028401</td>\n",
       "    </tr>\n",
       "    <tr>\n",
       "      <td>3</td>\n",
       "      <td>2019-08-02</td>\n",
       "      <td>B</td>\n",
       "      <td>266748</td>\n",
       "      <td>45</td>\n",
       "      <td>5927.733333</td>\n",
       "      <td>1294</td>\n",
       "      <td>43</td>\n",
       "      <td>0.033230</td>\n",
       "    </tr>\n",
       "    <tr>\n",
       "      <td>4</td>\n",
       "      <td>2019-08-03</td>\n",
       "      <td>A</td>\n",
       "      <td>354874</td>\n",
       "      <td>68</td>\n",
       "      <td>5218.735294</td>\n",
       "      <td>1845</td>\n",
       "      <td>62</td>\n",
       "      <td>0.033604</td>\n",
       "    </tr>\n",
       "  </tbody>\n",
       "</table>\n",
       "</div>"
      ],
      "text/plain": [
       "        date group  revenue  orders     avg_bill  visitors  buyers      conv\n",
       "0 2019-08-01     A   148579      24  6190.791667       719      20  0.027816\n",
       "1 2019-08-01     B   101217      21  4819.857143       713      20  0.028050\n",
       "2 2019-08-02     A   242401      44  5509.113636      1338      38  0.028401\n",
       "3 2019-08-02     B   266748      45  5927.733333      1294      43  0.033230\n",
       "4 2019-08-03     A   354874      68  5218.735294      1845      62  0.033604"
      ]
     },
     "execution_count": 17,
     "metadata": {},
     "output_type": "execute_result"
    }
   ],
   "source": [
    "DataAggregated['buyers'] = datesGroups.apply(lambda x: orders[(orders['date'] <= x['date']) & (orders['group'] == x['group'])].agg({'date' : 'max', 'group' : 'max', 'visitorid': 'nunique'}), axis=1).sort_values(by=['date','group']).reset_index()[['visitorid']]\n",
    "DataAggregated['conv'] = DataAggregated['buyers'] / DataAggregated['visitors']\n",
    "DataAggregated.head()"
   ]
  },
  {
   "cell_type": "code",
   "execution_count": 18,
   "metadata": {},
   "outputs": [
    {
     "data": {
      "image/png": "[encoded data removed]",
      "text/plain": [
       "<Figure size 1008x432 with 1 Axes>"
      ]
     },
     "metadata": {
      "needs_background": "light"
     },
     "output_type": "display_data"
    }
   ],
   "source": [
    "\n",
    "fig, ax = plt.subplots(figsize=(14, 6))\n",
    "ax.plot(DataAggregated[DataAggregated['group'] == 'A']['date'], DataAggregated[DataAggregated['group'] == 'A'][['conv']], label = 'A', color = 'black', linewidth = 5)  \n",
    "ax.plot(DataAggregated[DataAggregated['group'] == 'A']['date'], DataAggregated[DataAggregated['group'] == 'B'][['conv']], label = 'B', color = 'green', linewidth = 5) \n",
    "ax.grid(alpha = 0.5)       \n",
    "ax.set(title='Кумулятивная конверсия по группам',\n",
    "       ylabel= 'Конверсия',\n",
    "       xlabel = 'Дата')\n",
    "plt.axis([\"2019-08-01\", '2019-08-31', 0, 0.04])\n",
    "plt.show()"
   ]
  },
  {
   "cell_type": "markdown",
   "metadata": {},
   "source": [
    "**Вывод:** В первые дни теста сильное колебание значений, но после 5го августа чётко заметно более высокое значение конверсии для группы В относительно группы А. По результатам \"сырых\" данным мы можем сделать вывод, что конверсия группы В выше, но остается открытым вопрос: ощутимо ли выше?"
   ]
  },
  {
   "cell_type": "markdown",
   "metadata": {},
   "source": [
    "#### График относительного изменения кумулятивной конверсии группы B к группе A"
   ]
  },
  {
   "cell_type": "code",
   "execution_count": 19,
   "metadata": {},
   "outputs": [],
   "source": [
    "DataAggregatedA = DataAggregated[DataAggregated['group'] == 'A'].reset_index()\n",
    "del DataAggregatedA['index']\n",
    "DataAggregatedB = DataAggregated[DataAggregated['group'] == 'B'].reset_index()\n",
    "del DataAggregatedB['index']"
   ]
  },
  {
   "cell_type": "code",
   "execution_count": 20,
   "metadata": {},
   "outputs": [
    {
     "data": {
      "image/png": "[encoded data removed]",
      "text/plain": [
       "<Figure size 720x432 with 1 Axes>"
      ]
     },
     "metadata": {
      "needs_background": "light"
     },
     "output_type": "display_data"
    }
   ],
   "source": [
    "plt.subplots(figsize=(10, 6))\n",
    "plt.plot(ordersA['date'], (DataAggregatedB['conv'] / DataAggregatedA['conv'] - 1), linewidth = 3)\n",
    "\n",
    "plt.xticks(rotation = 45)\n",
    "plt.axhline(y=0, color='black', linestyle='--') \n",
    "plt.grid(alpha = .4)\n",
    "plt.title('Относительное изменение кумулятивной конверсии группы B к группе A')\n",
    "plt.ylabel('Различие В относительно А')\n",
    "plt.xlabel('Дата')\n",
    "plt.show()"
   ]
  },
  {
   "cell_type": "markdown",
   "metadata": {},
   "source": [
    "**Вывод:** Кумулятивная конверсия группы В превысила Кумулятивную конверсию группы А больше чем на 15% на момент последних данных."
   ]
  },
  {
   "cell_type": "markdown",
   "metadata": {},
   "source": [
    "#### Точечный график количества заказов по пользователям\n",
    "\n",
    "Для построения графика по количеству заказов на пользователя нам необходимо эту информацию высчитать из файла **orders**:"
   ]
  },
  {
   "cell_type": "code",
   "execution_count": 21,
   "metadata": {},
   "outputs": [
    {
     "data": {
      "text/html": [
       "<div>\n",
       "<style scoped>\n",
       "    .dataframe tbody tr th:only-of-type {\n",
       "        vertical-align: middle;\n",
       "    }\n",
       "\n",
       "    .dataframe tbody tr th {\n",
       "        vertical-align: top;\n",
       "    }\n",
       "\n",
       "    .dataframe thead th {\n",
       "        text-align: right;\n",
       "    }\n",
       "</style>\n",
       "<table border=\"1\" class=\"dataframe\">\n",
       "  <thead>\n",
       "    <tr style=\"text-align: right;\">\n",
       "      <th></th>\n",
       "      <th>visitorid</th>\n",
       "      <th>purchases</th>\n",
       "    </tr>\n",
       "  </thead>\n",
       "  <tbody>\n",
       "    <tr>\n",
       "      <td>0</td>\n",
       "      <td>5114589</td>\n",
       "      <td>1</td>\n",
       "    </tr>\n",
       "    <tr>\n",
       "      <td>1</td>\n",
       "      <td>6958315</td>\n",
       "      <td>1</td>\n",
       "    </tr>\n",
       "    <tr>\n",
       "      <td>2</td>\n",
       "      <td>8300375</td>\n",
       "      <td>2</td>\n",
       "    </tr>\n",
       "    <tr>\n",
       "      <td>3</td>\n",
       "      <td>11685486</td>\n",
       "      <td>1</td>\n",
       "    </tr>\n",
       "    <tr>\n",
       "      <td>4</td>\n",
       "      <td>39475350</td>\n",
       "      <td>1</td>\n",
       "    </tr>\n",
       "  </tbody>\n",
       "</table>\n",
       "</div>"
      ],
      "text/plain": [
       "   visitorid  purchases\n",
       "0    5114589          1\n",
       "1    6958315          1\n",
       "2    8300375          2\n",
       "3   11685486          1\n",
       "4   39475350          1"
      ]
     },
     "execution_count": 21,
     "metadata": {},
     "output_type": "execute_result"
    }
   ],
   "source": [
    "OrdersPerUser = orders.groupby('visitorid').agg({'transactionid':'count'}).reset_index()\n",
    "OrdersPerUser.columns = ['visitorid', 'purchases']\n",
    "OrdersPerUser.head()"
   ]
  },
  {
   "cell_type": "code",
   "execution_count": 22,
   "metadata": {},
   "outputs": [
    {
     "data": {
      "image/png": "[encoded data removed]",
      "text/plain": [
       "<Figure size 1080x288 with 1 Axes>"
      ]
     },
     "metadata": {
      "needs_background": "light"
     },
     "output_type": "display_data"
    }
   ],
   "source": [
    "plt.subplots(figsize=(15, 4))\n",
    "plt.scatter(pd.Series(range(0,len(OrdersPerUser))), OrdersPerUser['purchases']) \n",
    "plt.title('Количество заказов для каждого пользователя')\n",
    "plt.ylabel('Количество покупок')\n",
    "plt.xlabel('Клиент')\n",
    "plt.show()"
   ]
  },
  {
   "cell_type": "markdown",
   "metadata": {},
   "source": [
    "**Вывод:** как видно, большинство покупателей совершали всего одну покупку. 2-3 встречаются, но довольно редко. Случаи 4-5 покупок на одного клиента можно пересчитать по пальцам, но в данных присутствуют несколько челвек и с 8-11 покупками - это явно аномальные показатели и нам стоит оценить результаты теста без их влияния."
   ]
  },
  {
   "cell_type": "markdown",
   "metadata": {},
   "source": [
    "#### 95-й и 99-й перцентили количества заказов на пользователя. Граница аномальных пользователей"
   ]
  },
  {
   "cell_type": "code",
   "execution_count": 23,
   "metadata": {},
   "outputs": [
    {
     "data": {
      "text/plain": [
       "array([2., 4.])"
      ]
     },
     "execution_count": 23,
     "metadata": {},
     "output_type": "execute_result"
    }
   ],
   "source": [
    "np.percentile(OrdersPerUser['purchases'].astype('float64'), [95, 99], interpolation='linear')"
   ]
  },
  {
   "cell_type": "markdown",
   "metadata": {},
   "source": [
    "**Вывод:** 95% покупателей совершают 2 и меньше покупок - это означает, что 3 и больше покупок совершает не больше 5% покупателей. 5 и более покупок оформляли менее 1% клиентов. Считаю, что стоит установить границу анамальных заказов равную \"3 и более\"."
   ]
  },
  {
   "cell_type": "markdown",
   "metadata": {},
   "source": [
    "#### Точечный график стоимостей заказов"
   ]
  },
  {
   "cell_type": "code",
   "execution_count": 24,
   "metadata": {},
   "outputs": [
    {
     "data": {
      "image/png": "[encoded data removed]",
      "text/plain": [
       "<Figure size 1080x288 with 1 Axes>"
      ]
     },
     "metadata": {
      "needs_background": "light"
     },
     "output_type": "display_data"
    }
   ],
   "source": [
    "plt.subplots(figsize=(15, 4))\n",
    "plt.scatter(pd.Series(range(0,len(orders))), orders['revenue']) \n",
    "plt.title('Стоимость каждого заказа')\n",
    "plt.ylabel('Стоимость')\n",
    "plt.xlabel('Заказ')\n",
    "plt.show()"
   ]
  },
  {
   "cell_type": "markdown",
   "metadata": {},
   "source": [
    "**Вывод:** Так и хочется сказать \"А я же говорил!\", но не буду, потому что это было слишком очевидно. У нас есть всего одна грандиозная покупка, но какая - дороже 1.2 млна!"
   ]
  },
  {
   "cell_type": "code",
   "execution_count": 25,
   "metadata": {},
   "outputs": [
    {
     "data": {
      "text/plain": [
       "1294500"
      ]
     },
     "execution_count": 25,
     "metadata": {},
     "output_type": "execute_result"
    }
   ],
   "source": [
    "orders['revenue'].max()"
   ]
  },
  {
   "cell_type": "markdown",
   "metadata": {},
   "source": [
    "#### 95-й и 99-й перцентили стоимости заказов. Граница аномальных заказов"
   ]
  },
  {
   "cell_type": "code",
   "execution_count": 26,
   "metadata": {},
   "outputs": [
    {
     "data": {
      "text/plain": [
       "array([28000. , 58233.2])"
      ]
     },
     "execution_count": 26,
     "metadata": {},
     "output_type": "execute_result"
    }
   ],
   "source": [
    "np.percentile(orders['revenue'], [95, 99], interpolation='linear')"
   ]
  },
  {
   "cell_type": "markdown",
   "metadata": {},
   "source": [
    "**Вывод:** Покупки дороже 28000 совершает всего около 5% клиентов, а дороже 58233.2 - менее 1%. Считаю, что аномальной суммой заказа стоит считать 30000 и больше."
   ]
  },
  {
   "cell_type": "markdown",
   "metadata": {},
   "source": [
    "#### Статистическая значимость различий в конверсии между группами по «сырым» данным\n",
    "\n"
   ]
  },
  {
   "cell_type": "code",
   "execution_count": 27,
   "metadata": {},
   "outputs": [],
   "source": [
    "OrdersPerUserA = orders[orders['group'] == 'A'].groupby('visitorid').agg({'transactionid':'count'}).reset_index()\n",
    "OrdersPerUserA.columns = ['visitorid', 'purchases']\n",
    "OrdersPerUserB = orders[orders['group'] == 'B'].groupby('visitorid').agg({'transactionid':'count'}).reset_index()\n",
    "OrdersPerUserB.columns = ['visitorid', 'purchases']\n",
    "\n",
    "sampleA = pd.concat([OrdersPerUserA['purchases'], pd.Series(0, index = np.arange(visitors[visitors['group'] == 'A']['visitors'].sum() - len(OrdersPerUserA['purchases'])), name = 'purchases')], axis=0)\n",
    "sampleB = pd.concat([OrdersPerUserB['purchases'], pd.Series(0, index = np.arange(visitors[visitors['group'] == 'B']['visitors'].sum() - len(OrdersPerUserB['purchases'])), name = 'purchases')], axis=0)"
   ]
  },
  {
   "cell_type": "markdown",
   "metadata": {},
   "source": [
    "Так как данные о конверсии группы А распределены не нормально из-за значительного влияния выбросов (в нашем случае одного, но сильно влияющего), для определения значимости различий конверсии нам необходимо сформулировать Н0 и Н1 и применить U-критерий Манна-Уитни:\n",
    "\n",
    "**Н0:** Значение показателя конверсии группы А, основанное на \"сырых\" данных, **равно** (или очень близко) значению показателя конверсии группы В, основанному на \"сырых\" данных.\n",
    "\n",
    "**Н1:** Значение показателя конверсии группы А, основанное на \"сырых\" данных, **не равно** значению показателя конверсии группы В, основанному на \"сырых\" данных."
   ]
  },
  {
   "cell_type": "code",
   "execution_count": 28,
   "metadata": {},
   "outputs": [
    {
     "name": "stdout",
     "output_type": "stream",
     "text": [
      "p-значение:  0.008396177528376304\n",
      "Отвергаем нулевую гипотезу: разница статистически значима\n"
     ]
    }
   ],
   "source": [
    "alpha = 0.01\n",
    "results = st.mannwhitneyu(sampleA, sampleB)\n",
    "\n",
    "print('p-значение: ', results.pvalue)\n",
    "\n",
    "if results.pvalue < alpha:\n",
    "    print('Отвергаем нулевую гипотезу: разница статистически значима')\n",
    "else:\n",
    "    print(\n",
    "        'Не получилось отвергнуть нулевую гипотезу, вывод о различии сделать нельзя'\n",
    "    ) "
   ]
  },
  {
   "cell_type": "markdown",
   "metadata": {},
   "source": [
    "**Вывод:** Нам не удалось подтвердить нулевую гипотезу, т.к. разница примерно в 16% статистически оказалась значима даже при критическом уровене статистической значимости всего в 1%."
   ]
  },
  {
   "cell_type": "markdown",
   "metadata": {},
   "source": [
    "#### Статистическая значимость различий в среднем чеке заказа между группами по «сырым» данным"
   ]
  },
  {
   "cell_type": "markdown",
   "metadata": {},
   "source": [
    "Так как данные о среднем чеке обеих групп распределены не нормально из-за значительного влияния выбросов, для определения значимости различий конверсии нам необходимо сформулировать Н0 и Н1 и применить U-критерий Манна-Уитни:\n",
    "\n",
    "**Н0:** Значение показателя среднего чека группы А, основанное на \"сырых\" данных, **равно** (или очень близко) значению показателя среднего чека группы В, основанному на \"сырых\" данных.\n",
    "\n",
    "**Н1:** Значение показателя среднего чека группы А, основанное на \"сырых\" данных, **не равно** значению показателя среднего чека группы В, основанному на \"сырых\" данных."
   ]
  },
  {
   "cell_type": "code",
   "execution_count": 29,
   "metadata": {},
   "outputs": [
    {
     "name": "stdout",
     "output_type": "stream",
     "text": [
      "p-значение:  0.365\n",
      "Не получилось отвергнуть нулевую гипотезу, вывод о различии сделать нельзя\n"
     ]
    }
   ],
   "source": [
    "alpha = 0.05\n",
    "results = st.mannwhitneyu(orders[orders['group'] == 'A']['revenue'], orders[orders['group'] == 'B']['revenue'])\n",
    "\n",
    "print('p-значение: ', results.pvalue.round(3))\n",
    "\n",
    "if results.pvalue < alpha:\n",
    "    print('Отвергаем нулевую гипотезу: разница статистически значима')\n",
    "else:\n",
    "    print(\n",
    "        'Не получилось отвергнуть нулевую гипотезу, вывод о различии сделать нельзя'\n",
    "    ) "
   ]
  },
  {
   "cell_type": "code",
   "execution_count": 30,
   "metadata": {},
   "outputs": [
    {
     "name": "stdout",
     "output_type": "stream",
     "text": [
      "Относительное различие среднего чека: 25.9 %\n"
     ]
    }
   ],
   "source": [
    "print('Относительное различие среднего чека:', ((orders[orders['group'] == 'B']['revenue'].mean() / orders[orders['group'] == 'A']['revenue'].mean()-1) * 100).round(1), '%')"
   ]
  },
  {
   "cell_type": "markdown",
   "metadata": {},
   "source": [
    "**Вывод:** Нам не удалось отвергнуть нулевую гипотезу, т.к. разница среднего чека группы А и В примерно в 26% статистически оказалась не значима."
   ]
  },
  {
   "cell_type": "markdown",
   "metadata": {},
   "source": [
    "#### Статистическая значимость различий в конверсии между группами по «очищенным» данным\n",
    "\n",
    "Границы аномальных значений выбраны, теперь узнаем, сколько клиентов совершили аномальные покупки, будь то их количество или сумма покупки:"
   ]
  },
  {
   "cell_type": "code",
   "execution_count": 31,
   "metadata": {},
   "outputs": [
    {
     "name": "stdout",
     "output_type": "stream",
     "text": [
      "Количество клиентов с аномальными покупками: 68\n"
     ]
    }
   ],
   "source": [
    "usersWithManyOrders = pd.concat(\n",
    "    [\n",
    "        OrdersPerUserA[OrdersPerUserA['purchases'] > 2]['visitorid'],\n",
    "        OrdersPerUserB[OrdersPerUserB['purchases'] > 2]['visitorid'],\n",
    "    ],\n",
    "    axis=0,\n",
    ")\n",
    "usersWithExpensiveOrders = orders[orders['revenue'] > 30000]['visitorid']\n",
    "abnormalUsers = (\n",
    "    pd.concat([usersWithManyOrders, usersWithExpensiveOrders], axis=0)\n",
    "    .drop_duplicates()\n",
    "    .sort_values()\n",
    ")\n",
    "print('Количество клиентов с аномальными покупками:', len(abnormalUsers))"
   ]
  },
  {
   "cell_type": "markdown",
   "metadata": {},
   "source": [
    "Исключим 68 этих клиентов из данных и проверим гипотезы по обновленным данным.\n",
    "\n",
    "**Н0:** Значение показателя конверсии группы А, основанное на \"очищенных\" данных, **равно** (или очень близко) значению показателя конверсии группы В, основанному на \"очищенных\" данных.\n",
    "\n",
    "**Н1:** Значение показателя конверсии группы А, основанное на \"очищенных\" данных, **не равно** значению показателя конверсии группы В, основанному на \"очищенных\" данных."
   ]
  },
  {
   "cell_type": "code",
   "execution_count": 32,
   "metadata": {},
   "outputs": [
    {
     "name": "stdout",
     "output_type": "stream",
     "text": [
      "p-значение:  0.0067\n",
      "Отвергаем нулевую гипотезу: разница статистически значима\n"
     ]
    }
   ],
   "source": [
    "sampleAFiltered = pd.concat([OrdersPerUserA[np.logical_not(OrdersPerUserA['visitorid'].isin(abnormalUsers))]['purchases'], \n",
    "                             pd.Series(0, index=np.arange(visitors[visitors['group'] == 'A']['visitors'].sum() - len(OrdersPerUserA['purchases'])), \n",
    "                                       name='purchases')],\n",
    "                            axis=0)\n",
    "\n",
    "sampleBFiltered = pd.concat([OrdersPerUserB[np.logical_not(OrdersPerUserB['visitorid'].isin(abnormalUsers))]['purchases'], \n",
    "                             pd.Series(0, index=np.arange(visitors[visitors['group'] == 'B']['visitors'].sum() - len(OrdersPerUserB['purchases'])), \n",
    "                                       name='purchases')],\n",
    "                            axis=0)\n",
    "\n",
    "alpha = 0.05\n",
    "results = st.mannwhitneyu(sampleAFiltered, sampleBFiltered)\n",
    "\n",
    "print('p-значение: ', results.pvalue.round(4))\n",
    "\n",
    "if results.pvalue < alpha:\n",
    "    print('Отвергаем нулевую гипотезу: разница статистически значима')\n",
    "else:\n",
    "    print(\n",
    "        'Не получилось отвергнуть нулевую гипотезу, вывод о различии сделать нельзя'\n",
    "    ) "
   ]
  },
  {
   "cell_type": "code",
   "execution_count": 33,
   "metadata": {},
   "outputs": [
    {
     "name": "stdout",
     "output_type": "stream",
     "text": [
      "Относительное различие конверсии: 17.2 %\n"
     ]
    }
   ],
   "source": [
    "print('Относительное различие конверсии:', ((sampleBFiltered.mean()/sampleAFiltered.mean()-1) * 100).round(1), '%')\n"
   ]
  },
  {
   "cell_type": "markdown",
   "metadata": {},
   "source": [
    "**Вывод:** Нам не удалось подтвердить гипотезу о равенстве значений конверсии группы А и группы В. Разницы в 17.2% хватило, чтобы считать наш А/В-тест удачным."
   ]
  },
  {
   "cell_type": "markdown",
   "metadata": {},
   "source": [
    "#### Статистическая значимость различий в среднем чеке заказа между группами по «очищенным» данным\n",
    "\n",
    "Мы уже определили ID клиентов, которые совершили аномальные действия в период теста, поэтому мы можем просто их отфильтровать и произвести проверку гипотез снова:\n",
    "\n",
    "**Н0:** Значение показателя среднего чека группы А, основанное на \"очищенных\" данных, **равно** (или очень близко) значению показателя среднего чека группы В, основанному на \"очищенных\" данных.\n",
    "\n",
    "**Н1:** Значение показателя среднего чека группы А, основанное на \"очищенных\" данных, **не равно** значению показателя среднего чека группы В, основанному на \"очищенных\" данных."
   ]
  },
  {
   "cell_type": "code",
   "execution_count": 34,
   "metadata": {},
   "outputs": [
    {
     "name": "stdout",
     "output_type": "stream",
     "text": [
      "p-значение:  0.085\n",
      "Не получилось отвергнуть нулевую гипотезу, вывод о различии сделать нельзя\n"
     ]
    }
   ],
   "source": [
    "alpha = 0.05\n",
    "results = st.mannwhitneyu(orders[(orders['group'] == 'A') & (~orders['visitorid'].isin(abnormalUsers))]['revenue'], orders[(orders['group'] == 'B') & (~orders['revenue'].isin(abnormalUsers))]['revenue'])\n",
    "\n",
    "print('p-значение: ', results.pvalue.round(3))\n",
    "\n",
    "if results.pvalue < alpha:\n",
    "    print('Отвергаем нулевую гипотезу: разница статистически значима')\n",
    "else:\n",
    "    print(\n",
    "        'Не получилось отвергнуть нулевую гипотезу, вывод о различии сделать нельзя'\n",
    "    ) "
   ]
  },
  {
   "cell_type": "code",
   "execution_count": 35,
   "metadata": {},
   "outputs": [
    {
     "name": "stdout",
     "output_type": "stream",
     "text": [
      "Относительное различие среднего чека: -2.3 %\n"
     ]
    }
   ],
   "source": [
    "print('Относительное различие среднего чека:', ((orders[(orders['group'] == 'B') & (~orders['visitorid'].isin(abnormalUsers))]['revenue'].mean() / orders[(orders['group'] == 'A') & (~orders['visitorid'].isin(abnormalUsers))]['revenue'].mean()-1) * 100).round(1), '%')"
   ]
  },
  {
   "cell_type": "markdown",
   "metadata": {},
   "source": [
    "**Вывод:** Без учета аномальных покупок, различие среднего чека изменилось с 25.9% до -2.3%. При таком низком значении, естественно нам не удалось отвергнуть нулевую гипотезу об отсутсвии статистически значимых различий в среднем чеке групп А и В."
   ]
  },
  {
   "cell_type": "markdown",
   "metadata": {},
   "source": [
    "#### Решения по результатам А/В-теста"
   ]
  },
  {
   "cell_type": "markdown",
   "metadata": {},
   "source": [
    "Наше решение в корне зависит от одного фактора: какие показатели для бизнеса - ключевые. \n",
    "    \n",
    "**Вариант №1** Если на данном этапе жизни бизнеса ключевым показателем является конверсия посетителей в клиентов, то, считаю, что А/В-тест необходимо остановить и признать успешным, т.к. показатели конверсии для группы В выше, чем у группы А на 17.2% (по \"очищенным\" данным).\n",
    "\n",
    "**Вариант №2** Если на данном этапе жизни бизнеса ключевым показателем является размер среднего чека клиента, то, считаю, что А/В-тест необходимо остановить и признать неудачным, т.к. во-первых, к концу тестового периода данные по среднему чеку перестало \"штормить\" и они демонстрировали стабильную динамику, во-вторых, по результатам \"очищенных\" данных, на которые в первую очередь необходимо обращать внимание в данном кейсе, средний чек группы В оказался ниже среднего чека группы А."
   ]
  }
 ],
 "metadata": {
  "ExecuteTimeLog": [
   {
    "duration": 1366,
    "start_time": "2021-06-08T15:07:06.709Z"
   },
   {
    "duration": 35,
    "start_time": "2021-06-08T15:07:08.078Z"
   },
   {
    "duration": 8,
    "start_time": "2021-06-08T15:07:08.116Z"
   },
   {
    "duration": 12,
    "start_time": "2021-06-08T15:07:08.127Z"
   },
   {
    "duration": 12,
    "start_time": "2021-06-08T15:07:08.141Z"
   },
   {
    "duration": 59,
    "start_time": "2021-06-08T15:07:08.156Z"
   },
   {
    "duration": 29,
    "start_time": "2021-06-08T15:07:08.217Z"
   },
   {
    "duration": 24,
    "start_time": "2021-06-08T15:07:08.250Z"
   },
   {
    "duration": 20,
    "start_time": "2021-06-08T15:07:08.276Z"
   },
   {
    "duration": 30,
    "start_time": "2021-06-08T15:07:08.299Z"
   },
   {
    "duration": 382,
    "start_time": "2021-06-08T15:07:08.331Z"
   },
   {
    "duration": 447,
    "start_time": "2021-06-08T15:07:08.715Z"
   },
   {
    "duration": 324,
    "start_time": "2021-06-08T15:07:09.164Z"
   },
   {
    "duration": 413,
    "start_time": "2021-06-08T15:07:09.490Z"
   },
   {
    "duration": 484,
    "start_time": "2021-06-08T15:07:09.906Z"
   },
   {
    "duration": 290,
    "start_time": "2021-06-08T15:07:10.392Z"
   },
   {
    "duration": 340,
    "start_time": "2021-06-08T15:07:10.685Z"
   },
   {
    "duration": 448,
    "start_time": "2021-06-08T15:07:11.028Z"
   },
   {
    "duration": 13,
    "start_time": "2021-06-08T15:07:11.479Z"
   },
   {
    "duration": 592,
    "start_time": "2021-06-08T15:07:11.494Z"
   },
   {
    "duration": 14,
    "start_time": "2021-06-08T15:07:12.089Z"
   },
   {
    "duration": 438,
    "start_time": "2021-06-08T15:07:12.105Z"
   },
   {
    "duration": 8,
    "start_time": "2021-06-08T15:07:12.547Z"
   },
   {
    "duration": 424,
    "start_time": "2021-06-08T15:07:12.557Z"
   },
   {
    "duration": 6,
    "start_time": "2021-06-08T15:07:12.984Z"
   },
   {
    "duration": 10,
    "start_time": "2021-06-08T15:07:12.992Z"
   },
   {
    "duration": 6,
    "start_time": "2021-06-08T15:07:13.024Z"
   },
   {
    "duration": 9,
    "start_time": "2021-06-08T15:07:13.033Z"
   },
   {
    "duration": 8,
    "start_time": "2021-06-08T15:07:13.044Z"
   },
   {
    "duration": 15,
    "start_time": "2021-06-08T15:07:13.054Z"
   },
   {
    "duration": 12,
    "start_time": "2021-06-08T15:07:13.071Z"
   },
   {
    "duration": 44,
    "start_time": "2021-06-08T15:07:13.086Z"
   },
   {
    "duration": 5,
    "start_time": "2021-06-08T17:00:38.518Z"
   },
   {
    "duration": 21,
    "start_time": "2021-06-08T17:00:47.457Z"
   },
   {
    "duration": 14,
    "start_time": "2021-06-08T17:05:12.464Z"
   },
   {
    "duration": 24,
    "start_time": "2021-06-08T17:06:43.986Z"
   },
   {
    "duration": 13,
    "start_time": "2021-06-08T17:09:50.655Z"
   },
   {
    "duration": 17,
    "start_time": "2021-06-08T17:11:11.529Z"
   },
   {
    "duration": 477,
    "start_time": "2021-06-08T17:11:59.677Z"
   },
   {
    "duration": 6929,
    "start_time": "2021-06-08T17:12:15.178Z"
   },
   {
    "duration": 6606,
    "start_time": "2021-06-08T17:12:41.079Z"
   },
   {
    "duration": 15,
    "start_time": "2021-06-08T17:15:07.850Z"
   },
   {
    "duration": 7936,
    "start_time": "2021-06-08T17:15:10.285Z"
   },
   {
    "duration": 23,
    "start_time": "2021-06-08T17:15:38.624Z"
   },
   {
    "duration": 15,
    "start_time": "2021-06-08T17:15:50.653Z"
   },
   {
    "duration": 6812,
    "start_time": "2021-06-08T17:15:52.534Z"
   },
   {
    "duration": 20,
    "start_time": "2021-06-08T17:16:56.339Z"
   },
   {
    "duration": 14,
    "start_time": "2021-06-08T17:17:08.187Z"
   },
   {
    "duration": 13,
    "start_time": "2021-06-08T17:17:46.712Z"
   },
   {
    "duration": 23,
    "start_time": "2021-06-08T17:19:18.137Z"
   },
   {
    "duration": 1326,
    "start_time": "2021-06-08T17:44:35.557Z"
   },
   {
    "duration": 36,
    "start_time": "2021-06-08T17:44:36.886Z"
   },
   {
    "duration": 19,
    "start_time": "2021-06-08T17:44:36.926Z"
   },
   {
    "duration": 19,
    "start_time": "2021-06-08T17:44:36.948Z"
   },
   {
    "duration": 16,
    "start_time": "2021-06-08T17:44:36.970Z"
   },
   {
    "duration": 67,
    "start_time": "2021-06-08T17:44:36.989Z"
   },
   {
    "duration": 29,
    "start_time": "2021-06-08T17:44:37.058Z"
   },
   {
    "duration": 23,
    "start_time": "2021-06-08T17:44:37.090Z"
   },
   {
    "duration": 34,
    "start_time": "2021-06-08T17:44:37.116Z"
   },
   {
    "duration": 23,
    "start_time": "2021-06-08T17:44:37.152Z"
   },
   {
    "duration": 306,
    "start_time": "2021-06-08T17:44:37.177Z"
   },
   {
    "duration": 482,
    "start_time": "2021-06-08T17:44:37.486Z"
   },
   {
    "duration": 343,
    "start_time": "2021-06-08T17:44:37.971Z"
   },
   {
    "duration": 435,
    "start_time": "2021-06-08T17:44:38.316Z"
   },
   {
    "duration": 474,
    "start_time": "2021-06-08T17:44:38.754Z"
   },
   {
    "duration": 322,
    "start_time": "2021-06-08T17:44:39.231Z"
   },
   {
    "duration": 350,
    "start_time": "2021-06-08T17:44:39.556Z"
   },
   {
    "duration": 462,
    "start_time": "2021-06-08T17:44:39.908Z"
   },
   {
    "duration": 12,
    "start_time": "2021-06-08T17:44:40.372Z"
   },
   {
    "duration": 520,
    "start_time": "2021-06-08T17:44:40.386Z"
   },
   {
    "duration": 28,
    "start_time": "2021-06-08T17:44:40.909Z"
   },
   {
    "duration": 423,
    "start_time": "2021-06-08T17:44:40.941Z"
   },
   {
    "duration": 7,
    "start_time": "2021-06-08T17:44:41.369Z"
   },
   {
    "duration": 773,
    "start_time": "2021-06-08T17:44:41.379Z"
   },
   {
    "duration": 7,
    "start_time": "2021-06-08T17:44:42.156Z"
   },
   {
    "duration": 72,
    "start_time": "2021-06-08T17:44:42.166Z"
   },
   {
    "duration": 15,
    "start_time": "2021-06-08T17:44:42.241Z"
   },
   {
    "duration": 7,
    "start_time": "2021-06-08T17:44:42.258Z"
   },
   {
    "duration": 8,
    "start_time": "2021-06-08T17:44:42.267Z"
   },
   {
    "duration": 6,
    "start_time": "2021-06-08T17:44:42.341Z"
   },
   {
    "duration": 9,
    "start_time": "2021-06-08T17:44:42.349Z"
   },
   {
    "duration": 14,
    "start_time": "2021-06-08T17:44:42.361Z"
   },
   {
    "duration": 411,
    "start_time": "2021-06-08T17:50:12.154Z"
   },
   {
    "duration": 14,
    "start_time": "2021-06-08T17:50:31.091Z"
   },
   {
    "duration": 21,
    "start_time": "2021-06-08T17:51:33.798Z"
   },
   {
    "duration": 26,
    "start_time": "2021-06-08T17:52:14.636Z"
   },
   {
    "duration": 27,
    "start_time": "2021-06-08T17:52:21.727Z"
   },
   {
    "duration": 11,
    "start_time": "2021-06-08T17:52:37.306Z"
   },
   {
    "duration": 17,
    "start_time": "2021-06-08T18:30:31.668Z"
   },
   {
    "duration": 11,
    "start_time": "2021-06-08T18:31:16.507Z"
   },
   {
    "duration": 21,
    "start_time": "2021-06-08T18:31:28.570Z"
   },
   {
    "duration": 11,
    "start_time": "2021-06-08T18:31:37.508Z"
   },
   {
    "duration": 9,
    "start_time": "2021-06-08T18:45:14.493Z"
   },
   {
    "duration": 91,
    "start_time": "2021-06-08T18:45:24.885Z"
   },
   {
    "duration": 9,
    "start_time": "2021-06-08T18:45:29.674Z"
   },
   {
    "duration": 10,
    "start_time": "2021-06-08T18:46:04.553Z"
   },
   {
    "duration": 10,
    "start_time": "2021-06-08T18:46:34.738Z"
   },
   {
    "duration": 132,
    "start_time": "2021-06-08T18:47:04.874Z"
   },
   {
    "duration": 9,
    "start_time": "2021-06-08T18:47:07.567Z"
   },
   {
    "duration": 6,
    "start_time": "2021-06-08T18:48:23.590Z"
   },
   {
    "duration": 13,
    "start_time": "2021-06-08T18:49:15.689Z"
   },
   {
    "duration": 26,
    "start_time": "2021-06-08T18:53:48.354Z"
   },
   {
    "duration": 16,
    "start_time": "2021-06-08T18:53:52.871Z"
   },
   {
    "duration": 29,
    "start_time": "2021-06-08T18:54:35.317Z"
   },
   {
    "duration": 25,
    "start_time": "2021-06-08T18:54:51.307Z"
   },
   {
    "duration": 117,
    "start_time": "2021-06-08T18:56:05.092Z"
   },
   {
    "duration": 6,
    "start_time": "2021-06-08T18:56:11.127Z"
   },
   {
    "duration": 6,
    "start_time": "2021-06-08T18:57:09.279Z"
   },
   {
    "duration": 20,
    "start_time": "2021-06-08T18:57:39.441Z"
   },
   {
    "duration": 21,
    "start_time": "2021-06-08T19:04:32.115Z"
   },
   {
    "duration": 13,
    "start_time": "2021-06-08T19:05:22.296Z"
   },
   {
    "duration": 12,
    "start_time": "2021-06-08T19:08:21.241Z"
   },
   {
    "duration": 15,
    "start_time": "2021-06-08T19:08:55.262Z"
   },
   {
    "duration": 11,
    "start_time": "2021-06-08T19:09:50.679Z"
   },
   {
    "duration": 1671,
    "start_time": "2021-06-08T19:41:24.687Z"
   },
   {
    "duration": 1516,
    "start_time": "2021-06-08T19:42:07.129Z"
   },
   {
    "duration": 1202,
    "start_time": "2021-06-08T19:44:21.325Z"
   },
   {
    "duration": 1082,
    "start_time": "2021-06-08T19:44:30.150Z"
   },
   {
    "duration": 1132,
    "start_time": "2021-06-08T19:45:01.395Z"
   },
   {
    "duration": 17,
    "start_time": "2021-06-08T19:45:25.816Z"
   },
   {
    "duration": 1342,
    "start_time": "2021-06-08T19:46:25.423Z"
   },
   {
    "duration": 1273,
    "start_time": "2021-06-08T19:47:04.930Z"
   },
   {
    "duration": 1112,
    "start_time": "2021-06-08T19:47:55.940Z"
   },
   {
    "duration": 688,
    "start_time": "2021-06-08T19:49:00.285Z"
   },
   {
    "duration": 644,
    "start_time": "2021-06-08T19:50:26.920Z"
   },
   {
    "duration": 607,
    "start_time": "2021-06-08T19:52:34.644Z"
   },
   {
    "duration": 566,
    "start_time": "2021-06-08T19:53:55.033Z"
   },
   {
    "duration": 569,
    "start_time": "2021-06-08T19:54:04.432Z"
   },
   {
    "duration": 643,
    "start_time": "2021-06-08T19:54:15.039Z"
   },
   {
    "duration": 672,
    "start_time": "2021-06-08T19:55:06.880Z"
   },
   {
    "duration": 608,
    "start_time": "2021-06-08T19:55:31.267Z"
   },
   {
    "duration": 757,
    "start_time": "2021-06-08T19:56:06.992Z"
   },
   {
    "duration": 731,
    "start_time": "2021-06-08T19:56:18.826Z"
   },
   {
    "duration": 707,
    "start_time": "2021-06-08T19:56:21.833Z"
   },
   {
    "duration": 628,
    "start_time": "2021-06-08T19:56:26.769Z"
   },
   {
    "duration": 91,
    "start_time": "2021-06-08T19:57:40.869Z"
   },
   {
    "duration": 637,
    "start_time": "2021-06-08T19:57:47.379Z"
   },
   {
    "duration": 756,
    "start_time": "2021-06-08T19:58:20.660Z"
   },
   {
    "duration": 92,
    "start_time": "2021-06-08T19:59:48.026Z"
   },
   {
    "duration": 611,
    "start_time": "2021-06-08T19:59:53.997Z"
   },
   {
    "duration": 1329,
    "start_time": "2021-06-08T20:01:23.410Z"
   },
   {
    "duration": 36,
    "start_time": "2021-06-08T20:01:24.742Z"
   },
   {
    "duration": 4,
    "start_time": "2021-06-08T20:01:24.781Z"
   },
   {
    "duration": 13,
    "start_time": "2021-06-08T20:01:24.788Z"
   },
   {
    "duration": 27,
    "start_time": "2021-06-08T20:01:24.804Z"
   },
   {
    "duration": 50,
    "start_time": "2021-06-08T20:01:24.834Z"
   },
   {
    "duration": 29,
    "start_time": "2021-06-08T20:01:24.887Z"
   },
   {
    "duration": 25,
    "start_time": "2021-06-08T20:01:24.920Z"
   },
   {
    "duration": 23,
    "start_time": "2021-06-08T20:01:24.948Z"
   },
   {
    "duration": 8,
    "start_time": "2021-06-08T20:01:24.973Z"
   },
   {
    "duration": 308,
    "start_time": "2021-06-08T20:01:24.984Z"
   },
   {
    "duration": 459,
    "start_time": "2021-06-08T20:01:25.295Z"
   },
   {
    "duration": 350,
    "start_time": "2021-06-08T20:01:25.756Z"
   },
   {
    "duration": 418,
    "start_time": "2021-06-08T20:01:26.109Z"
   },
   {
    "duration": 485,
    "start_time": "2021-06-08T20:01:26.529Z"
   },
   {
    "duration": 312,
    "start_time": "2021-06-08T20:01:27.016Z"
   },
   {
    "duration": 319,
    "start_time": "2021-06-08T20:01:27.331Z"
   },
   {
    "duration": 426,
    "start_time": "2021-06-08T20:01:27.653Z"
   },
   {
    "duration": 12,
    "start_time": "2021-06-08T20:01:28.082Z"
   },
   {
    "duration": 493,
    "start_time": "2021-06-08T20:01:28.097Z"
   },
   {
    "duration": 33,
    "start_time": "2021-06-08T20:01:28.592Z"
   },
   {
    "duration": 428,
    "start_time": "2021-06-08T20:01:28.627Z"
   },
   {
    "duration": 8,
    "start_time": "2021-06-08T20:01:29.060Z"
   },
   {
    "duration": 428,
    "start_time": "2021-06-08T20:01:29.070Z"
   },
   {
    "duration": 5,
    "start_time": "2021-06-08T20:01:29.501Z"
   },
   {
    "duration": 20,
    "start_time": "2021-06-08T20:01:29.508Z"
   },
   {
    "duration": 23,
    "start_time": "2021-06-08T20:01:29.530Z"
   },
   {
    "duration": 10,
    "start_time": "2021-06-08T20:01:29.556Z"
   },
   {
    "duration": 11,
    "start_time": "2021-06-08T20:01:29.569Z"
   },
   {
    "duration": 46,
    "start_time": "2021-06-08T20:01:29.583Z"
   },
   {
    "duration": 14,
    "start_time": "2021-06-08T20:01:29.632Z"
   },
   {
    "duration": 20,
    "start_time": "2021-06-08T20:01:29.648Z"
   },
   {
    "duration": 7,
    "start_time": "2021-06-08T20:01:29.670Z"
   },
   {
    "duration": 54,
    "start_time": "2021-06-08T20:01:29.679Z"
   },
   {
    "duration": 12,
    "start_time": "2021-06-08T20:01:29.736Z"
   },
   {
    "duration": 1256,
    "start_time": "2021-06-08T20:01:29.750Z"
   },
   {
    "duration": 491,
    "start_time": "2021-06-08T20:03:00.720Z"
   },
   {
    "duration": 463,
    "start_time": "2021-06-08T20:04:01.713Z"
   },
   {
    "duration": 453,
    "start_time": "2021-06-08T20:04:35.130Z"
   },
   {
    "duration": 741,
    "start_time": "2021-06-08T20:16:36.575Z"
   },
   {
    "duration": 130,
    "start_time": "2021-06-08T20:46:12.424Z"
   },
   {
    "duration": 1902,
    "start_time": "2021-06-08T20:46:22.080Z"
   },
   {
    "duration": 46,
    "start_time": "2021-06-08T20:46:23.985Z"
   },
   {
    "duration": 23,
    "start_time": "2021-06-08T20:46:24.037Z"
   },
   {
    "duration": 16,
    "start_time": "2021-06-08T20:46:24.063Z"
   },
   {
    "duration": 11,
    "start_time": "2021-06-08T20:46:24.082Z"
   },
   {
    "duration": 53,
    "start_time": "2021-06-08T20:46:24.096Z"
   },
   {
    "duration": 33,
    "start_time": "2021-06-08T20:46:24.152Z"
   },
   {
    "duration": 38,
    "start_time": "2021-06-08T20:46:24.189Z"
   },
   {
    "duration": 39,
    "start_time": "2021-06-08T20:46:24.233Z"
   },
   {
    "duration": 8,
    "start_time": "2021-06-08T20:46:24.275Z"
   },
   {
    "duration": 346,
    "start_time": "2021-06-08T20:46:24.286Z"
   },
   {
    "duration": 498,
    "start_time": "2021-06-08T20:46:24.634Z"
   },
   {
    "duration": 401,
    "start_time": "2021-06-08T20:46:25.139Z"
   },
   {
    "duration": 476,
    "start_time": "2021-06-08T20:46:25.542Z"
   },
   {
    "duration": 697,
    "start_time": "2021-06-08T20:46:26.023Z"
   },
   {
    "duration": 427,
    "start_time": "2021-06-08T20:46:26.725Z"
   },
   {
    "duration": 506,
    "start_time": "2021-06-08T20:46:27.155Z"
   },
   {
    "duration": 683,
    "start_time": "2021-06-08T20:46:27.665Z"
   },
   {
    "duration": 11,
    "start_time": "2021-06-08T20:46:28.351Z"
   },
   {
    "duration": 701,
    "start_time": "2021-06-08T20:46:28.365Z"
   },
   {
    "duration": 22,
    "start_time": "2021-06-08T20:46:29.070Z"
   },
   {
    "duration": 649,
    "start_time": "2021-06-08T20:46:29.095Z"
   },
   {
    "duration": 10,
    "start_time": "2021-06-08T20:46:29.753Z"
   },
   {
    "duration": 616,
    "start_time": "2021-06-08T20:46:29.767Z"
   },
   {
    "duration": 7,
    "start_time": "2021-06-08T20:46:30.386Z"
   },
   {
    "duration": 19,
    "start_time": "2021-06-08T20:46:30.410Z"
   },
   {
    "duration": 27,
    "start_time": "2021-06-08T20:46:30.432Z"
   },
   {
    "duration": 15,
    "start_time": "2021-06-08T20:46:30.461Z"
   },
   {
    "duration": 44,
    "start_time": "2021-06-08T20:46:30.479Z"
   },
   {
    "duration": 19,
    "start_time": "2021-06-08T20:46:30.527Z"
   },
   {
    "duration": 34,
    "start_time": "2021-06-08T20:46:30.549Z"
   },
   {
    "duration": 30,
    "start_time": "2021-06-08T20:46:30.586Z"
   },
   {
    "duration": 16,
    "start_time": "2021-06-08T20:46:30.618Z"
   },
   {
    "duration": 16,
    "start_time": "2021-06-08T20:46:30.637Z"
   },
   {
    "duration": 22,
    "start_time": "2021-06-08T20:46:30.656Z"
   }
  ],
  "kernelspec": {
   "display_name": "Python 3",
   "language": "python",
   "name": "python3"
  },
  "language_info": {
   "codemirror_mode": {
    "name": "ipython",
    "version": 3
   },
   "file_extension": ".py",
   "mimetype": "text/x-python",
   "name": "python",
   "nbconvert_exporter": "python",
   "pygments_lexer": "ipython3",
   "version": "3.8.8"
  },
  "toc": {
   "base_numbering": 1,
   "nav_menu": {},
   "number_sections": true,
   "sideBar": true,
   "skip_h1_title": true,
   "title_cell": "Table of Contents",
   "title_sidebar": "Contents",
   "toc_cell": false,
   "toc_position": {
    "height": "calc(100% - 180px)",
    "left": "10px",
    "top": "150px",
    "width": "366.391px"
   },
   "toc_section_display": true,
   "toc_window_display": true
  }
 },
 "nbformat": 4,
 "nbformat_minor": 2
}
